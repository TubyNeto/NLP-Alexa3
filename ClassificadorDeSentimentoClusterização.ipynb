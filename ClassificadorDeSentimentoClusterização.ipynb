{
 "cells": [
  {
   "cell_type": "code",
   "execution_count": 1,
   "id": "a052cb92",
   "metadata": {},
   "outputs": [],
   "source": [
    "import pandas as pd"
   ]
  },
  {
   "cell_type": "code",
   "execution_count": 2,
   "id": "4311caa5",
   "metadata": {},
   "outputs": [],
   "source": [
    "df = pd.read_csv(\"Alexa3Reviews.csv\")"
   ]
  },
  {
   "cell_type": "code",
   "execution_count": 3,
   "id": "01083ddd",
   "metadata": {},
   "outputs": [],
   "source": [
    "df.drop(columns = ['Unnamed: 0'], axis = 1, inplace=True)"
   ]
  },
  {
   "cell_type": "code",
   "execution_count": 4,
   "id": "d37ce508",
   "metadata": {},
   "outputs": [
    {
     "data": {
      "text/html": [
       "<div>\n",
       "<style scoped>\n",
       "    .dataframe tbody tr th:only-of-type {\n",
       "        vertical-align: middle;\n",
       "    }\n",
       "\n",
       "    .dataframe tbody tr th {\n",
       "        vertical-align: top;\n",
       "    }\n",
       "\n",
       "    .dataframe thead th {\n",
       "        text-align: right;\n",
       "    }\n",
       "</style>\n",
       "<table border=\"1\" class=\"dataframe\">\n",
       "  <thead>\n",
       "    <tr style=\"text-align: right;\">\n",
       "      <th></th>\n",
       "      <th>title</th>\n",
       "      <th>text</th>\n",
       "      <th>rating</th>\n",
       "      <th>date</th>\n",
       "    </tr>\n",
       "  </thead>\n",
       "  <tbody>\n",
       "    <tr>\n",
       "      <th>0</th>\n",
       "      <td>Excelente custo benefício</td>\n",
       "      <td>Sobre o produto: visual muito bonito e bem aca...</td>\n",
       "      <td>5</td>\n",
       "      <td>9 de outubro de 2019</td>\n",
       "    </tr>\n",
       "    <tr>\n",
       "      <th>1</th>\n",
       "      <td>Péssimo início - defeito ao tirar da caixa</td>\n",
       "      <td>O dispositivo possui 4 microfones direcionais ...</td>\n",
       "      <td>1</td>\n",
       "      <td>8 de outubro de 2019</td>\n",
       "    </tr>\n",
       "    <tr>\n",
       "      <th>2</th>\n",
       "      <td>Excelente produto!</td>\n",
       "      <td>Comprei o Alexa Echo Dot (terceira geração) as...</td>\n",
       "      <td>5</td>\n",
       "      <td>8 de outubro de 2019</td>\n",
       "    </tr>\n",
       "    <tr>\n",
       "      <th>3</th>\n",
       "      <td>Muito Satisfeito</td>\n",
       "      <td>Ainda estou me adaptando com o Echo Dot.Fiz a ...</td>\n",
       "      <td>5</td>\n",
       "      <td>13 de novembro de 2019</td>\n",
       "    </tr>\n",
       "    <tr>\n",
       "      <th>4</th>\n",
       "      <td>Decepção é o meu sentimento.</td>\n",
       "      <td>Acho que a propaganda desse produto está sendo...</td>\n",
       "      <td>1</td>\n",
       "      <td>23 de outubro de 2019</td>\n",
       "    </tr>\n",
       "  </tbody>\n",
       "</table>\n",
       "</div>"
      ],
      "text/plain": [
       "                                        title  \\\n",
       "0                   Excelente custo benefício   \n",
       "1  Péssimo início - defeito ao tirar da caixa   \n",
       "2                          Excelente produto!   \n",
       "3                            Muito Satisfeito   \n",
       "4                Decepção é o meu sentimento.   \n",
       "\n",
       "                                                text  rating  \\\n",
       "0  Sobre o produto: visual muito bonito e bem aca...       5   \n",
       "1  O dispositivo possui 4 microfones direcionais ...       1   \n",
       "2  Comprei o Alexa Echo Dot (terceira geração) as...       5   \n",
       "3  Ainda estou me adaptando com o Echo Dot.Fiz a ...       5   \n",
       "4  Acho que a propaganda desse produto está sendo...       1   \n",
       "\n",
       "                     date  \n",
       "0    9 de outubro de 2019  \n",
       "1    8 de outubro de 2019  \n",
       "2    8 de outubro de 2019  \n",
       "3  13 de novembro de 2019  \n",
       "4   23 de outubro de 2019  "
      ]
     },
     "execution_count": 4,
     "metadata": {},
     "output_type": "execute_result"
    }
   ],
   "source": [
    "df.head()"
   ]
  },
  {
   "cell_type": "markdown",
   "id": "ee2321b8",
   "metadata": {},
   "source": [
    "## Distribuicao das Avaliacoes"
   ]
  },
  {
   "cell_type": "code",
   "execution_count": 5,
   "id": "6b992d79",
   "metadata": {
    "scrolled": true
   },
   "outputs": [
    {
     "name": "stdout",
     "output_type": "stream",
     "text": [
      "Number of rows per star rating:\n",
      "5    3475\n",
      "4     818\n",
      "3     304\n",
      "1     233\n",
      "2     150\n",
      "Name: rating, dtype: int64\n"
     ]
    },
    {
     "data": {
      "image/png": "[encoded data removed]",
      "text/plain": [
       "<Figure size 432x288 with 1 Axes>"
      ]
     },
     "metadata": {
      "needs_background": "light"
     },
     "output_type": "display_data"
    }
   ],
   "source": [
    "import matplotlib.pyplot as plt \n",
    "\n",
    "print(\"Number of rows per star rating:\")\n",
    "print(df['rating'].value_counts())\n",
    "\n",
    "# Plotting the sentiment distribution\n",
    "plt.figure()\n",
    "pd.value_counts(df['rating']).plot.bar(title=\"Sentiment distribution in df\")\n",
    "plt.xlabel(\"Sentiment\")\n",
    "plt.ylabel(\"No. of rows in df\")\n",
    "plt.show()"
   ]
  },
  {
   "cell_type": "markdown",
   "id": "d55d884c",
   "metadata": {},
   "source": [
    "## Tokenizacao"
   ]
  },
  {
   "cell_type": "code",
   "execution_count": 6,
   "id": "6ae375c2",
   "metadata": {},
   "outputs": [],
   "source": [
    "import spacy\n",
    "from collections import Counter\n",
    "from spacy.tokenizer import Tokenizer\n",
    "from spacy.lang.pt import Portuguese\n",
    "\n",
    "# É necessário instalar o pacote da lingua portuguesa no prompt do anaconda\n",
    "\n",
    "nlp = Portuguese()\n",
    "tokenizer = nlp.tokenizer\n",
    "text_token = []\n",
    "\n",
    "for line in df['text']: \n",
    "    tokens = tokenizer(line)\n",
    "    text_token.append(list(tokens))\n",
    "    \n",
    "df[\"text_token\"] = text_token"
   ]
  },
  {
   "cell_type": "code",
   "execution_count": 7,
   "id": "8363911c",
   "metadata": {
    "scrolled": true
   },
   "outputs": [
    {
     "data": {
      "text/html": [
       "<div>\n",
       "<style scoped>\n",
       "    .dataframe tbody tr th:only-of-type {\n",
       "        vertical-align: middle;\n",
       "    }\n",
       "\n",
       "    .dataframe tbody tr th {\n",
       "        vertical-align: top;\n",
       "    }\n",
       "\n",
       "    .dataframe thead th {\n",
       "        text-align: right;\n",
       "    }\n",
       "</style>\n",
       "<table border=\"1\" class=\"dataframe\">\n",
       "  <thead>\n",
       "    <tr style=\"text-align: right;\">\n",
       "      <th></th>\n",
       "      <th>title</th>\n",
       "      <th>text</th>\n",
       "      <th>rating</th>\n",
       "      <th>date</th>\n",
       "      <th>text_token</th>\n",
       "    </tr>\n",
       "  </thead>\n",
       "  <tbody>\n",
       "    <tr>\n",
       "      <th>0</th>\n",
       "      <td>Excelente custo benefício</td>\n",
       "      <td>Sobre o produto: visual muito bonito e bem aca...</td>\n",
       "      <td>5</td>\n",
       "      <td>9 de outubro de 2019</td>\n",
       "      <td>[Sobre, o, produto, :, visual, muito, bonito, ...</td>\n",
       "    </tr>\n",
       "    <tr>\n",
       "      <th>1</th>\n",
       "      <td>Péssimo início - defeito ao tirar da caixa</td>\n",
       "      <td>O dispositivo possui 4 microfones direcionais ...</td>\n",
       "      <td>1</td>\n",
       "      <td>8 de outubro de 2019</td>\n",
       "      <td>[O, dispositivo, possui, 4, microfones, direci...</td>\n",
       "    </tr>\n",
       "    <tr>\n",
       "      <th>2</th>\n",
       "      <td>Excelente produto!</td>\n",
       "      <td>Comprei o Alexa Echo Dot (terceira geração) as...</td>\n",
       "      <td>5</td>\n",
       "      <td>8 de outubro de 2019</td>\n",
       "      <td>[Comprei, o, Alexa, Echo, Dot, (, terceira, ge...</td>\n",
       "    </tr>\n",
       "    <tr>\n",
       "      <th>3</th>\n",
       "      <td>Muito Satisfeito</td>\n",
       "      <td>Ainda estou me adaptando com o Echo Dot.Fiz a ...</td>\n",
       "      <td>5</td>\n",
       "      <td>13 de novembro de 2019</td>\n",
       "      <td>[Ainda, estou, me, adaptando, com, o, Echo, Do...</td>\n",
       "    </tr>\n",
       "    <tr>\n",
       "      <th>4</th>\n",
       "      <td>Decepção é o meu sentimento.</td>\n",
       "      <td>Acho que a propaganda desse produto está sendo...</td>\n",
       "      <td>1</td>\n",
       "      <td>23 de outubro de 2019</td>\n",
       "      <td>[Acho, que, a, propaganda, desse, produto, est...</td>\n",
       "    </tr>\n",
       "  </tbody>\n",
       "</table>\n",
       "</div>"
      ],
      "text/plain": [
       "                                        title  \\\n",
       "0                   Excelente custo benefício   \n",
       "1  Péssimo início - defeito ao tirar da caixa   \n",
       "2                          Excelente produto!   \n",
       "3                            Muito Satisfeito   \n",
       "4                Decepção é o meu sentimento.   \n",
       "\n",
       "                                                text  rating  \\\n",
       "0  Sobre o produto: visual muito bonito e bem aca...       5   \n",
       "1  O dispositivo possui 4 microfones direcionais ...       1   \n",
       "2  Comprei o Alexa Echo Dot (terceira geração) as...       5   \n",
       "3  Ainda estou me adaptando com o Echo Dot.Fiz a ...       5   \n",
       "4  Acho que a propaganda desse produto está sendo...       1   \n",
       "\n",
       "                     date                                         text_token  \n",
       "0    9 de outubro de 2019  [Sobre, o, produto, :, visual, muito, bonito, ...  \n",
       "1    8 de outubro de 2019  [O, dispositivo, possui, 4, microfones, direci...  \n",
       "2    8 de outubro de 2019  [Comprei, o, Alexa, Echo, Dot, (, terceira, ge...  \n",
       "3  13 de novembro de 2019  [Ainda, estou, me, adaptando, com, o, Echo, Do...  \n",
       "4   23 de outubro de 2019  [Acho, que, a, propaganda, desse, produto, est...  "
      ]
     },
     "execution_count": 7,
     "metadata": {},
     "output_type": "execute_result"
    }
   ],
   "source": [
    "df.head()"
   ]
  },
  {
   "cell_type": "markdown",
   "id": "e4797734",
   "metadata": {},
   "source": [
    "## Stemming"
   ]
  },
  {
   "cell_type": "code",
   "execution_count": 8,
   "id": "9b0be90d",
   "metadata": {},
   "outputs": [
    {
     "name": "stderr",
     "output_type": "stream",
     "text": [
      "[nltk_data] Downloading package rslp to C:\\Users\\Tuby\n",
      "[nltk_data]     Neto\\AppData\\Roaming\\nltk_data...\n",
      "[nltk_data]   Package rslp is already up-to-date!\n"
     ]
    },
    {
     "data": {
      "text/plain": [
       "True"
      ]
     },
     "execution_count": 8,
     "metadata": {},
     "output_type": "execute_result"
    }
   ],
   "source": [
    "import nltk\n",
    "nltk.download('rslp')"
   ]
  },
  {
   "cell_type": "code",
   "execution_count": 9,
   "id": "cae9e222",
   "metadata": {},
   "outputs": [],
   "source": [
    "import spacy, nltk\n",
    "import nltk\n",
    "from nltk.stem.porter import *\n",
    "from nltk.stem import RSLPStemmer\n",
    "\n",
    "\n",
    "stemmer = RSLPStemmer()\n",
    "\n",
    "stem_token_text = []\n",
    "\n",
    "for doc in text_token:\n",
    "    stem_list = []\n",
    "    for tkn in doc:\n",
    "        stem = stemmer.stem(str(tkn))\n",
    "        stem_list.append(stem)\n",
    "    stem_token_text.append(stem_list)\n",
    "df['Stem_teken_text'] = stem_token_text"
   ]
  },
  {
   "cell_type": "code",
   "execution_count": 10,
   "id": "4659ae3a",
   "metadata": {
    "scrolled": true
   },
   "outputs": [
    {
     "data": {
      "text/html": [
       "<div>\n",
       "<style scoped>\n",
       "    .dataframe tbody tr th:only-of-type {\n",
       "        vertical-align: middle;\n",
       "    }\n",
       "\n",
       "    .dataframe tbody tr th {\n",
       "        vertical-align: top;\n",
       "    }\n",
       "\n",
       "    .dataframe thead th {\n",
       "        text-align: right;\n",
       "    }\n",
       "</style>\n",
       "<table border=\"1\" class=\"dataframe\">\n",
       "  <thead>\n",
       "    <tr style=\"text-align: right;\">\n",
       "      <th></th>\n",
       "      <th>title</th>\n",
       "      <th>text</th>\n",
       "      <th>rating</th>\n",
       "      <th>date</th>\n",
       "      <th>text_token</th>\n",
       "      <th>Stem_teken_text</th>\n",
       "    </tr>\n",
       "  </thead>\n",
       "  <tbody>\n",
       "    <tr>\n",
       "      <th>0</th>\n",
       "      <td>Excelente custo benefício</td>\n",
       "      <td>Sobre o produto: visual muito bonito e bem aca...</td>\n",
       "      <td>5</td>\n",
       "      <td>9 de outubro de 2019</td>\n",
       "      <td>[Sobre, o, produto, :, visual, muito, bonito, ...</td>\n",
       "      <td>[sobr, o, produt, :, visual, muit, bonit, e, b...</td>\n",
       "    </tr>\n",
       "    <tr>\n",
       "      <th>1</th>\n",
       "      <td>Péssimo início - defeito ao tirar da caixa</td>\n",
       "      <td>O dispositivo possui 4 microfones direcionais ...</td>\n",
       "      <td>1</td>\n",
       "      <td>8 de outubro de 2019</td>\n",
       "      <td>[O, dispositivo, possui, 4, microfones, direci...</td>\n",
       "      <td>[o, disposi, possu, 4, microfon, direc, do, to...</td>\n",
       "    </tr>\n",
       "    <tr>\n",
       "      <th>2</th>\n",
       "      <td>Excelente produto!</td>\n",
       "      <td>Comprei o Alexa Echo Dot (terceira geração) as...</td>\n",
       "      <td>5</td>\n",
       "      <td>8 de outubro de 2019</td>\n",
       "      <td>[Comprei, o, Alexa, Echo, Dot, (, terceira, ge...</td>\n",
       "      <td>[compr, o, alex, ech, dot, (, terc, ger, ), as...</td>\n",
       "    </tr>\n",
       "    <tr>\n",
       "      <th>3</th>\n",
       "      <td>Muito Satisfeito</td>\n",
       "      <td>Ainda estou me adaptando com o Echo Dot.Fiz a ...</td>\n",
       "      <td>5</td>\n",
       "      <td>13 de novembro de 2019</td>\n",
       "      <td>[Ainda, estou, me, adaptando, com, o, Echo, Do...</td>\n",
       "      <td>[aind, est, me, adapt, com, o, ech, dot, ., fi...</td>\n",
       "    </tr>\n",
       "    <tr>\n",
       "      <th>4</th>\n",
       "      <td>Decepção é o meu sentimento.</td>\n",
       "      <td>Acho que a propaganda desse produto está sendo...</td>\n",
       "      <td>1</td>\n",
       "      <td>23 de outubro de 2019</td>\n",
       "      <td>[Acho, que, a, propaganda, desse, produto, est...</td>\n",
       "      <td>[ach, que, a, propagand, dess, produt, est, se...</td>\n",
       "    </tr>\n",
       "  </tbody>\n",
       "</table>\n",
       "</div>"
      ],
      "text/plain": [
       "                                        title  \\\n",
       "0                   Excelente custo benefício   \n",
       "1  Péssimo início - defeito ao tirar da caixa   \n",
       "2                          Excelente produto!   \n",
       "3                            Muito Satisfeito   \n",
       "4                Decepção é o meu sentimento.   \n",
       "\n",
       "                                                text  rating  \\\n",
       "0  Sobre o produto: visual muito bonito e bem aca...       5   \n",
       "1  O dispositivo possui 4 microfones direcionais ...       1   \n",
       "2  Comprei o Alexa Echo Dot (terceira geração) as...       5   \n",
       "3  Ainda estou me adaptando com o Echo Dot.Fiz a ...       5   \n",
       "4  Acho que a propaganda desse produto está sendo...       1   \n",
       "\n",
       "                     date                                         text_token  \\\n",
       "0    9 de outubro de 2019  [Sobre, o, produto, :, visual, muito, bonito, ...   \n",
       "1    8 de outubro de 2019  [O, dispositivo, possui, 4, microfones, direci...   \n",
       "2    8 de outubro de 2019  [Comprei, o, Alexa, Echo, Dot, (, terceira, ge...   \n",
       "3  13 de novembro de 2019  [Ainda, estou, me, adaptando, com, o, Echo, Do...   \n",
       "4   23 de outubro de 2019  [Acho, que, a, propaganda, desse, produto, est...   \n",
       "\n",
       "                                     Stem_teken_text  \n",
       "0  [sobr, o, produt, :, visual, muit, bonit, e, b...  \n",
       "1  [o, disposi, possu, 4, microfon, direc, do, to...  \n",
       "2  [compr, o, alex, ech, dot, (, terc, ger, ), as...  \n",
       "3  [aind, est, me, adapt, com, o, ech, dot, ., fi...  \n",
       "4  [ach, que, a, propagand, dess, produt, est, se...  "
      ]
     },
     "execution_count": 10,
     "metadata": {},
     "output_type": "execute_result"
    }
   ],
   "source": [
    "df.head()"
   ]
  },
  {
   "cell_type": "markdown",
   "id": "35a9a25f",
   "metadata": {},
   "source": [
    "## Bag Of Words"
   ]
  },
  {
   "cell_type": "code",
   "execution_count": 11,
   "id": "8b2d3fab",
   "metadata": {},
   "outputs": [],
   "source": [
    "from sklearn.feature_extraction.text import CountVectorizer"
   ]
  },
  {
   "cell_type": "code",
   "execution_count": 12,
   "id": "8ec5d698",
   "metadata": {},
   "outputs": [
    {
     "name": "stderr",
     "output_type": "stream",
     "text": [
      "<ipython-input-12-6ac7513d89a9>:2: SettingWithCopyWarning: \n",
      "A value is trying to be set on a copy of a slice from a DataFrame\n",
      "\n",
      "See the caveats in the documentation: https://pandas.pydata.org/pandas-docs/stable/user_guide/indexing.html#returning-a-view-versus-a-copy\n",
      "  df[\"Stem_teken_text\"][i] = \", \".join([str(item) for item in df[\"Stem_teken_text\"][i]])\n",
      "<ipython-input-12-6ac7513d89a9>:7: SettingWithCopyWarning: \n",
      "A value is trying to be set on a copy of a slice from a DataFrame\n",
      "\n",
      "See the caveats in the documentation: https://pandas.pydata.org/pandas-docs/stable/user_guide/indexing.html#returning-a-view-versus-a-copy\n",
      "  df[\"text_token\"][i] = \", \".join([str(item) for item in df[\"text_token\"][i]])\n"
     ]
    },
    {
     "data": {
      "text/plain": [
       "0       Sobre, o, produto, :, visual, muito, bonito, e...\n",
       "1       O, dispositivo, possui, 4, microfones, direcio...\n",
       "2       Comprei, o, Alexa, Echo, Dot, (, terceira, ger...\n",
       "3       Ainda, estou, me, adaptando, com, o, Echo, Dot...\n",
       "4       Acho, que, a, propaganda, desse, produto, está...\n",
       "                              ...                        \n",
       "4975    Quería, muito, uma, caixa, de, som, para, ouvi...\n",
       "4976    Muito, bom, ,, melhor, ainda, do, que, eu, pen...\n",
       "4977    O, que, mais, gostei, ,, é, a, qualidade, de, ...\n",
       "4978    Muito, boa, ,, reconhece, muito, bem, a, voz, ...\n",
       "4979    Ótimo, produto, ,, desperta, ,, acende, a, lâm...\n",
       "Name: text_token, Length: 4980, dtype: object"
      ]
     },
     "execution_count": 12,
     "metadata": {},
     "output_type": "execute_result"
    }
   ],
   "source": [
    "for i in range(len(df[\"Stem_teken_text\"])):\n",
    "    df[\"Stem_teken_text\"][i] = \", \".join([str(item) for item in df[\"Stem_teken_text\"][i]])\n",
    "\n",
    "df[\"Stem_teken_text\"]\n",
    "\n",
    "for i in range(len(df[\"text_token\"])):\n",
    "    df[\"text_token\"][i] = \", \".join([str(item) for item in df[\"text_token\"][i]])\n",
    "\n",
    "df[\"text_token\"]"
   ]
  },
  {
   "cell_type": "code",
   "execution_count": 13,
   "id": "00bbb5a8",
   "metadata": {
    "scrolled": true
   },
   "outputs": [
    {
     "data": {
      "text/html": [
       "<div>\n",
       "<style scoped>\n",
       "    .dataframe tbody tr th:only-of-type {\n",
       "        vertical-align: middle;\n",
       "    }\n",
       "\n",
       "    .dataframe tbody tr th {\n",
       "        vertical-align: top;\n",
       "    }\n",
       "\n",
       "    .dataframe thead th {\n",
       "        text-align: right;\n",
       "    }\n",
       "</style>\n",
       "<table border=\"1\" class=\"dataframe\">\n",
       "  <thead>\n",
       "    <tr style=\"text-align: right;\">\n",
       "      <th></th>\n",
       "      <th>title</th>\n",
       "      <th>text</th>\n",
       "      <th>rating</th>\n",
       "      <th>date</th>\n",
       "      <th>text_token</th>\n",
       "      <th>Stem_teken_text</th>\n",
       "    </tr>\n",
       "  </thead>\n",
       "  <tbody>\n",
       "    <tr>\n",
       "      <th>0</th>\n",
       "      <td>Excelente custo benefício</td>\n",
       "      <td>Sobre o produto: visual muito bonito e bem aca...</td>\n",
       "      <td>5</td>\n",
       "      <td>9 de outubro de 2019</td>\n",
       "      <td>Sobre, o, produto, :, visual, muito, bonito, e...</td>\n",
       "      <td>sobr, o, produt, :, visual, muit, bonit, e, be...</td>\n",
       "    </tr>\n",
       "    <tr>\n",
       "      <th>1</th>\n",
       "      <td>Péssimo início - defeito ao tirar da caixa</td>\n",
       "      <td>O dispositivo possui 4 microfones direcionais ...</td>\n",
       "      <td>1</td>\n",
       "      <td>8 de outubro de 2019</td>\n",
       "      <td>O, dispositivo, possui, 4, microfones, direcio...</td>\n",
       "      <td>o, disposi, possu, 4, microfon, direc, do, top...</td>\n",
       "    </tr>\n",
       "    <tr>\n",
       "      <th>2</th>\n",
       "      <td>Excelente produto!</td>\n",
       "      <td>Comprei o Alexa Echo Dot (terceira geração) as...</td>\n",
       "      <td>5</td>\n",
       "      <td>8 de outubro de 2019</td>\n",
       "      <td>Comprei, o, Alexa, Echo, Dot, (, terceira, ger...</td>\n",
       "      <td>compr, o, alex, ech, dot, (, terc, ger, ), ass...</td>\n",
       "    </tr>\n",
       "    <tr>\n",
       "      <th>3</th>\n",
       "      <td>Muito Satisfeito</td>\n",
       "      <td>Ainda estou me adaptando com o Echo Dot.Fiz a ...</td>\n",
       "      <td>5</td>\n",
       "      <td>13 de novembro de 2019</td>\n",
       "      <td>Ainda, estou, me, adaptando, com, o, Echo, Dot...</td>\n",
       "      <td>aind, est, me, adapt, com, o, ech, dot, ., fiz...</td>\n",
       "    </tr>\n",
       "    <tr>\n",
       "      <th>4</th>\n",
       "      <td>Decepção é o meu sentimento.</td>\n",
       "      <td>Acho que a propaganda desse produto está sendo...</td>\n",
       "      <td>1</td>\n",
       "      <td>23 de outubro de 2019</td>\n",
       "      <td>Acho, que, a, propaganda, desse, produto, está...</td>\n",
       "      <td>ach, que, a, propagand, dess, produt, est, sen...</td>\n",
       "    </tr>\n",
       "  </tbody>\n",
       "</table>\n",
       "</div>"
      ],
      "text/plain": [
       "                                        title  \\\n",
       "0                   Excelente custo benefício   \n",
       "1  Péssimo início - defeito ao tirar da caixa   \n",
       "2                          Excelente produto!   \n",
       "3                            Muito Satisfeito   \n",
       "4                Decepção é o meu sentimento.   \n",
       "\n",
       "                                                text  rating  \\\n",
       "0  Sobre o produto: visual muito bonito e bem aca...       5   \n",
       "1  O dispositivo possui 4 microfones direcionais ...       1   \n",
       "2  Comprei o Alexa Echo Dot (terceira geração) as...       5   \n",
       "3  Ainda estou me adaptando com o Echo Dot.Fiz a ...       5   \n",
       "4  Acho que a propaganda desse produto está sendo...       1   \n",
       "\n",
       "                     date                                         text_token  \\\n",
       "0    9 de outubro de 2019  Sobre, o, produto, :, visual, muito, bonito, e...   \n",
       "1    8 de outubro de 2019  O, dispositivo, possui, 4, microfones, direcio...   \n",
       "2    8 de outubro de 2019  Comprei, o, Alexa, Echo, Dot, (, terceira, ger...   \n",
       "3  13 de novembro de 2019  Ainda, estou, me, adaptando, com, o, Echo, Dot...   \n",
       "4   23 de outubro de 2019  Acho, que, a, propaganda, desse, produto, está...   \n",
       "\n",
       "                                     Stem_teken_text  \n",
       "0  sobr, o, produt, :, visual, muit, bonit, e, be...  \n",
       "1  o, disposi, possu, 4, microfon, direc, do, top...  \n",
       "2  compr, o, alex, ech, dot, (, terc, ger, ), ass...  \n",
       "3  aind, est, me, adapt, com, o, ech, dot, ., fiz...  \n",
       "4  ach, que, a, propagand, dess, produt, est, sen...  "
      ]
     },
     "execution_count": 13,
     "metadata": {},
     "output_type": "execute_result"
    }
   ],
   "source": [
    "df.head()"
   ]
  },
  {
   "cell_type": "markdown",
   "id": "6f23006a",
   "metadata": {},
   "source": [
    " ## Consultando o Vocabulario"
   ]
  },
  {
   "cell_type": "code",
   "execution_count": 45,
   "id": "896b675c",
   "metadata": {},
   "outputs": [
    {
     "name": "stdout",
     "output_type": "stream",
     "text": [
      "O tamanho do vocabulário é:  159\n"
     ]
    }
   ],
   "source": [
    "import collections\n",
    "word_count = Counter()\n",
    "for token in list(df['Stem_teken_text']): \n",
    "    word_count[token] += 1\n",
    "\n",
    "word_count\n",
    "vocabSize = len(word_count)\n",
    "\n",
    "print(\"O tamanho do vocabulário é: \", vocabSize)"
   ]
  },
  {
   "cell_type": "code",
   "execution_count": 16,
   "id": "f9c0b882",
   "metadata": {},
   "outputs": [],
   "source": [
    "from tensorflow.keras.preprocessing.text import Tokenizer\n",
    "\n",
    "vocab_size = vocabSize\n",
    "oov_token = \"<OOV>\"\n",
    "tokenizer = Tokenizer(num_words = vocab_size, oov_token=oov_token)\n",
    "tokenizer.fit_on_texts(df['text_token'])"
   ]
  },
  {
   "cell_type": "code",
   "execution_count": 17,
   "id": "fe6cd679",
   "metadata": {},
   "outputs": [],
   "source": [
    "df[\"text_to_sequence\"] = tokenizer.texts_to_sequences(df['text_token'])"
   ]
  },
  {
   "cell_type": "markdown",
   "id": "68d21326",
   "metadata": {},
   "source": [
    "## Padding"
   ]
  },
  {
   "cell_type": "code",
   "execution_count": 18,
   "id": "cd901157",
   "metadata": {},
   "outputs": [],
   "source": [
    "from tensorflow.keras.preprocessing.sequence import pad_sequences\n",
    "\n",
    "max_length = 100\n",
    "padding_type = \"post\"\n",
    "trunction_type=\"post\"\n",
    "text_to_sequence_padded = pad_sequences(df[\"text_to_sequence\"], maxlen=max_length, padding=padding_type,\n",
    "                       truncating=trunction_type)\n",
    "df[\"text_to_sequence_padded\"] = list(text_to_sequence_padded)"
   ]
  },
  {
   "cell_type": "code",
   "execution_count": 25,
   "id": "1432cd06",
   "metadata": {},
   "outputs": [],
   "source": [
    "newRatings = []\n",
    "\n",
    "for rating in df[\"rating\"]:\n",
    "    if rating==1 or rating==2 or rating==3:\n",
    "        newRatings.append(0)\n",
    "    else:\n",
    "        newRatings.append(1)\n",
    "        \n",
    "df[\"rating\"] = newRatings"
   ]
  },
  {
   "cell_type": "code",
   "execution_count": 40,
   "id": "bd831248",
   "metadata": {},
   "outputs": [
    {
     "data": {
      "text/html": [
       "<div>\n",
       "<style scoped>\n",
       "    .dataframe tbody tr th:only-of-type {\n",
       "        vertical-align: middle;\n",
       "    }\n",
       "\n",
       "    .dataframe tbody tr th {\n",
       "        vertical-align: top;\n",
       "    }\n",
       "\n",
       "    .dataframe thead th {\n",
       "        text-align: right;\n",
       "    }\n",
       "</style>\n",
       "<table border=\"1\" class=\"dataframe\">\n",
       "  <thead>\n",
       "    <tr style=\"text-align: right;\">\n",
       "      <th></th>\n",
       "      <th>title</th>\n",
       "      <th>text</th>\n",
       "      <th>rating</th>\n",
       "      <th>date</th>\n",
       "      <th>text_token</th>\n",
       "      <th>Stem_teken_text</th>\n",
       "      <th>text_to_sequence</th>\n",
       "      <th>text_to_sequence_padded</th>\n",
       "      <th>Embedded</th>\n",
       "    </tr>\n",
       "  </thead>\n",
       "  <tbody>\n",
       "    <tr>\n",
       "      <th>0</th>\n",
       "      <td>Excelente custo benefício</td>\n",
       "      <td>Sobre o produto: visual muito bonito e bem aca...</td>\n",
       "      <td>1</td>\n",
       "      <td>9 de outubro de 2019</td>\n",
       "      <td>Sobre, o, produto, :, visual, muito, bonito, e...</td>\n",
       "      <td>sobr, o, produt, :, visual, muit, bonit, e, be...</td>\n",
       "      <td>[162, 5, 27, 1328, 11, 487, 4, 26, 1592, 1714,...</td>\n",
       "      <td>[162, 5, 27, 1328, 11, 487, 4, 26, 1592, 1714,...</td>\n",
       "      <td>[[0.0, 0.0, 0.0, 0.0, 0.0, 0.0, 0.0, 0.0, 0.0,...</td>\n",
       "    </tr>\n",
       "    <tr>\n",
       "      <th>1</th>\n",
       "      <td>Péssimo início - defeito ao tirar da caixa</td>\n",
       "      <td>O dispositivo possui 4 microfones direcionais ...</td>\n",
       "      <td>0</td>\n",
       "      <td>8 de outubro de 2019</td>\n",
       "      <td>O, dispositivo, possui, 4, microfones, direcio...</td>\n",
       "      <td>o, disposi, possu, 4, microfon, direc, do, top...</td>\n",
       "      <td>[5, 104, 265, 227, 327, 4894, 14, 580, 617, 21...</td>\n",
       "      <td>[5, 104, 265, 227, 327, 4894, 14, 580, 617, 21...</td>\n",
       "      <td>[[0.0, 0.0, 0.0, 0.0, 0.0, 0.0, 0.0, 0.0, 0.0,...</td>\n",
       "    </tr>\n",
       "    <tr>\n",
       "      <th>2</th>\n",
       "      <td>Excelente produto!</td>\n",
       "      <td>Comprei o Alexa Echo Dot (terceira geração) as...</td>\n",
       "      <td>1</td>\n",
       "      <td>8 de outubro de 2019</td>\n",
       "      <td>Comprei, o, Alexa, Echo, Dot, (, terceira, ger...</td>\n",
       "      <td>compr, o, alex, ech, dot, (, terc, ger, ), ass...</td>\n",
       "      <td>[59, 5, 17, 29, 41, 1198, 161, 176, 6, 272, 12...</td>\n",
       "      <td>[59, 5, 17, 29, 41, 1198, 161, 176, 6, 272, 12...</td>\n",
       "      <td>[[0.0, 0.0, 0.0, 0.0, 0.0, 0.0, 0.0, 0.0, 0.0,...</td>\n",
       "    </tr>\n",
       "    <tr>\n",
       "      <th>3</th>\n",
       "      <td>Muito Satisfeito</td>\n",
       "      <td>Ainda estou me adaptando com o Echo Dot.Fiz a ...</td>\n",
       "      <td>1</td>\n",
       "      <td>13 de novembro de 2019</td>\n",
       "      <td>Ainda, estou, me, adaptando, com, o, Echo, Dot...</td>\n",
       "      <td>aind, est, me, adapt, com, o, ech, dot, ., fiz...</td>\n",
       "      <td>[40, 48, 38, 1380, 10, 5, 29, 41, 311, 2, 358,...</td>\n",
       "      <td>[40, 48, 38, 1380, 10, 5, 29, 41, 311, 2, 358,...</td>\n",
       "      <td>[[0.0, 0.0, 0.0, 0.0, 0.0, 0.0, 0.0, 0.0, 0.0,...</td>\n",
       "    </tr>\n",
       "    <tr>\n",
       "      <th>4</th>\n",
       "      <td>Decepção é o meu sentimento.</td>\n",
       "      <td>Acho que a propaganda desse produto está sendo...</td>\n",
       "      <td>0</td>\n",
       "      <td>23 de outubro de 2019</td>\n",
       "      <td>Acho, que, a, propaganda, desse, produto, está...</td>\n",
       "      <td>ach, que, a, propagand, dess, produt, est, sen...</td>\n",
       "      <td>[155, 6, 2, 1288, 631, 27, 63, 200, 1017, 3, 2...</td>\n",
       "      <td>[155, 6, 2, 1288, 631, 27, 63, 200, 1017, 3, 2...</td>\n",
       "      <td>[[0.0, 0.0, 0.0, 0.0, 0.0, 0.0, 0.0, 0.0, 0.0,...</td>\n",
       "    </tr>\n",
       "  </tbody>\n",
       "</table>\n",
       "</div>"
      ],
      "text/plain": [
       "                                        title  \\\n",
       "0                   Excelente custo benefício   \n",
       "1  Péssimo início - defeito ao tirar da caixa   \n",
       "2                          Excelente produto!   \n",
       "3                            Muito Satisfeito   \n",
       "4                Decepção é o meu sentimento.   \n",
       "\n",
       "                                                text  rating  \\\n",
       "0  Sobre o produto: visual muito bonito e bem aca...       1   \n",
       "1  O dispositivo possui 4 microfones direcionais ...       0   \n",
       "2  Comprei o Alexa Echo Dot (terceira geração) as...       1   \n",
       "3  Ainda estou me adaptando com o Echo Dot.Fiz a ...       1   \n",
       "4  Acho que a propaganda desse produto está sendo...       0   \n",
       "\n",
       "                     date                                         text_token  \\\n",
       "0    9 de outubro de 2019  Sobre, o, produto, :, visual, muito, bonito, e...   \n",
       "1    8 de outubro de 2019  O, dispositivo, possui, 4, microfones, direcio...   \n",
       "2    8 de outubro de 2019  Comprei, o, Alexa, Echo, Dot, (, terceira, ger...   \n",
       "3  13 de novembro de 2019  Ainda, estou, me, adaptando, com, o, Echo, Dot...   \n",
       "4   23 de outubro de 2019  Acho, que, a, propaganda, desse, produto, está...   \n",
       "\n",
       "                                     Stem_teken_text  \\\n",
       "0  sobr, o, produt, :, visual, muit, bonit, e, be...   \n",
       "1  o, disposi, possu, 4, microfon, direc, do, top...   \n",
       "2  compr, o, alex, ech, dot, (, terc, ger, ), ass...   \n",
       "3  aind, est, me, adapt, com, o, ech, dot, ., fiz...   \n",
       "4  ach, que, a, propagand, dess, produt, est, sen...   \n",
       "\n",
       "                                    text_to_sequence  \\\n",
       "0  [162, 5, 27, 1328, 11, 487, 4, 26, 1592, 1714,...   \n",
       "1  [5, 104, 265, 227, 327, 4894, 14, 580, 617, 21...   \n",
       "2  [59, 5, 17, 29, 41, 1198, 161, 176, 6, 272, 12...   \n",
       "3  [40, 48, 38, 1380, 10, 5, 29, 41, 311, 2, 358,...   \n",
       "4  [155, 6, 2, 1288, 631, 27, 63, 200, 1017, 3, 2...   \n",
       "\n",
       "                             text_to_sequence_padded  \\\n",
       "0  [162, 5, 27, 1328, 11, 487, 4, 26, 1592, 1714,...   \n",
       "1  [5, 104, 265, 227, 327, 4894, 14, 580, 617, 21...   \n",
       "2  [59, 5, 17, 29, 41, 1198, 161, 176, 6, 272, 12...   \n",
       "3  [40, 48, 38, 1380, 10, 5, 29, 41, 311, 2, 358,...   \n",
       "4  [155, 6, 2, 1288, 631, 27, 63, 200, 1017, 3, 2...   \n",
       "\n",
       "                                            Embedded  \n",
       "0  [[0.0, 0.0, 0.0, 0.0, 0.0, 0.0, 0.0, 0.0, 0.0,...  \n",
       "1  [[0.0, 0.0, 0.0, 0.0, 0.0, 0.0, 0.0, 0.0, 0.0,...  \n",
       "2  [[0.0, 0.0, 0.0, 0.0, 0.0, 0.0, 0.0, 0.0, 0.0,...  \n",
       "3  [[0.0, 0.0, 0.0, 0.0, 0.0, 0.0, 0.0, 0.0, 0.0,...  \n",
       "4  [[0.0, 0.0, 0.0, 0.0, 0.0, 0.0, 0.0, 0.0, 0.0,...  "
      ]
     },
     "execution_count": 40,
     "metadata": {},
     "output_type": "execute_result"
    }
   ],
   "source": [
    "df.head()"
   ]
  },
  {
   "cell_type": "markdown",
   "id": "2b0e600f",
   "metadata": {},
   "source": [
    "## Clusterização dos Reviews"
   ]
  },
  {
   "cell_type": "code",
   "execution_count": 26,
   "id": "1244e731",
   "metadata": {},
   "outputs": [],
   "source": [
    "from sklearn.cluster import KMeans\n",
    "\n",
    "kmeans = KMeans(n_clusters=2, random_state=0).fit(text_to_sequence_padded)"
   ]
  },
  {
   "cell_type": "code",
   "execution_count": 27,
   "id": "f973a3cd",
   "metadata": {
    "scrolled": false
   },
   "outputs": [],
   "source": [
    "dist_cent = kmeans.transform(text_to_sequence_padded)"
   ]
  },
  {
   "cell_type": "code",
   "execution_count": 34,
   "id": "91373f7a",
   "metadata": {},
   "outputs": [
    {
     "name": "stdout",
     "output_type": "stream",
     "text": [
      "2378\n",
      "1345\n"
     ]
    }
   ],
   "source": [
    "dist_cent1 = []\n",
    "dist_cent2 = []\n",
    "\n",
    "for item in dist_cent:\n",
    "    dist_cent1.append(item[0])\n",
    "    dist_cent2.append(item[1])\n",
    "    \n",
    "\n",
    "index_cent1 = dist_cent1.index(min(dist_cent1))\n",
    "index_cent2 = dist_cent2.index(min(dist_cent2))\n",
    "        \n",
    "print(index_cent1)\n",
    "print(index_cent2)"
   ]
  },
  {
   "cell_type": "code",
   "execution_count": 38,
   "id": "98de25c0",
   "metadata": {},
   "outputs": [
    {
     "data": {
      "text/plain": [
       "'Muitas das vezes ela diz que não entende o que quero dizer, mesmo pedindo uma coisa muito simples.A parte de configurar rotinas é interessante.A integração com spotify não consegui fazer funcionar, então não tenho como pedir músicas pra ela.Precisa melhorar muito ainda.'"
      ]
     },
     "execution_count": 38,
     "metadata": {},
     "output_type": "execute_result"
    }
   ],
   "source": [
    "df.iloc[2378].text"
   ]
  },
  {
   "cell_type": "code",
   "execution_count": 39,
   "id": "19b7a49f",
   "metadata": {},
   "outputs": [
    {
     "data": {
      "text/plain": [
       "'A Echo Dot é ótima pra quem busca uma “facilidade” no seu dia-a-dia, como por exemplo ligar a luz do quarto, claro se você tiver a lâmpada inteligente ou então usa-la para saber clima, despertador ou para ouvir música. Recomendo bastante, ainda mais se tiver com um preço bem interessante.'"
      ]
     },
     "execution_count": 39,
     "metadata": {},
     "output_type": "execute_result"
    }
   ],
   "source": [
    "df.iloc[1345].text"
   ]
  },
  {
   "cell_type": "code",
   "execution_count": null,
   "id": "12874909",
   "metadata": {},
   "outputs": [],
   "source": []
  }
 ],
 "metadata": {
  "kernelspec": {
   "display_name": "Python 3",
   "language": "python",
   "name": "python3"
  },
  "language_info": {
   "codemirror_mode": {
    "name": "ipython",
    "version": 3
   },
   "file_extension": ".py",
   "mimetype": "text/x-python",
   "name": "python",
   "nbconvert_exporter": "python",
   "pygments_lexer": "ipython3",
   "version": "3.8.8"
  }
 },
 "nbformat": 4,
 "nbformat_minor": 5
}
