{
 "cells": [
  {
   "cell_type": "code",
   "execution_count": 1,
   "id": "a052cb92",
   "metadata": {},
   "outputs": [],
   "source": [
    "import pandas as pd"
   ]
  },
  {
   "cell_type": "code",
   "execution_count": 2,
   "id": "4311caa5",
   "metadata": {},
   "outputs": [],
   "source": [
    "df = pd.read_csv(\"Alexa3Reviews.csv\")"
   ]
  },
  {
   "cell_type": "code",
   "execution_count": 3,
   "id": "01083ddd",
   "metadata": {},
   "outputs": [],
   "source": [
    "df.drop(columns = ['Unnamed: 0'], axis = 1, inplace=True)"
   ]
  },
  {
   "cell_type": "code",
   "execution_count": 4,
   "id": "d37ce508",
   "metadata": {},
   "outputs": [
    {
     "data": {
      "text/html": [
       "<div>\n",
       "<style scoped>\n",
       "    .dataframe tbody tr th:only-of-type {\n",
       "        vertical-align: middle;\n",
       "    }\n",
       "\n",
       "    .dataframe tbody tr th {\n",
       "        vertical-align: top;\n",
       "    }\n",
       "\n",
       "    .dataframe thead th {\n",
       "        text-align: right;\n",
       "    }\n",
       "</style>\n",
       "<table border=\"1\" class=\"dataframe\">\n",
       "  <thead>\n",
       "    <tr style=\"text-align: right;\">\n",
       "      <th></th>\n",
       "      <th>title</th>\n",
       "      <th>text</th>\n",
       "      <th>rating</th>\n",
       "      <th>date</th>\n",
       "    </tr>\n",
       "  </thead>\n",
       "  <tbody>\n",
       "    <tr>\n",
       "      <th>0</th>\n",
       "      <td>Excelente custo benefício</td>\n",
       "      <td>Sobre o produto: visual muito bonito e bem aca...</td>\n",
       "      <td>5</td>\n",
       "      <td>9 de outubro de 2019</td>\n",
       "    </tr>\n",
       "    <tr>\n",
       "      <th>1</th>\n",
       "      <td>Péssimo início - defeito ao tirar da caixa</td>\n",
       "      <td>O dispositivo possui 4 microfones direcionais ...</td>\n",
       "      <td>1</td>\n",
       "      <td>8 de outubro de 2019</td>\n",
       "    </tr>\n",
       "    <tr>\n",
       "      <th>2</th>\n",
       "      <td>Excelente produto!</td>\n",
       "      <td>Comprei o Alexa Echo Dot (terceira geração) as...</td>\n",
       "      <td>5</td>\n",
       "      <td>8 de outubro de 2019</td>\n",
       "    </tr>\n",
       "    <tr>\n",
       "      <th>3</th>\n",
       "      <td>Muito Satisfeito</td>\n",
       "      <td>Ainda estou me adaptando com o Echo Dot.Fiz a ...</td>\n",
       "      <td>5</td>\n",
       "      <td>13 de novembro de 2019</td>\n",
       "    </tr>\n",
       "    <tr>\n",
       "      <th>4</th>\n",
       "      <td>Decepção é o meu sentimento.</td>\n",
       "      <td>Acho que a propaganda desse produto está sendo...</td>\n",
       "      <td>1</td>\n",
       "      <td>23 de outubro de 2019</td>\n",
       "    </tr>\n",
       "  </tbody>\n",
       "</table>\n",
       "</div>"
      ],
      "text/plain": [
       "                                        title  \\\n",
       "0                   Excelente custo benefício   \n",
       "1  Péssimo início - defeito ao tirar da caixa   \n",
       "2                          Excelente produto!   \n",
       "3                            Muito Satisfeito   \n",
       "4                Decepção é o meu sentimento.   \n",
       "\n",
       "                                                text  rating  \\\n",
       "0  Sobre o produto: visual muito bonito e bem aca...       5   \n",
       "1  O dispositivo possui 4 microfones direcionais ...       1   \n",
       "2  Comprei o Alexa Echo Dot (terceira geração) as...       5   \n",
       "3  Ainda estou me adaptando com o Echo Dot.Fiz a ...       5   \n",
       "4  Acho que a propaganda desse produto está sendo...       1   \n",
       "\n",
       "                     date  \n",
       "0    9 de outubro de 2019  \n",
       "1    8 de outubro de 2019  \n",
       "2    8 de outubro de 2019  \n",
       "3  13 de novembro de 2019  \n",
       "4   23 de outubro de 2019  "
      ]
     },
     "execution_count": 4,
     "metadata": {},
     "output_type": "execute_result"
    }
   ],
   "source": [
    "df.head()"
   ]
  },
  {
   "cell_type": "markdown",
   "id": "ee2321b8",
   "metadata": {},
   "source": [
    "## Distribuicao das Avaliacoes"
   ]
  },
  {
   "cell_type": "code",
   "execution_count": 5,
   "id": "6b992d79",
   "metadata": {
    "scrolled": true
   },
   "outputs": [
    {
     "name": "stdout",
     "output_type": "stream",
     "text": [
      "Number of rows per star rating:\n",
      "5    3475\n",
      "4     818\n",
      "3     304\n",
      "1     233\n",
      "2     150\n",
      "Name: rating, dtype: int64\n"
     ]
    },
    {
     "data": {
      "image/png": "[encoded data removed]",
      "text/plain": [
       "<Figure size 432x288 with 1 Axes>"
      ]
     },
     "metadata": {
      "needs_background": "light"
     },
     "output_type": "display_data"
    }
   ],
   "source": [
    "import matplotlib.pyplot as plt \n",
    "\n",
    "print(\"Number of rows per star rating:\")\n",
    "print(df['rating'].value_counts())\n",
    "\n",
    "# Plotting the sentiment distribution\n",
    "plt.figure()\n",
    "pd.value_counts(df['rating']).plot.bar(title=\"Sentiment distribution in df\")\n",
    "plt.xlabel(\"Sentiment\")\n",
    "plt.ylabel(\"No. of rows in df\")\n",
    "plt.show()"
   ]
  },
  {
   "cell_type": "markdown",
   "id": "d55d884c",
   "metadata": {},
   "source": [
    "## Tokenizacao"
   ]
  },
  {
   "cell_type": "code",
   "execution_count": 6,
   "id": "d44ec2f5",
   "metadata": {
    "scrolled": true
   },
   "outputs": [
    {
     "name": "stdout",
     "output_type": "stream",
     "text": [
      "Requirement already satisfied: spacy in c:\\users\\ton2\\anaconda3\\lib\\site-packages (3.2.4)\n",
      "Requirement already satisfied: pathy>=0.3.5 in c:\\users\\ton2\\anaconda3\\lib\\site-packages (from spacy) (0.6.1)\n",
      "Requirement already satisfied: typer<0.5.0,>=0.3.0 in c:\\users\\ton2\\anaconda3\\lib\\site-packages (from spacy) (0.4.0)\n",
      "Requirement already satisfied: requests<3.0.0,>=2.13.0 in c:\\users\\ton2\\anaconda3\\lib\\site-packages (from spacy) (2.26.0)\n",
      "Requirement already satisfied: jinja2 in c:\\users\\ton2\\anaconda3\\lib\\site-packages (from spacy) (2.11.3)\n",
      "Requirement already satisfied: preshed<3.1.0,>=3.0.2 in c:\\users\\ton2\\anaconda3\\lib\\site-packages (from spacy) (3.0.6)\n",
      "Requirement already satisfied: langcodes<4.0.0,>=3.2.0 in c:\\users\\ton2\\anaconda3\\lib\\site-packages (from spacy) (3.3.0)\n",
      "Requirement already satisfied: spacy-loggers<2.0.0,>=1.0.0 in c:\\users\\ton2\\anaconda3\\lib\\site-packages (from spacy) (1.0.1)\n",
      "Requirement already satisfied: numpy>=1.15.0 in c:\\users\\ton2\\anaconda3\\lib\\site-packages (from spacy) (1.20.3)\n",
      "Requirement already satisfied: catalogue<2.1.0,>=2.0.6 in c:\\users\\ton2\\anaconda3\\lib\\site-packages (from spacy) (2.0.7)\n",
      "Requirement already satisfied: click<8.1.0 in c:\\users\\ton2\\anaconda3\\lib\\site-packages (from spacy) (8.0.3)\n",
      "Requirement already satisfied: thinc<8.1.0,>=8.0.12 in c:\\users\\ton2\\anaconda3\\lib\\site-packages (from spacy) (8.0.15)\n",
      "Requirement already satisfied: setuptools in c:\\users\\ton2\\anaconda3\\lib\\site-packages (from spacy) (58.0.4)\n",
      "Requirement already satisfied: spacy-legacy<3.1.0,>=3.0.8 in c:\\users\\ton2\\anaconda3\\lib\\site-packages (from spacy) (3.0.9)\n",
      "Requirement already satisfied: murmurhash<1.1.0,>=0.28.0 in c:\\users\\ton2\\anaconda3\\lib\\site-packages (from spacy) (1.0.6)\n",
      "Requirement already satisfied: blis<0.8.0,>=0.4.0 in c:\\users\\ton2\\anaconda3\\lib\\site-packages (from spacy) (0.7.7)\n",
      "Requirement already satisfied: tqdm<5.0.0,>=4.38.0 in c:\\users\\ton2\\anaconda3\\lib\\site-packages (from spacy) (4.62.3)\n",
      "Requirement already satisfied: packaging>=20.0 in c:\\users\\ton2\\anaconda3\\lib\\site-packages (from spacy) (21.0)\n",
      "Requirement already satisfied: wasabi<1.1.0,>=0.8.1 in c:\\users\\ton2\\anaconda3\\lib\\site-packages (from spacy) (0.9.0)\n",
      "Requirement already satisfied: pydantic!=1.8,!=1.8.1,<1.9.0,>=1.7.4 in c:\\users\\ton2\\anaconda3\\lib\\site-packages (from spacy) (1.8.2)\n",
      "Requirement already satisfied: cymem<2.1.0,>=2.0.2 in c:\\users\\ton2\\anaconda3\\lib\\site-packages (from spacy) (2.0.6)\n",
      "Requirement already satisfied: srsly<3.0.0,>=2.4.1 in c:\\users\\ton2\\anaconda3\\lib\\site-packages (from spacy) (2.4.2)\n",
      "Requirement already satisfied: colorama in c:\\users\\ton2\\anaconda3\\lib\\site-packages (from click<8.1.0->spacy) (0.4.4)\n",
      "Requirement already satisfied: pyparsing>=2.0.2 in c:\\users\\ton2\\anaconda3\\lib\\site-packages (from packaging>=20.0->spacy) (3.0.4)\n",
      "Requirement already satisfied: smart-open<6.0.0,>=5.0.0 in c:\\users\\ton2\\anaconda3\\lib\\site-packages (from pathy>=0.3.5->spacy) (5.2.1)\n",
      "Requirement already satisfied: typing-extensions>=3.7.4.3 in c:\\users\\ton2\\anaconda3\\lib\\site-packages (from pydantic!=1.8,!=1.8.1,<1.9.0,>=1.7.4->spacy) (3.10.0.2)\n",
      "Requirement already satisfied: charset-normalizer~=2.0.0 in c:\\users\\ton2\\anaconda3\\lib\\site-packages (from requests<3.0.0,>=2.13.0->spacy) (2.0.4)\n",
      "Requirement already satisfied: urllib3<1.27,>=1.21.1 in c:\\users\\ton2\\anaconda3\\lib\\site-packages (from requests<3.0.0,>=2.13.0->spacy) (1.26.7)\n",
      "Requirement already satisfied: certifi>=2017.4.17 in c:\\users\\ton2\\anaconda3\\lib\\site-packages (from requests<3.0.0,>=2.13.0->spacy) (2021.10.8)\n",
      "Requirement already satisfied: idna<4,>=2.5 in c:\\users\\ton2\\anaconda3\\lib\\site-packages (from requests<3.0.0,>=2.13.0->spacy) (3.2)\n",
      "Requirement already satisfied: MarkupSafe>=0.23 in c:\\users\\ton2\\anaconda3\\lib\\site-packages (from jinja2->spacy) (1.1.1)\n",
      "Note: you may need to restart the kernel to use updated packages.\n"
     ]
    }
   ],
   "source": [
    "pip install spacy"
   ]
  },
  {
   "cell_type": "code",
   "execution_count": 7,
   "id": "6dd2b03e",
   "metadata": {},
   "outputs": [
    {
     "name": "stdout",
     "output_type": "stream",
     "text": [
      "Requirement already satisfied: nltk in c:\\users\\ton2\\anaconda3\\lib\\site-packages (3.6.5)\n",
      "Requirement already satisfied: click in c:\\users\\ton2\\anaconda3\\lib\\site-packages (from nltk) (8.0.3)\n",
      "Requirement already satisfied: joblib in c:\\users\\ton2\\anaconda3\\lib\\site-packages (from nltk) (1.1.0)\n",
      "Requirement already satisfied: regex>=2021.8.3 in c:\\users\\ton2\\anaconda3\\lib\\site-packages (from nltk) (2021.8.3)\n",
      "Requirement already satisfied: tqdm in c:\\users\\ton2\\anaconda3\\lib\\site-packages (from nltk) (4.62.3)\n",
      "Requirement already satisfied: colorama in c:\\users\\ton2\\anaconda3\\lib\\site-packages (from click->nltk) (0.4.4)\n",
      "Note: you may need to restart the kernel to use updated packages.\n"
     ]
    }
   ],
   "source": [
    "pip install nltk"
   ]
  },
  {
   "cell_type": "code",
   "execution_count": 8,
   "id": "8affefc0",
   "metadata": {},
   "outputs": [
    {
     "name": "stdout",
     "output_type": "stream",
     "text": [
      "Requirement already satisfied: PyStemmer in c:\\users\\ton2\\anaconda3\\lib\\site-packages (2.0.1)\n",
      "Note: you may need to restart the kernel to use updated packages.\n"
     ]
    }
   ],
   "source": [
    "pip install PyStemmer"
   ]
  },
  {
   "cell_type": "code",
   "execution_count": 9,
   "id": "6ae375c2",
   "metadata": {},
   "outputs": [],
   "source": [
    "import spacy\n",
    "from collections import Counter\n",
    "from spacy.tokenizer import Tokenizer\n",
    "from spacy.lang.pt import Portuguese\n",
    "\n",
    "# É necessário instalar o pacote da lingua portuguesa no prompt do anaconda\n",
    "\n",
    "nlp = Portuguese()\n",
    "tokenizer = nlp.tokenizer\n",
    "text_token = []\n",
    "\n",
    "for line in df['text']: \n",
    "    tokens = tokenizer(line)\n",
    "    text_token.append(list(tokens))\n",
    "    \n",
    "df[\"text_token\"] = text_token"
   ]
  },
  {
   "cell_type": "code",
   "execution_count": 10,
   "id": "8363911c",
   "metadata": {
    "scrolled": true
   },
   "outputs": [
    {
     "data": {
      "text/html": [
       "<div>\n",
       "<style scoped>\n",
       "    .dataframe tbody tr th:only-of-type {\n",
       "        vertical-align: middle;\n",
       "    }\n",
       "\n",
       "    .dataframe tbody tr th {\n",
       "        vertical-align: top;\n",
       "    }\n",
       "\n",
       "    .dataframe thead th {\n",
       "        text-align: right;\n",
       "    }\n",
       "</style>\n",
       "<table border=\"1\" class=\"dataframe\">\n",
       "  <thead>\n",
       "    <tr style=\"text-align: right;\">\n",
       "      <th></th>\n",
       "      <th>title</th>\n",
       "      <th>text</th>\n",
       "      <th>rating</th>\n",
       "      <th>date</th>\n",
       "      <th>text_token</th>\n",
       "    </tr>\n",
       "  </thead>\n",
       "  <tbody>\n",
       "    <tr>\n",
       "      <th>0</th>\n",
       "      <td>Excelente custo benefício</td>\n",
       "      <td>Sobre o produto: visual muito bonito e bem aca...</td>\n",
       "      <td>5</td>\n",
       "      <td>9 de outubro de 2019</td>\n",
       "      <td>[Sobre, o, produto, :, visual, muito, bonito, ...</td>\n",
       "    </tr>\n",
       "    <tr>\n",
       "      <th>1</th>\n",
       "      <td>Péssimo início - defeito ao tirar da caixa</td>\n",
       "      <td>O dispositivo possui 4 microfones direcionais ...</td>\n",
       "      <td>1</td>\n",
       "      <td>8 de outubro de 2019</td>\n",
       "      <td>[O, dispositivo, possui, 4, microfones, direci...</td>\n",
       "    </tr>\n",
       "    <tr>\n",
       "      <th>2</th>\n",
       "      <td>Excelente produto!</td>\n",
       "      <td>Comprei o Alexa Echo Dot (terceira geração) as...</td>\n",
       "      <td>5</td>\n",
       "      <td>8 de outubro de 2019</td>\n",
       "      <td>[Comprei, o, Alexa, Echo, Dot, (, terceira, ge...</td>\n",
       "    </tr>\n",
       "    <tr>\n",
       "      <th>3</th>\n",
       "      <td>Muito Satisfeito</td>\n",
       "      <td>Ainda estou me adaptando com o Echo Dot.Fiz a ...</td>\n",
       "      <td>5</td>\n",
       "      <td>13 de novembro de 2019</td>\n",
       "      <td>[Ainda, estou, me, adaptando, com, o, Echo, Do...</td>\n",
       "    </tr>\n",
       "    <tr>\n",
       "      <th>4</th>\n",
       "      <td>Decepção é o meu sentimento.</td>\n",
       "      <td>Acho que a propaganda desse produto está sendo...</td>\n",
       "      <td>1</td>\n",
       "      <td>23 de outubro de 2019</td>\n",
       "      <td>[Acho, que, a, propaganda, desse, produto, est...</td>\n",
       "    </tr>\n",
       "  </tbody>\n",
       "</table>\n",
       "</div>"
      ],
      "text/plain": [
       "                                        title  \\\n",
       "0                   Excelente custo benefício   \n",
       "1  Péssimo início - defeito ao tirar da caixa   \n",
       "2                          Excelente produto!   \n",
       "3                            Muito Satisfeito   \n",
       "4                Decepção é o meu sentimento.   \n",
       "\n",
       "                                                text  rating  \\\n",
       "0  Sobre o produto: visual muito bonito e bem aca...       5   \n",
       "1  O dispositivo possui 4 microfones direcionais ...       1   \n",
       "2  Comprei o Alexa Echo Dot (terceira geração) as...       5   \n",
       "3  Ainda estou me adaptando com o Echo Dot.Fiz a ...       5   \n",
       "4  Acho que a propaganda desse produto está sendo...       1   \n",
       "\n",
       "                     date                                         text_token  \n",
       "0    9 de outubro de 2019  [Sobre, o, produto, :, visual, muito, bonito, ...  \n",
       "1    8 de outubro de 2019  [O, dispositivo, possui, 4, microfones, direci...  \n",
       "2    8 de outubro de 2019  [Comprei, o, Alexa, Echo, Dot, (, terceira, ge...  \n",
       "3  13 de novembro de 2019  [Ainda, estou, me, adaptando, com, o, Echo, Do...  \n",
       "4   23 de outubro de 2019  [Acho, que, a, propaganda, desse, produto, est...  "
      ]
     },
     "execution_count": 10,
     "metadata": {},
     "output_type": "execute_result"
    }
   ],
   "source": [
    "df.head()"
   ]
  },
  {
   "cell_type": "markdown",
   "id": "e4797734",
   "metadata": {},
   "source": [
    "## Stemming"
   ]
  },
  {
   "cell_type": "code",
   "execution_count": 12,
   "id": "cae9e222",
   "metadata": {},
   "outputs": [],
   "source": [
    "import spacy, nltk\n",
    "import nltk\n",
    "from nltk.stem.porter import *\n",
    "from nltk.stem import RSLPStemmer\n",
    "\n",
    "\n",
    "stemmer = RSLPStemmer()\n",
    "\n",
    "stem_token_text = []\n",
    "\n",
    "for doc in text_token:\n",
    "    stem_list = []\n",
    "    for tkn in doc:\n",
    "        stem = stemmer.stem(str(tkn))\n",
    "        stem_list.append(stem)\n",
    "    stem_token_text.append(stem_list)\n",
    "df['Stem_teken_text'] = stem_token_text"
   ]
  },
  {
   "cell_type": "code",
   "execution_count": 13,
   "id": "4659ae3a",
   "metadata": {},
   "outputs": [
    {
     "data": {
      "text/html": [
       "<div>\n",
       "<style scoped>\n",
       "    .dataframe tbody tr th:only-of-type {\n",
       "        vertical-align: middle;\n",
       "    }\n",
       "\n",
       "    .dataframe tbody tr th {\n",
       "        vertical-align: top;\n",
       "    }\n",
       "\n",
       "    .dataframe thead th {\n",
       "        text-align: right;\n",
       "    }\n",
       "</style>\n",
       "<table border=\"1\" class=\"dataframe\">\n",
       "  <thead>\n",
       "    <tr style=\"text-align: right;\">\n",
       "      <th></th>\n",
       "      <th>title</th>\n",
       "      <th>text</th>\n",
       "      <th>rating</th>\n",
       "      <th>date</th>\n",
       "      <th>text_token</th>\n",
       "      <th>Stem_teken_text</th>\n",
       "    </tr>\n",
       "  </thead>\n",
       "  <tbody>\n",
       "    <tr>\n",
       "      <th>0</th>\n",
       "      <td>Excelente custo benefício</td>\n",
       "      <td>Sobre o produto: visual muito bonito e bem aca...</td>\n",
       "      <td>5</td>\n",
       "      <td>9 de outubro de 2019</td>\n",
       "      <td>[Sobre, o, produto, :, visual, muito, bonito, ...</td>\n",
       "      <td>[sobr, o, produt, :, visual, muit, bonit, e, b...</td>\n",
       "    </tr>\n",
       "    <tr>\n",
       "      <th>1</th>\n",
       "      <td>Péssimo início - defeito ao tirar da caixa</td>\n",
       "      <td>O dispositivo possui 4 microfones direcionais ...</td>\n",
       "      <td>1</td>\n",
       "      <td>8 de outubro de 2019</td>\n",
       "      <td>[O, dispositivo, possui, 4, microfones, direci...</td>\n",
       "      <td>[o, disposi, possu, 4, microfon, direc, do, to...</td>\n",
       "    </tr>\n",
       "    <tr>\n",
       "      <th>2</th>\n",
       "      <td>Excelente produto!</td>\n",
       "      <td>Comprei o Alexa Echo Dot (terceira geração) as...</td>\n",
       "      <td>5</td>\n",
       "      <td>8 de outubro de 2019</td>\n",
       "      <td>[Comprei, o, Alexa, Echo, Dot, (, terceira, ge...</td>\n",
       "      <td>[compr, o, alex, ech, dot, (, terc, ger, ), as...</td>\n",
       "    </tr>\n",
       "    <tr>\n",
       "      <th>3</th>\n",
       "      <td>Muito Satisfeito</td>\n",
       "      <td>Ainda estou me adaptando com o Echo Dot.Fiz a ...</td>\n",
       "      <td>5</td>\n",
       "      <td>13 de novembro de 2019</td>\n",
       "      <td>[Ainda, estou, me, adaptando, com, o, Echo, Do...</td>\n",
       "      <td>[aind, est, me, adapt, com, o, ech, dot, ., fi...</td>\n",
       "    </tr>\n",
       "    <tr>\n",
       "      <th>4</th>\n",
       "      <td>Decepção é o meu sentimento.</td>\n",
       "      <td>Acho que a propaganda desse produto está sendo...</td>\n",
       "      <td>1</td>\n",
       "      <td>23 de outubro de 2019</td>\n",
       "      <td>[Acho, que, a, propaganda, desse, produto, est...</td>\n",
       "      <td>[ach, que, a, propagand, dess, produt, est, se...</td>\n",
       "    </tr>\n",
       "  </tbody>\n",
       "</table>\n",
       "</div>"
      ],
      "text/plain": [
       "                                        title  \\\n",
       "0                   Excelente custo benefício   \n",
       "1  Péssimo início - defeito ao tirar da caixa   \n",
       "2                          Excelente produto!   \n",
       "3                            Muito Satisfeito   \n",
       "4                Decepção é o meu sentimento.   \n",
       "\n",
       "                                                text  rating  \\\n",
       "0  Sobre o produto: visual muito bonito e bem aca...       5   \n",
       "1  O dispositivo possui 4 microfones direcionais ...       1   \n",
       "2  Comprei o Alexa Echo Dot (terceira geração) as...       5   \n",
       "3  Ainda estou me adaptando com o Echo Dot.Fiz a ...       5   \n",
       "4  Acho que a propaganda desse produto está sendo...       1   \n",
       "\n",
       "                     date                                         text_token  \\\n",
       "0    9 de outubro de 2019  [Sobre, o, produto, :, visual, muito, bonito, ...   \n",
       "1    8 de outubro de 2019  [O, dispositivo, possui, 4, microfones, direci...   \n",
       "2    8 de outubro de 2019  [Comprei, o, Alexa, Echo, Dot, (, terceira, ge...   \n",
       "3  13 de novembro de 2019  [Ainda, estou, me, adaptando, com, o, Echo, Do...   \n",
       "4   23 de outubro de 2019  [Acho, que, a, propaganda, desse, produto, est...   \n",
       "\n",
       "                                     Stem_teken_text  \n",
       "0  [sobr, o, produt, :, visual, muit, bonit, e, b...  \n",
       "1  [o, disposi, possu, 4, microfon, direc, do, to...  \n",
       "2  [compr, o, alex, ech, dot, (, terc, ger, ), as...  \n",
       "3  [aind, est, me, adapt, com, o, ech, dot, ., fi...  \n",
       "4  [ach, que, a, propagand, dess, produt, est, se...  "
      ]
     },
     "execution_count": 13,
     "metadata": {},
     "output_type": "execute_result"
    }
   ],
   "source": [
    "df.head()"
   ]
  },
  {
   "cell_type": "markdown",
   "id": "35a9a25f",
   "metadata": {},
   "source": [
    "## Bag Of Words"
   ]
  },
  {
   "cell_type": "code",
   "execution_count": 14,
   "id": "8b2d3fab",
   "metadata": {},
   "outputs": [],
   "source": [
    "from sklearn.feature_extraction.text import CountVectorizer"
   ]
  },
  {
   "cell_type": "code",
   "execution_count": 15,
   "id": "8ec5d698",
   "metadata": {},
   "outputs": [
    {
     "name": "stderr",
     "output_type": "stream",
     "text": [
      "C:\\Users\\ton2\\AppData\\Local\\Temp/ipykernel_19484/3227430557.py:2: SettingWithCopyWarning: \n",
      "A value is trying to be set on a copy of a slice from a DataFrame\n",
      "\n",
      "See the caveats in the documentation: https://pandas.pydata.org/pandas-docs/stable/user_guide/indexing.html#returning-a-view-versus-a-copy\n",
      "  df[\"Stem_teken_text\"][i] = \", \".join([str(item) for item in df[\"Stem_teken_text\"][i]])\n",
      "C:\\Users\\ton2\\AppData\\Local\\Temp/ipykernel_19484/3227430557.py:7: SettingWithCopyWarning: \n",
      "A value is trying to be set on a copy of a slice from a DataFrame\n",
      "\n",
      "See the caveats in the documentation: https://pandas.pydata.org/pandas-docs/stable/user_guide/indexing.html#returning-a-view-versus-a-copy\n",
      "  df[\"text_token\"][i] = \", \".join([str(item) for item in df[\"text_token\"][i]])\n"
     ]
    },
    {
     "data": {
      "text/plain": [
       "0       Sobre, o, produto, :, visual, muito, bonito, e...\n",
       "1       O, dispositivo, possui, 4, microfones, direcio...\n",
       "2       Comprei, o, Alexa, Echo, Dot, (, terceira, ger...\n",
       "3       Ainda, estou, me, adaptando, com, o, Echo, Dot...\n",
       "4       Acho, que, a, propaganda, desse, produto, está...\n",
       "                              ...                        \n",
       "4975    Quería, muito, uma, caixa, de, som, para, ouvi...\n",
       "4976    Muito, bom, ,, melhor, ainda, do, que, eu, pen...\n",
       "4977    O, que, mais, gostei, ,, é, a, qualidade, de, ...\n",
       "4978    Muito, boa, ,, reconhece, muito, bem, a, voz, ...\n",
       "4979    Ótimo, produto, ,, desperta, ,, acende, a, lâm...\n",
       "Name: text_token, Length: 4980, dtype: object"
      ]
     },
     "execution_count": 15,
     "metadata": {},
     "output_type": "execute_result"
    }
   ],
   "source": [
    "for i in range(len(df[\"Stem_teken_text\"])):\n",
    "    df[\"Stem_teken_text\"][i] = \", \".join([str(item) for item in df[\"Stem_teken_text\"][i]])\n",
    "\n",
    "df[\"Stem_teken_text\"]\n",
    "\n",
    "for i in range(len(df[\"text_token\"])):\n",
    "    df[\"text_token\"][i] = \", \".join([str(item) for item in df[\"text_token\"][i]])\n",
    "\n",
    "df[\"text_token\"]"
   ]
  },
  {
   "cell_type": "code",
   "execution_count": 16,
   "id": "00bbb5a8",
   "metadata": {
    "scrolled": true
   },
   "outputs": [
    {
     "data": {
      "text/html": [
       "<div>\n",
       "<style scoped>\n",
       "    .dataframe tbody tr th:only-of-type {\n",
       "        vertical-align: middle;\n",
       "    }\n",
       "\n",
       "    .dataframe tbody tr th {\n",
       "        vertical-align: top;\n",
       "    }\n",
       "\n",
       "    .dataframe thead th {\n",
       "        text-align: right;\n",
       "    }\n",
       "</style>\n",
       "<table border=\"1\" class=\"dataframe\">\n",
       "  <thead>\n",
       "    <tr style=\"text-align: right;\">\n",
       "      <th></th>\n",
       "      <th>title</th>\n",
       "      <th>text</th>\n",
       "      <th>rating</th>\n",
       "      <th>date</th>\n",
       "      <th>text_token</th>\n",
       "      <th>Stem_teken_text</th>\n",
       "    </tr>\n",
       "  </thead>\n",
       "  <tbody>\n",
       "    <tr>\n",
       "      <th>0</th>\n",
       "      <td>Excelente custo benefício</td>\n",
       "      <td>Sobre o produto: visual muito bonito e bem aca...</td>\n",
       "      <td>5</td>\n",
       "      <td>9 de outubro de 2019</td>\n",
       "      <td>Sobre, o, produto, :, visual, muito, bonito, e...</td>\n",
       "      <td>sobr, o, produt, :, visual, muit, bonit, e, be...</td>\n",
       "    </tr>\n",
       "    <tr>\n",
       "      <th>1</th>\n",
       "      <td>Péssimo início - defeito ao tirar da caixa</td>\n",
       "      <td>O dispositivo possui 4 microfones direcionais ...</td>\n",
       "      <td>1</td>\n",
       "      <td>8 de outubro de 2019</td>\n",
       "      <td>O, dispositivo, possui, 4, microfones, direcio...</td>\n",
       "      <td>o, disposi, possu, 4, microfon, direc, do, top...</td>\n",
       "    </tr>\n",
       "    <tr>\n",
       "      <th>2</th>\n",
       "      <td>Excelente produto!</td>\n",
       "      <td>Comprei o Alexa Echo Dot (terceira geração) as...</td>\n",
       "      <td>5</td>\n",
       "      <td>8 de outubro de 2019</td>\n",
       "      <td>Comprei, o, Alexa, Echo, Dot, (, terceira, ger...</td>\n",
       "      <td>compr, o, alex, ech, dot, (, terc, ger, ), ass...</td>\n",
       "    </tr>\n",
       "    <tr>\n",
       "      <th>3</th>\n",
       "      <td>Muito Satisfeito</td>\n",
       "      <td>Ainda estou me adaptando com o Echo Dot.Fiz a ...</td>\n",
       "      <td>5</td>\n",
       "      <td>13 de novembro de 2019</td>\n",
       "      <td>Ainda, estou, me, adaptando, com, o, Echo, Dot...</td>\n",
       "      <td>aind, est, me, adapt, com, o, ech, dot, ., fiz...</td>\n",
       "    </tr>\n",
       "    <tr>\n",
       "      <th>4</th>\n",
       "      <td>Decepção é o meu sentimento.</td>\n",
       "      <td>Acho que a propaganda desse produto está sendo...</td>\n",
       "      <td>1</td>\n",
       "      <td>23 de outubro de 2019</td>\n",
       "      <td>Acho, que, a, propaganda, desse, produto, está...</td>\n",
       "      <td>ach, que, a, propagand, dess, produt, est, sen...</td>\n",
       "    </tr>\n",
       "  </tbody>\n",
       "</table>\n",
       "</div>"
      ],
      "text/plain": [
       "                                        title  \\\n",
       "0                   Excelente custo benefício   \n",
       "1  Péssimo início - defeito ao tirar da caixa   \n",
       "2                          Excelente produto!   \n",
       "3                            Muito Satisfeito   \n",
       "4                Decepção é o meu sentimento.   \n",
       "\n",
       "                                                text  rating  \\\n",
       "0  Sobre o produto: visual muito bonito e bem aca...       5   \n",
       "1  O dispositivo possui 4 microfones direcionais ...       1   \n",
       "2  Comprei o Alexa Echo Dot (terceira geração) as...       5   \n",
       "3  Ainda estou me adaptando com o Echo Dot.Fiz a ...       5   \n",
       "4  Acho que a propaganda desse produto está sendo...       1   \n",
       "\n",
       "                     date                                         text_token  \\\n",
       "0    9 de outubro de 2019  Sobre, o, produto, :, visual, muito, bonito, e...   \n",
       "1    8 de outubro de 2019  O, dispositivo, possui, 4, microfones, direcio...   \n",
       "2    8 de outubro de 2019  Comprei, o, Alexa, Echo, Dot, (, terceira, ger...   \n",
       "3  13 de novembro de 2019  Ainda, estou, me, adaptando, com, o, Echo, Dot...   \n",
       "4   23 de outubro de 2019  Acho, que, a, propaganda, desse, produto, está...   \n",
       "\n",
       "                                     Stem_teken_text  \n",
       "0  sobr, o, produt, :, visual, muit, bonit, e, be...  \n",
       "1  o, disposi, possu, 4, microfon, direc, do, top...  \n",
       "2  compr, o, alex, ech, dot, (, terc, ger, ), ass...  \n",
       "3  aind, est, me, adapt, com, o, ech, dot, ., fiz...  \n",
       "4  ach, que, a, propagand, dess, produt, est, sen...  "
      ]
     },
     "execution_count": 16,
     "metadata": {},
     "output_type": "execute_result"
    }
   ],
   "source": [
    "df.head()"
   ]
  },
  {
   "cell_type": "markdown",
   "id": "291a709a",
   "metadata": {},
   "source": [
    "# Com Stemming"
   ]
  },
  {
   "cell_type": "code",
   "execution_count": 17,
   "id": "b2cdf7f4",
   "metadata": {},
   "outputs": [
    {
     "data": {
      "text/plain": [
       "<4980x6422 sparse matrix of type '<class 'numpy.int64'>'\n",
       "\twith 217762 stored elements in Compressed Sparse Row format>"
      ]
     },
     "execution_count": 17,
     "metadata": {},
     "output_type": "execute_result"
    }
   ],
   "source": [
    "reviewsTexts = list(df[\"Stem_teken_text\"])\n",
    "countVectorizer = CountVectorizer(binary=True, ngram_range = (1,1))\n",
    "bowTransformer = countVectorizer.fit(reviewsTexts)\n",
    "reviewsTexts = bowTransformer.transform(reviewsTexts)\n",
    "\n",
    "reviewsTexts"
   ]
  },
  {
   "cell_type": "markdown",
   "id": "0dfb161e",
   "metadata": {},
   "source": [
    "## Divisao da Base em Treino e Teste"
   ]
  },
  {
   "cell_type": "code",
   "execution_count": 18,
   "id": "7ae8c326",
   "metadata": {},
   "outputs": [],
   "source": [
    "from sklearn.model_selection import train_test_split\n",
    "X_train, X_test, y_train, y_test = train_test_split(reviewsTexts, df['rating'], test_size=0.3)"
   ]
  },
  {
   "cell_type": "markdown",
   "id": "bc0061d6",
   "metadata": {},
   "source": [
    "## Random Forest"
   ]
  },
  {
   "cell_type": "code",
   "execution_count": 19,
   "id": "ce004ea0",
   "metadata": {
    "scrolled": true
   },
   "outputs": [
    {
     "name": "stdout",
     "output_type": "stream",
     "text": [
      "Fitting 5 folds for each of 14 candidates, totalling 70 fits\n"
     ]
    },
    {
     "data": {
      "text/plain": [
       "{'mean_fit_time': array([ 1.52332592,  3.03348489,  4.53167686,  6.17827191,  7.643752  ,\n",
       "         9.22711649, 10.81586661,  1.49440203,  2.99119802,  4.49976234,\n",
       "         6.02588005,  7.55578756,  8.61814513,  8.38917785]),\n",
       " 'std_fit_time': array([0.03195658, 0.02912231, 0.04103598, 0.03666862, 0.0678903 ,\n",
       "        0.08185767, 0.09249206, 0.02348797, 0.01639275, 0.01909499,\n",
       "        0.03652461, 0.04398663, 0.16825266, 0.62055861]),\n",
       " 'mean_score_time': array([0.02234044, 0.04268589, 0.06582413, 0.08377633, 0.10531816,\n",
       "        0.12885532, 0.15059724, 0.0213428 , 0.04049172, 0.05864325,\n",
       "        0.07699428, 0.0995338 , 0.09255304, 0.08078375]),\n",
       " 'std_score_time': array([0.00101563, 0.00132333, 0.0074903 , 0.00178419, 0.00241016,\n",
       "        0.00212973, 0.00109262, 0.00135299, 0.00223923, 0.00171608,\n",
       "        0.00116322, 0.00311587, 0.0094283 , 0.00492716]),\n",
       " 'param_criterion': masked_array(data=['gini', 'gini', 'gini', 'gini', 'gini', 'gini', 'gini',\n",
       "                    'entropy', 'entropy', 'entropy', 'entropy', 'entropy',\n",
       "                    'entropy', 'entropy'],\n",
       "              mask=[False, False, False, False, False, False, False, False,\n",
       "                    False, False, False, False, False, False],\n",
       "        fill_value='?',\n",
       "             dtype=object),\n",
       " 'param_n_estimators': masked_array(data=[50, 100, 150, 200, 250, 300, 350, 50, 100, 150, 200,\n",
       "                    250, 300, 350],\n",
       "              mask=[False, False, False, False, False, False, False, False,\n",
       "                    False, False, False, False, False, False],\n",
       "        fill_value='?',\n",
       "             dtype=object),\n",
       " 'params': [{'criterion': 'gini', 'n_estimators': 50},\n",
       "  {'criterion': 'gini', 'n_estimators': 100},\n",
       "  {'criterion': 'gini', 'n_estimators': 150},\n",
       "  {'criterion': 'gini', 'n_estimators': 200},\n",
       "  {'criterion': 'gini', 'n_estimators': 250},\n",
       "  {'criterion': 'gini', 'n_estimators': 300},\n",
       "  {'criterion': 'gini', 'n_estimators': 350},\n",
       "  {'criterion': 'entropy', 'n_estimators': 50},\n",
       "  {'criterion': 'entropy', 'n_estimators': 100},\n",
       "  {'criterion': 'entropy', 'n_estimators': 150},\n",
       "  {'criterion': 'entropy', 'n_estimators': 200},\n",
       "  {'criterion': 'entropy', 'n_estimators': 250},\n",
       "  {'criterion': 'entropy', 'n_estimators': 300},\n",
       "  {'criterion': 'entropy', 'n_estimators': 350}],\n",
       " 'split0_test_f1_micro': array([0.69054441, 0.69770774, 0.69484241, 0.69484241, 0.69484241,\n",
       "        0.69484241, 0.69340974, 0.69197708, 0.69340974, 0.69340974,\n",
       "        0.69340974, 0.69340974, 0.69340974, 0.69340974]),\n",
       " 'split1_test_f1_micro': array([0.69296987, 0.69440459, 0.69727403, 0.69583931, 0.69440459,\n",
       "        0.69727403, 0.69583931, 0.69727403, 0.69583931, 0.69583931,\n",
       "        0.69440459, 0.69727403, 0.69583931, 0.69583931]),\n",
       " 'split2_test_f1_micro': array([0.69583931, 0.69440459, 0.69296987, 0.69153515, 0.69727403,\n",
       "        0.69296987, 0.69440459, 0.69583931, 0.69440459, 0.69296987,\n",
       "        0.69440459, 0.69440459, 0.69296987, 0.69296987]),\n",
       " 'split3_test_f1_micro': array([0.69296987, 0.69440459, 0.69440459, 0.69296987, 0.69440459,\n",
       "        0.69440459, 0.69440459, 0.69296987, 0.69296987, 0.69296987,\n",
       "        0.69296987, 0.69296987, 0.69296987, 0.69296987]),\n",
       " 'split4_test_f1_micro': array([0.69440459, 0.69440459, 0.69010043, 0.69296987, 0.69583931,\n",
       "        0.69296987, 0.69296987, 0.69440459, 0.69296987, 0.69296987,\n",
       "        0.69440459, 0.69296987, 0.69296987, 0.69296987]),\n",
       " 'mean_test_f1_micro': array([0.69334561, 0.69506522, 0.69391827, 0.69363132, 0.69535299,\n",
       "        0.69449215, 0.69420562, 0.69449298, 0.69391868, 0.69363173,\n",
       "        0.69391868, 0.69420562, 0.69363173, 0.69363173]),\n",
       " 'std_test_f1_micro': array([0.00175892, 0.00132126, 0.00235911, 0.00152387, 0.00109421,\n",
       "        0.00158138, 0.00099082, 0.0019081 , 0.00109402, 0.00111686,\n",
       "        0.00061116, 0.00162125, 0.00111686, 0.00111686]),\n",
       " 'rank_test_f1_micro': array([14,  2,  9, 13,  1,  4,  5,  3,  7, 10,  7,  5, 10, 10])}"
      ]
     },
     "execution_count": 19,
     "metadata": {},
     "output_type": "execute_result"
    }
   ],
   "source": [
    "from sklearn.model_selection import cross_validate\n",
    "from sklearn.ensemble  import RandomForestClassifier\n",
    "from sklearn.model_selection import GridSearchCV\n",
    "import numpy as np \n",
    "\n",
    "scores = ['f1_micro']\n",
    "\n",
    "parameters = {\n",
    "     'n_estimators': list(range(50, 351, 50)),\n",
    "     'criterion': ['gini', 'entropy'],\n",
    "}\n",
    "\n",
    "grid_search = GridSearchCV( RandomForestClassifier(), \n",
    "                            parameters,\n",
    "                            n_jobs = -1,    \n",
    "                            scoring = scores,\n",
    "                            cv = 5,\n",
    "                            refit = 'f1_micro', \n",
    "                            verbose=3\n",
    ")\n",
    "\n",
    "grid_search.fit(X_train, y_train)\n",
    "grid_search.cv_results_"
   ]
  },
  {
   "cell_type": "markdown",
   "id": "3438ca8e",
   "metadata": {},
   "source": [
    "## Melhores Parametros"
   ]
  },
  {
   "cell_type": "code",
   "execution_count": 20,
   "id": "09ac600b",
   "metadata": {},
   "outputs": [
    {
     "data": {
      "text/plain": [
       "{'criterion': 'gini', 'n_estimators': 250}"
      ]
     },
     "execution_count": 20,
     "metadata": {},
     "output_type": "execute_result"
    }
   ],
   "source": [
    "grid_search.best_params_"
   ]
  },
  {
   "cell_type": "markdown",
   "id": "265fe04f",
   "metadata": {},
   "source": [
    "## Testando o Modelo com os Parametros Otimizados"
   ]
  },
  {
   "cell_type": "code",
   "execution_count": 21,
   "id": "b7b7391c",
   "metadata": {},
   "outputs": [],
   "source": [
    "\n",
    "randomForest = RandomForestClassifier(criterion= grid_search.best_params_['criterion'], n_estimators = grid_search.best_params_['n_estimators']).fit(X_train, y_train)"
   ]
  },
  {
   "cell_type": "markdown",
   "id": "8da32fff",
   "metadata": {},
   "source": [
    "## Metricas Obtidas sobre a Base de Teste"
   ]
  },
  {
   "cell_type": "code",
   "execution_count": 22,
   "id": "6089fd47",
   "metadata": {},
   "outputs": [
    {
     "name": "stdout",
     "output_type": "stream",
     "text": [
      "              precision    recall  f1-score   support\n",
      "\n",
      "           1       0.00      0.00      0.00        80\n",
      "           2       0.00      0.00      0.00        48\n",
      "           3       0.00      0.00      0.00        70\n",
      "           4       0.40      0.01      0.02       238\n",
      "           5       0.71      1.00      0.83      1058\n",
      "\n",
      "    accuracy                           0.71      1494\n",
      "   macro avg       0.22      0.20      0.17      1494\n",
      "weighted avg       0.57      0.71      0.59      1494\n",
      "\n"
     ]
    },
    {
     "name": "stderr",
     "output_type": "stream",
     "text": [
      "C:\\Users\\ton2\\anaconda3\\lib\\site-packages\\sklearn\\metrics\\_classification.py:1248: UndefinedMetricWarning: Precision and F-score are ill-defined and being set to 0.0 in labels with no predicted samples. Use `zero_division` parameter to control this behavior.\n",
      "  _warn_prf(average, modifier, msg_start, len(result))\n",
      "C:\\Users\\ton2\\anaconda3\\lib\\site-packages\\sklearn\\metrics\\_classification.py:1248: UndefinedMetricWarning: Precision and F-score are ill-defined and being set to 0.0 in labels with no predicted samples. Use `zero_division` parameter to control this behavior.\n",
      "  _warn_prf(average, modifier, msg_start, len(result))\n",
      "C:\\Users\\ton2\\anaconda3\\lib\\site-packages\\sklearn\\metrics\\_classification.py:1248: UndefinedMetricWarning: Precision and F-score are ill-defined and being set to 0.0 in labels with no predicted samples. Use `zero_division` parameter to control this behavior.\n",
      "  _warn_prf(average, modifier, msg_start, len(result))\n"
     ]
    }
   ],
   "source": [
    "from sklearn.metrics import classification_report, f1_score\n",
    "\n",
    "print(classification_report(y_test, randomForest.predict(X_test)))"
   ]
  },
  {
   "cell_type": "code",
   "execution_count": 23,
   "id": "35d23266",
   "metadata": {},
   "outputs": [
    {
     "data": {
      "text/plain": [
       "0.7081659973226239"
      ]
     },
     "execution_count": 23,
     "metadata": {},
     "output_type": "execute_result"
    }
   ],
   "source": [
    "f1_score(y_test, randomForest.predict(X_test), average='micro')"
   ]
  },
  {
   "cell_type": "markdown",
   "id": "b50c7e5c",
   "metadata": {},
   "source": [
    "# Sem Stemming"
   ]
  },
  {
   "cell_type": "code",
   "execution_count": 24,
   "id": "c8b944ea",
   "metadata": {},
   "outputs": [
    {
     "data": {
      "text/plain": [
       "<4980x12202 sparse matrix of type '<class 'numpy.int64'>'\n",
       "\twith 227068 stored elements in Compressed Sparse Row format>"
      ]
     },
     "execution_count": 24,
     "metadata": {},
     "output_type": "execute_result"
    }
   ],
   "source": [
    "reviewsTexts = list(df[\"text_token\"])\n",
    "countVectorizer = CountVectorizer(binary=True, ngram_range = (1,1))\n",
    "bowTransformer = countVectorizer.fit(reviewsTexts)\n",
    "reviewsTexts = bowTransformer.transform(reviewsTexts)\n",
    "\n",
    "reviewsTexts"
   ]
  },
  {
   "cell_type": "markdown",
   "id": "10a497ce",
   "metadata": {},
   "source": [
    "## Divisao da Base em Treino e Teste"
   ]
  },
  {
   "cell_type": "code",
   "execution_count": 25,
   "id": "0ff36ea4",
   "metadata": {},
   "outputs": [],
   "source": [
    "from sklearn.model_selection import train_test_split\n",
    "X_train, X_test, y_train, y_test = train_test_split(reviewsTexts, df['rating'], test_size=0.3)"
   ]
  },
  {
   "cell_type": "markdown",
   "id": "f81f2c80",
   "metadata": {},
   "source": [
    "## Random Forest"
   ]
  },
  {
   "cell_type": "code",
   "execution_count": 26,
   "id": "38ecce65",
   "metadata": {},
   "outputs": [
    {
     "name": "stdout",
     "output_type": "stream",
     "text": [
      "Fitting 5 folds for each of 14 candidates, totalling 70 fits\n"
     ]
    },
    {
     "data": {
      "text/plain": [
       "{'mean_fit_time': array([ 2.05430274,  4.1692462 ,  6.25746036,  8.43363895, 10.57331581,\n",
       "        12.82289762, 14.99827824,  1.99566145,  3.99291835,  6.02308745,\n",
       "         8.02194057, 10.0481205 , 11.50402603, 11.03029261]),\n",
       " 'std_fit_time': array([0.02613379, 0.04727613, 0.05499787, 0.1082947 , 0.10310813,\n",
       "        0.17537439, 0.14247903, 0.021732  , 0.03521335, 0.02933879,\n",
       "        0.0346442 , 0.04492641, 0.33161042, 0.8113017 ]),\n",
       " 'mean_score_time': array([0.02553191, 0.05006585, 0.07300472, 0.09614272, 0.12267165,\n",
       "        0.14959984, 0.17453318, 0.02293835, 0.04487972, 0.06562443,\n",
       "        0.08676801, 0.10751233, 0.10372295, 0.09494624]),\n",
       " 'std_score_time': array([7.97700918e-04, 1.82793924e-03, 2.12974094e-03, 1.01713961e-03,\n",
       "        2.74932806e-03, 1.66869636e-03, 1.78416656e-03, 2.86102295e-07,\n",
       "        2.09203264e-03, 3.98969665e-04, 6.30977238e-04, 7.46187256e-04,\n",
       "        1.38049218e-02, 5.21673841e-03]),\n",
       " 'param_criterion': masked_array(data=['gini', 'gini', 'gini', 'gini', 'gini', 'gini', 'gini',\n",
       "                    'entropy', 'entropy', 'entropy', 'entropy', 'entropy',\n",
       "                    'entropy', 'entropy'],\n",
       "              mask=[False, False, False, False, False, False, False, False,\n",
       "                    False, False, False, False, False, False],\n",
       "        fill_value='?',\n",
       "             dtype=object),\n",
       " 'param_n_estimators': masked_array(data=[50, 100, 150, 200, 250, 300, 350, 50, 100, 150, 200,\n",
       "                    250, 300, 350],\n",
       "              mask=[False, False, False, False, False, False, False, False,\n",
       "                    False, False, False, False, False, False],\n",
       "        fill_value='?',\n",
       "             dtype=object),\n",
       " 'params': [{'criterion': 'gini', 'n_estimators': 50},\n",
       "  {'criterion': 'gini', 'n_estimators': 100},\n",
       "  {'criterion': 'gini', 'n_estimators': 150},\n",
       "  {'criterion': 'gini', 'n_estimators': 200},\n",
       "  {'criterion': 'gini', 'n_estimators': 250},\n",
       "  {'criterion': 'gini', 'n_estimators': 300},\n",
       "  {'criterion': 'gini', 'n_estimators': 350},\n",
       "  {'criterion': 'entropy', 'n_estimators': 50},\n",
       "  {'criterion': 'entropy', 'n_estimators': 100},\n",
       "  {'criterion': 'entropy', 'n_estimators': 150},\n",
       "  {'criterion': 'entropy', 'n_estimators': 200},\n",
       "  {'criterion': 'entropy', 'n_estimators': 250},\n",
       "  {'criterion': 'entropy', 'n_estimators': 300},\n",
       "  {'criterion': 'entropy', 'n_estimators': 350}],\n",
       " 'split0_test_f1_micro': array([0.69197708, 0.69627507, 0.70057307, 0.69770774, 0.69770774,\n",
       "        0.6991404 , 0.6991404 , 0.69770774, 0.69627507, 0.69627507,\n",
       "        0.69627507, 0.69627507, 0.69627507, 0.69627507]),\n",
       " 'split1_test_f1_micro': array([0.69583931, 0.70014347, 0.69727403, 0.69727403, 0.69870875,\n",
       "        0.69727403, 0.69727403, 0.69583931, 0.69727403, 0.69727403,\n",
       "        0.69727403, 0.69727403, 0.69727403, 0.69727403]),\n",
       " 'split2_test_f1_micro': array([0.70301291, 0.70014347, 0.69870875, 0.69727403, 0.69870875,\n",
       "        0.69870875, 0.69727403, 0.69727403, 0.69727403, 0.69727403,\n",
       "        0.69727403, 0.69727403, 0.69727403, 0.69727403]),\n",
       " 'split3_test_f1_micro': array([0.70588235, 0.69727403, 0.69727403, 0.69870875, 0.69583931,\n",
       "        0.69870875, 0.69870875, 0.69870875, 0.69870875, 0.69870875,\n",
       "        0.70014347, 0.70014347, 0.69870875, 0.69870875]),\n",
       " 'split4_test_f1_micro': array([0.69727403, 0.70014347, 0.70014347, 0.70014347, 0.69870875,\n",
       "        0.69870875, 0.69870875, 0.69870875, 0.69870875, 0.69870875,\n",
       "        0.69870875, 0.69870875, 0.69870875, 0.69870875]),\n",
       " 'mean_test_f1_micro': array([0.69879714, 0.6987959 , 0.69879467, 0.6982216 , 0.69793466,\n",
       "        0.69850814, 0.69822119, 0.69764772, 0.69764813, 0.69764813,\n",
       "        0.69793507, 0.69793507, 0.69764813, 0.69764813]),\n",
       " 'std_test_f1_micro': array([0.00501108, 0.00168039, 0.00138665, 0.0010946 , 0.00111711,\n",
       "        0.0006393 , 0.00078925, 0.00106444, 0.00093968, 0.00093968,\n",
       "        0.00134946, 0.00134946, 0.00093968, 0.00093968]),\n",
       " 'rank_test_f1_micro': array([ 1,  2,  3,  5,  9,  4,  6, 14, 10, 10,  7,  7, 10, 10])}"
      ]
     },
     "execution_count": 26,
     "metadata": {},
     "output_type": "execute_result"
    }
   ],
   "source": [
    "from sklearn.model_selection import cross_validate\n",
    "from sklearn.ensemble  import RandomForestClassifier\n",
    "from sklearn.model_selection import GridSearchCV\n",
    "import numpy as np \n",
    "\n",
    "scores = ['f1_micro']\n",
    "\n",
    "parameters = {\n",
    "     'n_estimators': list(range(50, 351, 50)),\n",
    "     'criterion': ['gini', 'entropy'],\n",
    "}\n",
    "\n",
    "grid_search = GridSearchCV( RandomForestClassifier(), \n",
    "                            parameters,\n",
    "                            n_jobs = -1,    \n",
    "                            scoring = scores,\n",
    "                            cv = 5,\n",
    "                            refit = 'f1_micro', \n",
    "                            verbose=3\n",
    ")\n",
    "\n",
    "grid_search.fit(X_train, y_train)\n",
    "grid_search.cv_results_"
   ]
  },
  {
   "cell_type": "markdown",
   "id": "21d56d01",
   "metadata": {},
   "source": [
    "## Melhores Parametros"
   ]
  },
  {
   "cell_type": "code",
   "execution_count": 27,
   "id": "fbbe3e30",
   "metadata": {},
   "outputs": [
    {
     "data": {
      "text/plain": [
       "{'criterion': 'gini', 'n_estimators': 50}"
      ]
     },
     "execution_count": 27,
     "metadata": {},
     "output_type": "execute_result"
    }
   ],
   "source": [
    "grid_search.best_params_"
   ]
  },
  {
   "cell_type": "markdown",
   "id": "88e1c151",
   "metadata": {},
   "source": [
    "## Testando o Modelo com os Parametros Otimizados"
   ]
  },
  {
   "cell_type": "code",
   "execution_count": 28,
   "id": "815661cb",
   "metadata": {},
   "outputs": [],
   "source": [
    "\n",
    "randomForest = RandomForestClassifier(criterion= grid_search.best_params_['criterion'], n_estimators = grid_search.best_params_['n_estimators']).fit(X_train, y_train)"
   ]
  },
  {
   "cell_type": "markdown",
   "id": "17f60ce6",
   "metadata": {},
   "source": [
    "## Metricas Obtidas sobre a Base de Teste"
   ]
  },
  {
   "cell_type": "code",
   "execution_count": 29,
   "id": "56ebaf45",
   "metadata": {},
   "outputs": [
    {
     "name": "stdout",
     "output_type": "stream",
     "text": [
      "              precision    recall  f1-score   support\n",
      "\n",
      "           1       1.00      0.01      0.03        69\n",
      "           2       0.00      0.00      0.00        46\n",
      "           3       0.00      0.00      0.00        91\n",
      "           4       0.22      0.01      0.02       245\n",
      "           5       0.70      1.00      0.82      1043\n",
      "\n",
      "    accuracy                           0.70      1494\n",
      "   macro avg       0.38      0.20      0.17      1494\n",
      "weighted avg       0.57      0.70      0.58      1494\n",
      "\n"
     ]
    },
    {
     "name": "stderr",
     "output_type": "stream",
     "text": [
      "C:\\Users\\ton2\\anaconda3\\lib\\site-packages\\sklearn\\metrics\\_classification.py:1248: UndefinedMetricWarning: Precision and F-score are ill-defined and being set to 0.0 in labels with no predicted samples. Use `zero_division` parameter to control this behavior.\n",
      "  _warn_prf(average, modifier, msg_start, len(result))\n",
      "C:\\Users\\ton2\\anaconda3\\lib\\site-packages\\sklearn\\metrics\\_classification.py:1248: UndefinedMetricWarning: Precision and F-score are ill-defined and being set to 0.0 in labels with no predicted samples. Use `zero_division` parameter to control this behavior.\n",
      "  _warn_prf(average, modifier, msg_start, len(result))\n",
      "C:\\Users\\ton2\\anaconda3\\lib\\site-packages\\sklearn\\metrics\\_classification.py:1248: UndefinedMetricWarning: Precision and F-score are ill-defined and being set to 0.0 in labels with no predicted samples. Use `zero_division` parameter to control this behavior.\n",
      "  _warn_prf(average, modifier, msg_start, len(result))\n"
     ]
    }
   ],
   "source": [
    "from sklearn.metrics import classification_report, f1_score\n",
    "\n",
    "print(classification_report(y_test, randomForest.predict(X_test)))"
   ]
  },
  {
   "cell_type": "code",
   "execution_count": 30,
   "id": "b64577b1",
   "metadata": {},
   "outputs": [
    {
     "data": {
      "text/plain": [
       "0.6981258366800536"
      ]
     },
     "execution_count": 30,
     "metadata": {},
     "output_type": "execute_result"
    }
   ],
   "source": [
    "f1_score(y_test, randomForest.predict(X_test), average='micro')"
   ]
  },
  {
   "cell_type": "markdown",
   "id": "da11d812",
   "metadata": {},
   "source": [
    "Apos a execucao sem e com stemming, obteve-se um f1-score ligeiramente melhor com o stemming."
   ]
  },
  {
   "cell_type": "markdown",
   "id": "4a1cf2c8",
   "metadata": {},
   "source": [
    "# Aplicacao da CNN"
   ]
  },
  {
   "cell_type": "markdown",
   "id": "6f23006a",
   "metadata": {},
   "source": [
    " ## Consultando o Vocabulario"
   ]
  },
  {
   "cell_type": "code",
   "execution_count": 54,
   "id": "d4dfc4a2",
   "metadata": {
    "scrolled": false
   },
   "outputs": [
    {
     "data": {
      "text/plain": [
       "0       [sobr, o, produt, :, visual, muit, bonit, e, b...\n",
       "1       [o, disposi, possu, 4, microfon, direc, do, to...\n",
       "2       [compr, o, alex, ech, dot, (, terc, ger, ), as...\n",
       "3       [aind, est, me, adapt, com, o, ech, dot, ., fi...\n",
       "4       [ach, que, a, propagand, dess, produt, est, se...\n",
       "                              ...                        \n",
       "4975    [querí, muit, uma, caix, de, som, par, ouv, mi...\n",
       "4976    [muit, bom, ,, melhor, aind, do, que, eu, pens...\n",
       "4977    [o, que, mais, gost, ,, é, a, qual, de, áudi, ...\n",
       "4978    [muit, boa, ,, reconhec, muit, bem, a, voz, ,,...\n",
       "4979    [ótim, produt, ,, despert, ,, acend, a, lâmp, ...\n",
       "Name: Stem_teken_text, Length: 4980, dtype: object"
      ]
     },
     "execution_count": 54,
     "metadata": {},
     "output_type": "execute_result"
    }
   ],
   "source": [
    "df[\"Stem_teken_text\"]"
   ]
  },
  {
   "cell_type": "code",
   "execution_count": 55,
   "id": "abd15434",
   "metadata": {},
   "outputs": [
    {
     "name": "stdout",
     "output_type": "stream",
     "text": [
      "O tamanho do vocabulário é:  7262\n"
     ]
    }
   ],
   "source": [
    "for line in list(df['Stem_teken_text']): \n",
    "  for token in line:\n",
    "    word_count[token] += 1\n",
    "\n",
    "\n",
    "word_count\n",
    "vocabSize = len(word_count)\n",
    "\n",
    "print(\"O tamanho do vocabulário é: \", vocabSize)"
   ]
  },
  {
   "cell_type": "code",
   "execution_count": 52,
   "id": "f9c0b882",
   "metadata": {},
   "outputs": [],
   "source": [
    "from tensorflow.keras.preprocessing.text import Tokenizer\n",
    "\n",
    "\n",
    "\n",
    "vocab_size = vocabSize\n",
    "oov_token = \"<OOV>\"\n",
    "tokenizer = Tokenizer(num_words = vocab_size, oov_token=oov_token)\n",
    "tokenizer.fit_on_texts(df['Stem_teken_text'])"
   ]
  },
  {
   "cell_type": "code",
   "execution_count": 58,
   "id": "fe6cd679",
   "metadata": {},
   "outputs": [],
   "source": [
    "df[\"text_to_sequence\"] = tokenizer.texts_to_sequences(df['Stem_teken_text'])"
   ]
  },
  {
   "cell_type": "code",
   "execution_count": 62,
   "id": "dfbabf8a",
   "metadata": {
    "scrolled": true
   },
   "outputs": [
    {
     "name": "stdout",
     "output_type": "stream",
     "text": [
      "Requirement already satisfied: tensorflow in c:\\users\\ton2\\anaconda3\\lib\\site-packages (2.8.0)\n",
      "Requirement already satisfied: opt-einsum>=2.3.2 in c:\\users\\ton2\\anaconda3\\lib\\site-packages (from tensorflow) (3.3.0)\n",
      "Requirement already satisfied: keras<2.9,>=2.8.0rc0 in c:\\users\\ton2\\anaconda3\\lib\\site-packages (from tensorflow) (2.8.0)\n",
      "Requirement already satisfied: termcolor>=1.1.0 in c:\\users\\ton2\\anaconda3\\lib\\site-packages (from tensorflow) (1.1.0)\n",
      "Requirement already satisfied: libclang>=9.0.1 in c:\\users\\ton2\\anaconda3\\lib\\site-packages (from tensorflow) (13.0.0)\n",
      "Requirement already satisfied: typing-extensions>=3.6.6 in c:\\users\\ton2\\anaconda3\\lib\\site-packages (from tensorflow) (3.10.0.2)\n",
      "Requirement already satisfied: grpcio<2.0,>=1.24.3 in c:\\users\\ton2\\anaconda3\\lib\\site-packages (from tensorflow) (1.44.0)\n",
      "Requirement already satisfied: setuptools in c:\\users\\ton2\\anaconda3\\lib\\site-packages (from tensorflow) (58.0.4)\n",
      "Requirement already satisfied: keras-preprocessing>=1.1.1 in c:\\users\\ton2\\anaconda3\\lib\\site-packages (from tensorflow) (1.1.2)\n",
      "Requirement already satisfied: numpy>=1.20 in c:\\users\\ton2\\anaconda3\\lib\\site-packages (from tensorflow) (1.20.3)\n",
      "Requirement already satisfied: h5py>=2.9.0 in c:\\users\\ton2\\anaconda3\\lib\\site-packages (from tensorflow) (3.2.1)\n",
      "Requirement already satisfied: wrapt>=1.11.0 in c:\\users\\ton2\\anaconda3\\lib\\site-packages (from tensorflow) (1.12.1)\n",
      "Requirement already satisfied: gast>=0.2.1 in c:\\users\\ton2\\anaconda3\\lib\\site-packages (from tensorflow) (0.5.3)\n",
      "Requirement already satisfied: tensorboard<2.9,>=2.8 in c:\\users\\ton2\\anaconda3\\lib\\site-packages (from tensorflow) (2.8.0)\n",
      "Requirement already satisfied: tensorflow-io-gcs-filesystem>=0.23.1 in c:\\users\\ton2\\anaconda3\\lib\\site-packages (from tensorflow) (0.24.0)\n",
      "Requirement already satisfied: protobuf>=3.9.2 in c:\\users\\ton2\\anaconda3\\lib\\site-packages (from tensorflow) (3.19.4)\n",
      "Requirement already satisfied: flatbuffers>=1.12 in c:\\users\\ton2\\anaconda3\\lib\\site-packages (from tensorflow) (2.0)\n",
      "Requirement already satisfied: six>=1.12.0 in c:\\users\\ton2\\anaconda3\\lib\\site-packages (from tensorflow) (1.16.0)\n",
      "Requirement already satisfied: absl-py>=0.4.0 in c:\\users\\ton2\\anaconda3\\lib\\site-packages (from tensorflow) (1.0.0)\n",
      "Requirement already satisfied: astunparse>=1.6.0 in c:\\users\\ton2\\anaconda3\\lib\\site-packages (from tensorflow) (1.6.3)\n",
      "Requirement already satisfied: google-pasta>=0.1.1 in c:\\users\\ton2\\anaconda3\\lib\\site-packages (from tensorflow) (0.2.0)\n",
      "Requirement already satisfied: tf-estimator-nightly==2.8.0.dev2021122109 in c:\\users\\ton2\\anaconda3\\lib\\site-packages (from tensorflow) (2.8.0.dev2021122109)\n",
      "Requirement already satisfied: wheel<1.0,>=0.23.0 in c:\\users\\ton2\\anaconda3\\lib\\site-packages (from astunparse>=1.6.0->tensorflow) (0.37.0)\n",
      "Requirement already satisfied: markdown>=2.6.8 in c:\\users\\ton2\\anaconda3\\lib\\site-packages (from tensorboard<2.9,>=2.8->tensorflow) (3.3.6)\n",
      "Requirement already satisfied: google-auth-oauthlib<0.5,>=0.4.1 in c:\\users\\ton2\\anaconda3\\lib\\site-packages (from tensorboard<2.9,>=2.8->tensorflow) (0.4.6)\n",
      "Requirement already satisfied: tensorboard-plugin-wit>=1.6.0 in c:\\users\\ton2\\anaconda3\\lib\\site-packages (from tensorboard<2.9,>=2.8->tensorflow) (1.8.1)\n",
      "Requirement already satisfied: google-auth<3,>=1.6.3 in c:\\users\\ton2\\anaconda3\\lib\\site-packages (from tensorboard<2.9,>=2.8->tensorflow) (2.6.2)\n",
      "Requirement already satisfied: requests<3,>=2.21.0 in c:\\users\\ton2\\anaconda3\\lib\\site-packages (from tensorboard<2.9,>=2.8->tensorflow) (2.26.0)\n",
      "Requirement already satisfied: tensorboard-data-server<0.7.0,>=0.6.0 in c:\\users\\ton2\\anaconda3\\lib\\site-packages (from tensorboard<2.9,>=2.8->tensorflow) (0.6.1)\n",
      "Requirement already satisfied: werkzeug>=0.11.15 in c:\\users\\ton2\\anaconda3\\lib\\site-packages (from tensorboard<2.9,>=2.8->tensorflow) (2.0.2)\n",
      "Requirement already satisfied: cachetools<6.0,>=2.0.0 in c:\\users\\ton2\\anaconda3\\lib\\site-packages (from google-auth<3,>=1.6.3->tensorboard<2.9,>=2.8->tensorflow) (5.0.0)\n",
      "Requirement already satisfied: rsa<5,>=3.1.4 in c:\\users\\ton2\\anaconda3\\lib\\site-packages (from google-auth<3,>=1.6.3->tensorboard<2.9,>=2.8->tensorflow) (4.8)\n",
      "Requirement already satisfied: pyasn1-modules>=0.2.1 in c:\\users\\ton2\\anaconda3\\lib\\site-packages (from google-auth<3,>=1.6.3->tensorboard<2.9,>=2.8->tensorflow) (0.2.8)\n",
      "Requirement already satisfied: requests-oauthlib>=0.7.0 in c:\\users\\ton2\\anaconda3\\lib\\site-packages (from google-auth-oauthlib<0.5,>=0.4.1->tensorboard<2.9,>=2.8->tensorflow) (1.3.1)\n",
      "Requirement already satisfied: importlib-metadata>=4.4 in c:\\users\\ton2\\anaconda3\\lib\\site-packages (from markdown>=2.6.8->tensorboard<2.9,>=2.8->tensorflow) (4.8.1)\n",
      "Requirement already satisfied: zipp>=0.5 in c:\\users\\ton2\\anaconda3\\lib\\site-packages (from importlib-metadata>=4.4->markdown>=2.6.8->tensorboard<2.9,>=2.8->tensorflow) (3.6.0)\n",
      "Requirement already satisfied: pyasn1<0.5.0,>=0.4.6 in c:\\users\\ton2\\anaconda3\\lib\\site-packages (from pyasn1-modules>=0.2.1->google-auth<3,>=1.6.3->tensorboard<2.9,>=2.8->tensorflow) (0.4.8)\n",
      "Requirement already satisfied: certifi>=2017.4.17 in c:\\users\\ton2\\anaconda3\\lib\\site-packages (from requests<3,>=2.21.0->tensorboard<2.9,>=2.8->tensorflow) (2021.10.8)\n",
      "Requirement already satisfied: urllib3<1.27,>=1.21.1 in c:\\users\\ton2\\anaconda3\\lib\\site-packages (from requests<3,>=2.21.0->tensorboard<2.9,>=2.8->tensorflow) (1.26.7)\n",
      "Requirement already satisfied: idna<4,>=2.5 in c:\\users\\ton2\\anaconda3\\lib\\site-packages (from requests<3,>=2.21.0->tensorboard<2.9,>=2.8->tensorflow) (3.2)\n",
      "Requirement already satisfied: charset-normalizer~=2.0.0 in c:\\users\\ton2\\anaconda3\\lib\\site-packages (from requests<3,>=2.21.0->tensorboard<2.9,>=2.8->tensorflow) (2.0.4)\n",
      "Requirement already satisfied: oauthlib>=3.0.0 in c:\\users\\ton2\\anaconda3\\lib\\site-packages (from requests-oauthlib>=0.7.0->google-auth-oauthlib<0.5,>=0.4.1->tensorboard<2.9,>=2.8->tensorflow) (3.2.0)\n",
      "Note: you may need to restart the kernel to use updated packages.\n"
     ]
    }
   ],
   "source": [
    "pip install tensorflow"
   ]
  },
  {
   "cell_type": "markdown",
   "id": "68d21326",
   "metadata": {},
   "source": [
    "## Padding"
   ]
  },
  {
   "cell_type": "code",
   "execution_count": 65,
   "id": "cd901157",
   "metadata": {},
   "outputs": [],
   "source": [
    "from tensorflow.keras.preprocessing.sequence import pad_sequences\n",
    "\n",
    "max_length = 100\n",
    "padding_type = \"post\"\n",
    "trunction_type=\"post\"\n",
    "text_to_sequence_padded = pad_sequences(df[\"text_to_sequence\"], maxlen=max_length, padding=padding_type,\n",
    "                       truncating=trunction_type)\n",
    "df[\"text_to_sequence_padded\"] = list(text_to_sequence_padded)"
   ]
  },
  {
   "cell_type": "code",
   "execution_count": 66,
   "id": "b3cb2ef8",
   "metadata": {},
   "outputs": [
    {
     "data": {
      "text/html": [
       "<div>\n",
       "<style scoped>\n",
       "    .dataframe tbody tr th:only-of-type {\n",
       "        vertical-align: middle;\n",
       "    }\n",
       "\n",
       "    .dataframe tbody tr th {\n",
       "        vertical-align: top;\n",
       "    }\n",
       "\n",
       "    .dataframe thead th {\n",
       "        text-align: right;\n",
       "    }\n",
       "</style>\n",
       "<table border=\"1\" class=\"dataframe\">\n",
       "  <thead>\n",
       "    <tr style=\"text-align: right;\">\n",
       "      <th></th>\n",
       "      <th>title</th>\n",
       "      <th>text</th>\n",
       "      <th>rating</th>\n",
       "      <th>date</th>\n",
       "      <th>text_token</th>\n",
       "      <th>Stem_teken_text</th>\n",
       "      <th>text_to_sequence</th>\n",
       "      <th>text_to_sequence_padded</th>\n",
       "    </tr>\n",
       "  </thead>\n",
       "  <tbody>\n",
       "    <tr>\n",
       "      <th>0</th>\n",
       "      <td>Excelente custo benefício</td>\n",
       "      <td>Sobre o produto: visual muito bonito e bem aca...</td>\n",
       "      <td>5</td>\n",
       "      <td>9 de outubro de 2019</td>\n",
       "      <td>Sobre, o, produto, :, visual, muito, bonito, e...</td>\n",
       "      <td>[sobr, o, produt, :, visual, muit, bonit, e, b...</td>\n",
       "      <td>[187, 7, 29, 125, 867, 13, 352, 6, 33, 193, 3,...</td>\n",
       "      <td>[187, 7, 29, 125, 867, 13, 352, 6, 33, 193, 3,...</td>\n",
       "    </tr>\n",
       "    <tr>\n",
       "      <th>1</th>\n",
       "      <td>Péssimo início - defeito ao tirar da caixa</td>\n",
       "      <td>O dispositivo possui 4 microfones direcionais ...</td>\n",
       "      <td>1</td>\n",
       "      <td>8 de outubro de 2019</td>\n",
       "      <td>O, dispositivo, possui, 4, microfones, direcio...</td>\n",
       "      <td>[o, disposi, possu, 4, microfon, direc, do, to...</td>\n",
       "      <td>[7, 81, 207, 273, 209, 1983, 14, 539, 487, 68,...</td>\n",
       "      <td>[7, 81, 207, 273, 209, 1983, 14, 539, 487, 68,...</td>\n",
       "    </tr>\n",
       "    <tr>\n",
       "      <th>2</th>\n",
       "      <td>Excelente produto!</td>\n",
       "      <td>Comprei o Alexa Echo Dot (terceira geração) as...</td>\n",
       "      <td>5</td>\n",
       "      <td>8 de outubro de 2019</td>\n",
       "      <td>Comprei, o, Alexa, Echo, Dot, (, terceira, ger...</td>\n",
       "      <td>[compr, o, alex, ech, dot, (, terc, ger, ), as...</td>\n",
       "      <td>[27, 7, 20, 34, 53, 57, 729, 175, 64, 211, 8, ...</td>\n",
       "      <td>[27, 7, 20, 34, 53, 57, 729, 175, 64, 211, 8, ...</td>\n",
       "    </tr>\n",
       "    <tr>\n",
       "      <th>3</th>\n",
       "      <td>Muito Satisfeito</td>\n",
       "      <td>Ainda estou me adaptando com o Echo Dot.Fiz a ...</td>\n",
       "      <td>5</td>\n",
       "      <td>13 de novembro de 2019</td>\n",
       "      <td>Ainda, estou, me, adaptando, com, o, Echo, Dot...</td>\n",
       "      <td>[aind, est, me, adapt, com, o, ech, dot, ., fi...</td>\n",
       "      <td>[51, 23, 46, 552, 9, 7, 34, 53, 3, 284, 4, 342...</td>\n",
       "      <td>[51, 23, 46, 552, 9, 7, 34, 53, 3, 284, 4, 342...</td>\n",
       "    </tr>\n",
       "    <tr>\n",
       "      <th>4</th>\n",
       "      <td>Decepção é o meu sentimento.</td>\n",
       "      <td>Acho que a propaganda desse produto está sendo...</td>\n",
       "      <td>1</td>\n",
       "      <td>23 de outubro de 2019</td>\n",
       "      <td>Acho, que, a, propaganda, desse, produto, está...</td>\n",
       "      <td>[ach, que, a, propagand, dess, produt, est, se...</td>\n",
       "      <td>[90, 8, 4, 972, 372, 29, 23, 237, 433, 5, 242,...</td>\n",
       "      <td>[90, 8, 4, 972, 372, 29, 23, 237, 433, 5, 242,...</td>\n",
       "    </tr>\n",
       "  </tbody>\n",
       "</table>\n",
       "</div>"
      ],
      "text/plain": [
       "                                        title  \\\n",
       "0                   Excelente custo benefício   \n",
       "1  Péssimo início - defeito ao tirar da caixa   \n",
       "2                          Excelente produto!   \n",
       "3                            Muito Satisfeito   \n",
       "4                Decepção é o meu sentimento.   \n",
       "\n",
       "                                                text  rating  \\\n",
       "0  Sobre o produto: visual muito bonito e bem aca...       5   \n",
       "1  O dispositivo possui 4 microfones direcionais ...       1   \n",
       "2  Comprei o Alexa Echo Dot (terceira geração) as...       5   \n",
       "3  Ainda estou me adaptando com o Echo Dot.Fiz a ...       5   \n",
       "4  Acho que a propaganda desse produto está sendo...       1   \n",
       "\n",
       "                     date                                         text_token  \\\n",
       "0    9 de outubro de 2019  Sobre, o, produto, :, visual, muito, bonito, e...   \n",
       "1    8 de outubro de 2019  O, dispositivo, possui, 4, microfones, direcio...   \n",
       "2    8 de outubro de 2019  Comprei, o, Alexa, Echo, Dot, (, terceira, ger...   \n",
       "3  13 de novembro de 2019  Ainda, estou, me, adaptando, com, o, Echo, Dot...   \n",
       "4   23 de outubro de 2019  Acho, que, a, propaganda, desse, produto, está...   \n",
       "\n",
       "                                     Stem_teken_text  \\\n",
       "0  [sobr, o, produt, :, visual, muit, bonit, e, b...   \n",
       "1  [o, disposi, possu, 4, microfon, direc, do, to...   \n",
       "2  [compr, o, alex, ech, dot, (, terc, ger, ), as...   \n",
       "3  [aind, est, me, adapt, com, o, ech, dot, ., fi...   \n",
       "4  [ach, que, a, propagand, dess, produt, est, se...   \n",
       "\n",
       "                                    text_to_sequence  \\\n",
       "0  [187, 7, 29, 125, 867, 13, 352, 6, 33, 193, 3,...   \n",
       "1  [7, 81, 207, 273, 209, 1983, 14, 539, 487, 68,...   \n",
       "2  [27, 7, 20, 34, 53, 57, 729, 175, 64, 211, 8, ...   \n",
       "3  [51, 23, 46, 552, 9, 7, 34, 53, 3, 284, 4, 342...   \n",
       "4  [90, 8, 4, 972, 372, 29, 23, 237, 433, 5, 242,...   \n",
       "\n",
       "                             text_to_sequence_padded  \n",
       "0  [187, 7, 29, 125, 867, 13, 352, 6, 33, 193, 3,...  \n",
       "1  [7, 81, 207, 273, 209, 1983, 14, 539, 487, 68,...  \n",
       "2  [27, 7, 20, 34, 53, 57, 729, 175, 64, 211, 8, ...  \n",
       "3  [51, 23, 46, 552, 9, 7, 34, 53, 3, 284, 4, 342...  \n",
       "4  [90, 8, 4, 972, 372, 29, 23, 237, 433, 5, 242,...  "
      ]
     },
     "execution_count": 66,
     "metadata": {},
     "output_type": "execute_result"
    }
   ],
   "source": [
    "df.head()"
   ]
  },
  {
   "cell_type": "code",
   "execution_count": 67,
   "id": "9d4f435d",
   "metadata": {},
   "outputs": [],
   "source": [
    "from sklearn.model_selection import train_test_split\n",
    "X_train, X_test, y_train, y_test = train_test_split(df['text_to_sequence_padded'] , df['rating'], test_size=0.3)"
   ]
  },
  {
   "cell_type": "markdown",
   "id": "2f511e63",
   "metadata": {},
   "source": [
    "## Word Embeddings"
   ]
  },
  {
   "cell_type": "code",
   "execution_count": 68,
   "id": "5c4ac770",
   "metadata": {},
   "outputs": [
    {
     "name": "stdout",
     "output_type": "stream",
     "text": [
      "Found 929593 word vectors.\n"
     ]
    }
   ],
   "source": [
    "def is_float(s):\n",
    "    try:\n",
    "        float(s)  \n",
    "        return True\n",
    "    except ValueError:\n",
    "        return False\n",
    "\n",
    "\n",
    "embeddings_index = {}\n",
    "\n",
    "f = open('glove_s100.txt', encoding=\"utf8\")\n",
    "for line in f:\n",
    "    values = line.split()\n",
    "    word = values[0]\n",
    "    \n",
    "    coefs = []\n",
    "    for coef in values[1:]:\n",
    "        if (is_float(coef)):\n",
    "            coefs.append(coef)\n",
    "    \n",
    "    coefs = np.asarray(coefs, dtype='float32')\n",
    "    embeddings_index[word] = coefs\n",
    "f.close()\n",
    "\n",
    "print('Found %s word vectors.' % len(embeddings_index))"
   ]
  },
  {
   "cell_type": "code",
   "execution_count": 71,
   "id": "72ca61ee",
   "metadata": {},
   "outputs": [],
   "source": [
    "embedding_dict = {}\n",
    "\n",
    "for i, word in enumerate(list(word_count.keys())):\n",
    "    embedding_vector = embeddings_index.get(word)\n",
    "    if (embedding_vector is not None):\n",
    "        embedding_dict[word] = embedding_vector\n",
    "    else:\n",
    "        embedding_dict[word] = np.zeros(100)"
   ]
  },
  {
   "cell_type": "code",
   "execution_count": 72,
   "id": "1bd1e835",
   "metadata": {},
   "outputs": [],
   "source": [
    "embedding_matrix = np.zeros((len(word_count) + 1, 100))\n",
    "\n",
    "\n",
    "for i, word in enumerate(list(word_count.keys())):\n",
    "    embedding_vector = embeddings_index.get(word)\n",
    "    if embedding_vector is not None:\n",
    "        # words not found in embedding index will be all-zeros.\n",
    "        embedding_matrix[i] = embedding_vector[:100]"
   ]
  },
  {
   "cell_type": "code",
   "execution_count": 73,
   "id": "f61fbbe5",
   "metadata": {},
   "outputs": [
    {
     "data": {
      "text/plain": [
       "array([[-0.305601  ,  0.74182701,  0.226575  , ...,  0.330221  ,\n",
       "        -0.41939199, -0.13473   ],\n",
       "       [-0.54010999, -0.063359  ,  0.194538  , ...,  1.01390898,\n",
       "         2.47899199, -0.193909  ],\n",
       "       [-0.034939  ,  0.24406201, -0.181127  , ..., -0.184467  ,\n",
       "        -0.189509  ,  0.022892  ],\n",
       "       ...,\n",
       "       [ 0.        ,  0.        ,  0.        , ...,  0.        ,\n",
       "         0.        ,  0.        ],\n",
       "       [ 0.        ,  0.        ,  0.        , ...,  0.        ,\n",
       "         0.        ,  0.        ],\n",
       "       [ 0.        ,  0.        ,  0.        , ...,  0.        ,\n",
       "         0.        ,  0.        ]])"
      ]
     },
     "execution_count": 73,
     "metadata": {},
     "output_type": "execute_result"
    }
   ],
   "source": [
    "embedding_matrix"
   ]
  },
  {
   "cell_type": "markdown",
   "id": "b64c65e8",
   "metadata": {},
   "source": [
    "## Criando a Camada de Embedding"
   ]
  },
  {
   "cell_type": "code",
   "execution_count": 74,
   "id": "c7d87886",
   "metadata": {},
   "outputs": [],
   "source": [
    "import tensorflow\n",
    "from tensorflow.keras.layers import Embedding\n",
    "\n",
    "embedding_layer = Embedding(input_dim=len(word_count) + 1,\n",
    "                            output_dim=100,\n",
    "                            weights=[embedding_matrix],\n",
    "                            input_length=100,\n",
    "                            trainable=False) "
   ]
  },
  {
   "cell_type": "code",
   "execution_count": 75,
   "id": "fef804d1",
   "metadata": {},
   "outputs": [],
   "source": [
    "from tensorflow.keras import *\n",
    "from tensorflow.keras.layers import *\n",
    "\n",
    "model = Sequential([\n",
    "    embedding_layer,\n",
    "    Conv1D(128, 5, activation='relu'),\n",
    "    GlobalMaxPooling1D(),\n",
    "    Dense(10, activation='relu'),\n",
    "    Dense(1, activation='softmax')\n",
    "])"
   ]
  },
  {
   "cell_type": "code",
   "execution_count": 76,
   "id": "ea11d71e",
   "metadata": {},
   "outputs": [],
   "source": [
    "model.compile(loss='binary_crossentropy',optimizer='adam',metrics=['accuracy'])"
   ]
  },
  {
   "cell_type": "code",
   "execution_count": 77,
   "id": "f58761b3",
   "metadata": {
    "scrolled": true
   },
   "outputs": [],
   "source": [
    "Stem_Embedded = []\n",
    "\n",
    "for i in range(len(df[\"Stem_teken_text\"])):\n",
    "    \n",
    "    line = list(df[\"Stem_teken_text\"][i])\n",
    "    embeddedLine = []\n",
    "    for i, token in enumerate(line[:20]): \n",
    "        embeddedLine.append(embedding_dict[token])\n",
    "    Stem_Embedded.append(np.asarray(embeddedLine, dtype=object))    \n",
    "    \n",
    "df[\"Stem_Embedded\"] = Stem_Embedded"
   ]
  },
  {
   "cell_type": "code",
   "execution_count": 78,
   "id": "6f1a6b0c",
   "metadata": {
    "scrolled": true
   },
   "outputs": [
    {
     "data": {
      "text/html": [
       "<div>\n",
       "<style scoped>\n",
       "    .dataframe tbody tr th:only-of-type {\n",
       "        vertical-align: middle;\n",
       "    }\n",
       "\n",
       "    .dataframe tbody tr th {\n",
       "        vertical-align: top;\n",
       "    }\n",
       "\n",
       "    .dataframe thead th {\n",
       "        text-align: right;\n",
       "    }\n",
       "</style>\n",
       "<table border=\"1\" class=\"dataframe\">\n",
       "  <thead>\n",
       "    <tr style=\"text-align: right;\">\n",
       "      <th></th>\n",
       "      <th>title</th>\n",
       "      <th>text</th>\n",
       "      <th>rating</th>\n",
       "      <th>date</th>\n",
       "      <th>text_token</th>\n",
       "      <th>Stem_teken_text</th>\n",
       "      <th>text_to_sequence</th>\n",
       "      <th>text_to_sequence_padded</th>\n",
       "      <th>Stem_Embedded</th>\n",
       "    </tr>\n",
       "  </thead>\n",
       "  <tbody>\n",
       "    <tr>\n",
       "      <th>0</th>\n",
       "      <td>Excelente custo benefício</td>\n",
       "      <td>Sobre o produto: visual muito bonito e bem aca...</td>\n",
       "      <td>5</td>\n",
       "      <td>9 de outubro de 2019</td>\n",
       "      <td>Sobre, o, produto, :, visual, muito, bonito, e...</td>\n",
       "      <td>[sobr, o, produt, :, visual, muit, bonit, e, b...</td>\n",
       "      <td>[187, 7, 29, 125, 867, 13, 352, 6, 33, 193, 3,...</td>\n",
       "      <td>[187, 7, 29, 125, 867, 13, 352, 6, 33, 193, 3,...</td>\n",
       "      <td>[[-0.30560100078582764, 0.7418270111083984, 0....</td>\n",
       "    </tr>\n",
       "    <tr>\n",
       "      <th>1</th>\n",
       "      <td>Péssimo início - defeito ao tirar da caixa</td>\n",
       "      <td>O dispositivo possui 4 microfones direcionais ...</td>\n",
       "      <td>1</td>\n",
       "      <td>8 de outubro de 2019</td>\n",
       "      <td>O, dispositivo, possui, 4, microfones, direcio...</td>\n",
       "      <td>[o, disposi, possu, 4, microfon, direc, do, to...</td>\n",
       "      <td>[7, 81, 207, 273, 209, 1983, 14, 539, 487, 68,...</td>\n",
       "      <td>[7, 81, 207, 273, 209, 1983, 14, 539, 487, 68,...</td>\n",
       "      <td>[[-0.5401099920272827, -0.06335899978876114, 0...</td>\n",
       "    </tr>\n",
       "    <tr>\n",
       "      <th>2</th>\n",
       "      <td>Excelente produto!</td>\n",
       "      <td>Comprei o Alexa Echo Dot (terceira geração) as...</td>\n",
       "      <td>5</td>\n",
       "      <td>8 de outubro de 2019</td>\n",
       "      <td>Comprei, o, Alexa, Echo, Dot, (, terceira, ger...</td>\n",
       "      <td>[compr, o, alex, ech, dot, (, terc, ger, ), as...</td>\n",
       "      <td>[27, 7, 20, 34, 53, 57, 729, 175, 64, 211, 8, ...</td>\n",
       "      <td>[27, 7, 20, 34, 53, 57, 729, 175, 64, 211, 8, ...</td>\n",
       "      <td>[[-0.024460000917315483, -0.03343600034713745,...</td>\n",
       "    </tr>\n",
       "    <tr>\n",
       "      <th>3</th>\n",
       "      <td>Muito Satisfeito</td>\n",
       "      <td>Ainda estou me adaptando com o Echo Dot.Fiz a ...</td>\n",
       "      <td>5</td>\n",
       "      <td>13 de novembro de 2019</td>\n",
       "      <td>Ainda, estou, me, adaptando, com, o, Echo, Dot...</td>\n",
       "      <td>[aind, est, me, adapt, com, o, ech, dot, ., fi...</td>\n",
       "      <td>[51, 23, 46, 552, 9, 7, 34, 53, 3, 284, 4, 342...</td>\n",
       "      <td>[51, 23, 46, 552, 9, 7, 34, 53, 3, 284, 4, 342...</td>\n",
       "      <td>[[0.39766401052474976, -0.07507599890232086, 0...</td>\n",
       "    </tr>\n",
       "    <tr>\n",
       "      <th>4</th>\n",
       "      <td>Decepção é o meu sentimento.</td>\n",
       "      <td>Acho que a propaganda desse produto está sendo...</td>\n",
       "      <td>1</td>\n",
       "      <td>23 de outubro de 2019</td>\n",
       "      <td>Acho, que, a, propaganda, desse, produto, está...</td>\n",
       "      <td>[ach, que, a, propagand, dess, produt, est, se...</td>\n",
       "      <td>[90, 8, 4, 972, 372, 29, 23, 237, 433, 5, 242,...</td>\n",
       "      <td>[90, 8, 4, 972, 372, 29, 23, 237, 433, 5, 242,...</td>\n",
       "      <td>[[-0.06772899627685547, -0.012360000051558018,...</td>\n",
       "    </tr>\n",
       "    <tr>\n",
       "      <th>...</th>\n",
       "      <td>...</td>\n",
       "      <td>...</td>\n",
       "      <td>...</td>\n",
       "      <td>...</td>\n",
       "      <td>...</td>\n",
       "      <td>...</td>\n",
       "      <td>...</td>\n",
       "      <td>...</td>\n",
       "      <td>...</td>\n",
       "    </tr>\n",
       "    <tr>\n",
       "      <th>4975</th>\n",
       "      <td>MELHOR COMPRA DA MINHA VIDA</td>\n",
       "      <td>Quería muito uma caixa de som para ouvir minha...</td>\n",
       "      <td>5</td>\n",
       "      <td>25 de novembro de 2020</td>\n",
       "      <td>Quería, muito, uma, caixa, de, som, para, ouvi...</td>\n",
       "      <td>[querí, muit, uma, caix, de, som, par, ouv, mi...</td>\n",
       "      <td>[1, 13, 17, 83, 5, 21, 12, 80, 35, 110, 2, 193...</td>\n",
       "      <td>[1, 13, 17, 83, 5, 21, 12, 80, 35, 110, 2, 193...</td>\n",
       "      <td>[[0.0, 0.0, 0.0, 0.0, 0.0, 0.0, 0.0, 0.0, 0.0,...</td>\n",
       "    </tr>\n",
       "    <tr>\n",
       "      <th>4976</th>\n",
       "      <td>SUPIMPA!!!!</td>\n",
       "      <td>Muito bom, melhor ainda do que eu pense, apena...</td>\n",
       "      <td>5</td>\n",
       "      <td>1 de dezembro de 2020</td>\n",
       "      <td>Muito, bom, ,, melhor, ainda, do, que, eu, pen...</td>\n",
       "      <td>[muit, bom, ,, melhor, aind, do, que, eu, pens...</td>\n",
       "      <td>[13, 52, 2, 54, 51, 14, 8, 37, 246, 2, 150, 13...</td>\n",
       "      <td>[13, 52, 2, 54, 51, 14, 8, 37, 246, 2, 150, 13...</td>\n",
       "      <td>[[-0.44430598616600037, -0.6008830070495605, 0...</td>\n",
       "    </tr>\n",
       "    <tr>\n",
       "      <th>4977</th>\n",
       "      <td>A melhor</td>\n",
       "      <td>O que mais gostei, é a qualidade de áudio, vol...</td>\n",
       "      <td>5</td>\n",
       "      <td>17 de junho de 2021</td>\n",
       "      <td>O, que, mais, gostei, ,, é, a, qualidade, de, ...</td>\n",
       "      <td>[o, que, mais, gost, ,, é, a, qual, de, áudi, ...</td>\n",
       "      <td>[7, 8, 25, 67, 2, 10, 4, 38, 5, 232, 2, 128, 9...</td>\n",
       "      <td>[7, 8, 25, 67, 2, 10, 4, 38, 5, 232, 2, 128, 9...</td>\n",
       "      <td>[[-0.5401099920272827, -0.06335899978876114, 0...</td>\n",
       "    </tr>\n",
       "    <tr>\n",
       "      <th>4978</th>\n",
       "      <td>A Alexa compensa muito comprar.</td>\n",
       "      <td>Muito boa, reconhece muito bem a voz , o volum...</td>\n",
       "      <td>5</td>\n",
       "      <td>12 de agosto de 2020</td>\n",
       "      <td>Muito, boa, ,, reconhece, muito, bem, a, voz, ...</td>\n",
       "      <td>[muit, boa, ,, reconhec, muit, bem, a, voz, ,,...</td>\n",
       "      <td>[13, 84, 2, 48, 13, 33, 4, 36, 2, 7, 128, 10, ...</td>\n",
       "      <td>[13, 84, 2, 48, 13, 33, 4, 36, 2, 7, 128, 10, ...</td>\n",
       "      <td>[[-0.44430598616600037, -0.6008830070495605, 0...</td>\n",
       "    </tr>\n",
       "    <tr>\n",
       "      <th>4979</th>\n",
       "      <td>Muito satisfeito</td>\n",
       "      <td>Ótimo produto, desperta, acende a lâmpada, toc...</td>\n",
       "      <td>5</td>\n",
       "      <td>8 de janeiro de 2021</td>\n",
       "      <td>Ótimo, produto, ,, desperta, ,, acende, a, lâm...</td>\n",
       "      <td>[ótim, produt, ,, despert, ,, acend, a, lâmp, ...</td>\n",
       "      <td>[69, 29, 2, 358, 2, 489, 4, 186, 2, 104, 41, 3...</td>\n",
       "      <td>[69, 29, 2, 358, 2, 489, 4, 186, 2, 104, 41, 3...</td>\n",
       "      <td>[[0.0, 0.0, 0.0, 0.0, 0.0, 0.0, 0.0, 0.0, 0.0,...</td>\n",
       "    </tr>\n",
       "  </tbody>\n",
       "</table>\n",
       "<p>4980 rows × 9 columns</p>\n",
       "</div>"
      ],
      "text/plain": [
       "                                           title  \\\n",
       "0                      Excelente custo benefício   \n",
       "1     Péssimo início - defeito ao tirar da caixa   \n",
       "2                             Excelente produto!   \n",
       "3                               Muito Satisfeito   \n",
       "4                   Decepção é o meu sentimento.   \n",
       "...                                          ...   \n",
       "4975                 MELHOR COMPRA DA MINHA VIDA   \n",
       "4976                                 SUPIMPA!!!!   \n",
       "4977                                    A melhor   \n",
       "4978             A Alexa compensa muito comprar.   \n",
       "4979                            Muito satisfeito   \n",
       "\n",
       "                                                   text  rating  \\\n",
       "0     Sobre o produto: visual muito bonito e bem aca...       5   \n",
       "1     O dispositivo possui 4 microfones direcionais ...       1   \n",
       "2     Comprei o Alexa Echo Dot (terceira geração) as...       5   \n",
       "3     Ainda estou me adaptando com o Echo Dot.Fiz a ...       5   \n",
       "4     Acho que a propaganda desse produto está sendo...       1   \n",
       "...                                                 ...     ...   \n",
       "4975  Quería muito uma caixa de som para ouvir minha...       5   \n",
       "4976  Muito bom, melhor ainda do que eu pense, apena...       5   \n",
       "4977  O que mais gostei, é a qualidade de áudio, vol...       5   \n",
       "4978  Muito boa, reconhece muito bem a voz , o volum...       5   \n",
       "4979  Ótimo produto, desperta, acende a lâmpada, toc...       5   \n",
       "\n",
       "                        date  \\\n",
       "0       9 de outubro de 2019   \n",
       "1       8 de outubro de 2019   \n",
       "2       8 de outubro de 2019   \n",
       "3     13 de novembro de 2019   \n",
       "4      23 de outubro de 2019   \n",
       "...                      ...   \n",
       "4975  25 de novembro de 2020   \n",
       "4976   1 de dezembro de 2020   \n",
       "4977     17 de junho de 2021   \n",
       "4978    12 de agosto de 2020   \n",
       "4979    8 de janeiro de 2021   \n",
       "\n",
       "                                             text_token  \\\n",
       "0     Sobre, o, produto, :, visual, muito, bonito, e...   \n",
       "1     O, dispositivo, possui, 4, microfones, direcio...   \n",
       "2     Comprei, o, Alexa, Echo, Dot, (, terceira, ger...   \n",
       "3     Ainda, estou, me, adaptando, com, o, Echo, Dot...   \n",
       "4     Acho, que, a, propaganda, desse, produto, está...   \n",
       "...                                                 ...   \n",
       "4975  Quería, muito, uma, caixa, de, som, para, ouvi...   \n",
       "4976  Muito, bom, ,, melhor, ainda, do, que, eu, pen...   \n",
       "4977  O, que, mais, gostei, ,, é, a, qualidade, de, ...   \n",
       "4978  Muito, boa, ,, reconhece, muito, bem, a, voz, ...   \n",
       "4979  Ótimo, produto, ,, desperta, ,, acende, a, lâm...   \n",
       "\n",
       "                                        Stem_teken_text  \\\n",
       "0     [sobr, o, produt, :, visual, muit, bonit, e, b...   \n",
       "1     [o, disposi, possu, 4, microfon, direc, do, to...   \n",
       "2     [compr, o, alex, ech, dot, (, terc, ger, ), as...   \n",
       "3     [aind, est, me, adapt, com, o, ech, dot, ., fi...   \n",
       "4     [ach, que, a, propagand, dess, produt, est, se...   \n",
       "...                                                 ...   \n",
       "4975  [querí, muit, uma, caix, de, som, par, ouv, mi...   \n",
       "4976  [muit, bom, ,, melhor, aind, do, que, eu, pens...   \n",
       "4977  [o, que, mais, gost, ,, é, a, qual, de, áudi, ...   \n",
       "4978  [muit, boa, ,, reconhec, muit, bem, a, voz, ,,...   \n",
       "4979  [ótim, produt, ,, despert, ,, acend, a, lâmp, ...   \n",
       "\n",
       "                                       text_to_sequence  \\\n",
       "0     [187, 7, 29, 125, 867, 13, 352, 6, 33, 193, 3,...   \n",
       "1     [7, 81, 207, 273, 209, 1983, 14, 539, 487, 68,...   \n",
       "2     [27, 7, 20, 34, 53, 57, 729, 175, 64, 211, 8, ...   \n",
       "3     [51, 23, 46, 552, 9, 7, 34, 53, 3, 284, 4, 342...   \n",
       "4     [90, 8, 4, 972, 372, 29, 23, 237, 433, 5, 242,...   \n",
       "...                                                 ...   \n",
       "4975  [1, 13, 17, 83, 5, 21, 12, 80, 35, 110, 2, 193...   \n",
       "4976  [13, 52, 2, 54, 51, 14, 8, 37, 246, 2, 150, 13...   \n",
       "4977  [7, 8, 25, 67, 2, 10, 4, 38, 5, 232, 2, 128, 9...   \n",
       "4978  [13, 84, 2, 48, 13, 33, 4, 36, 2, 7, 128, 10, ...   \n",
       "4979  [69, 29, 2, 358, 2, 489, 4, 186, 2, 104, 41, 3...   \n",
       "\n",
       "                                text_to_sequence_padded  \\\n",
       "0     [187, 7, 29, 125, 867, 13, 352, 6, 33, 193, 3,...   \n",
       "1     [7, 81, 207, 273, 209, 1983, 14, 539, 487, 68,...   \n",
       "2     [27, 7, 20, 34, 53, 57, 729, 175, 64, 211, 8, ...   \n",
       "3     [51, 23, 46, 552, 9, 7, 34, 53, 3, 284, 4, 342...   \n",
       "4     [90, 8, 4, 972, 372, 29, 23, 237, 433, 5, 242,...   \n",
       "...                                                 ...   \n",
       "4975  [1, 13, 17, 83, 5, 21, 12, 80, 35, 110, 2, 193...   \n",
       "4976  [13, 52, 2, 54, 51, 14, 8, 37, 246, 2, 150, 13...   \n",
       "4977  [7, 8, 25, 67, 2, 10, 4, 38, 5, 232, 2, 128, 9...   \n",
       "4978  [13, 84, 2, 48, 13, 33, 4, 36, 2, 7, 128, 10, ...   \n",
       "4979  [69, 29, 2, 358, 2, 489, 4, 186, 2, 104, 41, 3...   \n",
       "\n",
       "                                          Stem_Embedded  \n",
       "0     [[-0.30560100078582764, 0.7418270111083984, 0....  \n",
       "1     [[-0.5401099920272827, -0.06335899978876114, 0...  \n",
       "2     [[-0.024460000917315483, -0.03343600034713745,...  \n",
       "3     [[0.39766401052474976, -0.07507599890232086, 0...  \n",
       "4     [[-0.06772899627685547, -0.012360000051558018,...  \n",
       "...                                                 ...  \n",
       "4975  [[0.0, 0.0, 0.0, 0.0, 0.0, 0.0, 0.0, 0.0, 0.0,...  \n",
       "4976  [[-0.44430598616600037, -0.6008830070495605, 0...  \n",
       "4977  [[-0.5401099920272827, -0.06335899978876114, 0...  \n",
       "4978  [[-0.44430598616600037, -0.6008830070495605, 0...  \n",
       "4979  [[0.0, 0.0, 0.0, 0.0, 0.0, 0.0, 0.0, 0.0, 0.0,...  \n",
       "\n",
       "[4980 rows x 9 columns]"
      ]
     },
     "execution_count": 78,
     "metadata": {},
     "output_type": "execute_result"
    }
   ],
   "source": [
    "df"
   ]
  },
  {
   "cell_type": "code",
   "execution_count": 80,
   "id": "1432cd06",
   "metadata": {},
   "outputs": [],
   "source": [
    "newRatings = []\n",
    "\n",
    "for rating in df[\"rating\"]:\n",
    "    if rating==1 or rating==2 or rating==3:\n",
    "        newRatings.append(0)\n",
    "    else:\n",
    "        newRatings.append(1)\n",
    "        \n",
    "df[\"rating\"] = newRatings"
   ]
  },
  {
   "cell_type": "code",
   "execution_count": 81,
   "id": "e8c7d371",
   "metadata": {},
   "outputs": [
    {
     "data": {
      "text/html": [
       "<div>\n",
       "<style scoped>\n",
       "    .dataframe tbody tr th:only-of-type {\n",
       "        vertical-align: middle;\n",
       "    }\n",
       "\n",
       "    .dataframe tbody tr th {\n",
       "        vertical-align: top;\n",
       "    }\n",
       "\n",
       "    .dataframe thead th {\n",
       "        text-align: right;\n",
       "    }\n",
       "</style>\n",
       "<table border=\"1\" class=\"dataframe\">\n",
       "  <thead>\n",
       "    <tr style=\"text-align: right;\">\n",
       "      <th></th>\n",
       "      <th>title</th>\n",
       "      <th>text</th>\n",
       "      <th>rating</th>\n",
       "      <th>date</th>\n",
       "      <th>text_token</th>\n",
       "      <th>Stem_teken_text</th>\n",
       "      <th>text_to_sequence</th>\n",
       "      <th>text_to_sequence_padded</th>\n",
       "      <th>Stem_Embedded</th>\n",
       "    </tr>\n",
       "  </thead>\n",
       "  <tbody>\n",
       "    <tr>\n",
       "      <th>0</th>\n",
       "      <td>Excelente custo benefício</td>\n",
       "      <td>Sobre o produto: visual muito bonito e bem aca...</td>\n",
       "      <td>1</td>\n",
       "      <td>9 de outubro de 2019</td>\n",
       "      <td>Sobre, o, produto, :, visual, muito, bonito, e...</td>\n",
       "      <td>[sobr, o, produt, :, visual, muit, bonit, e, b...</td>\n",
       "      <td>[187, 7, 29, 125, 867, 13, 352, 6, 33, 193, 3,...</td>\n",
       "      <td>[187, 7, 29, 125, 867, 13, 352, 6, 33, 193, 3,...</td>\n",
       "      <td>[[-0.30560100078582764, 0.7418270111083984, 0....</td>\n",
       "    </tr>\n",
       "    <tr>\n",
       "      <th>1</th>\n",
       "      <td>Péssimo início - defeito ao tirar da caixa</td>\n",
       "      <td>O dispositivo possui 4 microfones direcionais ...</td>\n",
       "      <td>0</td>\n",
       "      <td>8 de outubro de 2019</td>\n",
       "      <td>O, dispositivo, possui, 4, microfones, direcio...</td>\n",
       "      <td>[o, disposi, possu, 4, microfon, direc, do, to...</td>\n",
       "      <td>[7, 81, 207, 273, 209, 1983, 14, 539, 487, 68,...</td>\n",
       "      <td>[7, 81, 207, 273, 209, 1983, 14, 539, 487, 68,...</td>\n",
       "      <td>[[-0.5401099920272827, -0.06335899978876114, 0...</td>\n",
       "    </tr>\n",
       "    <tr>\n",
       "      <th>2</th>\n",
       "      <td>Excelente produto!</td>\n",
       "      <td>Comprei o Alexa Echo Dot (terceira geração) as...</td>\n",
       "      <td>1</td>\n",
       "      <td>8 de outubro de 2019</td>\n",
       "      <td>Comprei, o, Alexa, Echo, Dot, (, terceira, ger...</td>\n",
       "      <td>[compr, o, alex, ech, dot, (, terc, ger, ), as...</td>\n",
       "      <td>[27, 7, 20, 34, 53, 57, 729, 175, 64, 211, 8, ...</td>\n",
       "      <td>[27, 7, 20, 34, 53, 57, 729, 175, 64, 211, 8, ...</td>\n",
       "      <td>[[-0.024460000917315483, -0.03343600034713745,...</td>\n",
       "    </tr>\n",
       "    <tr>\n",
       "      <th>3</th>\n",
       "      <td>Muito Satisfeito</td>\n",
       "      <td>Ainda estou me adaptando com o Echo Dot.Fiz a ...</td>\n",
       "      <td>1</td>\n",
       "      <td>13 de novembro de 2019</td>\n",
       "      <td>Ainda, estou, me, adaptando, com, o, Echo, Dot...</td>\n",
       "      <td>[aind, est, me, adapt, com, o, ech, dot, ., fi...</td>\n",
       "      <td>[51, 23, 46, 552, 9, 7, 34, 53, 3, 284, 4, 342...</td>\n",
       "      <td>[51, 23, 46, 552, 9, 7, 34, 53, 3, 284, 4, 342...</td>\n",
       "      <td>[[0.39766401052474976, -0.07507599890232086, 0...</td>\n",
       "    </tr>\n",
       "    <tr>\n",
       "      <th>4</th>\n",
       "      <td>Decepção é o meu sentimento.</td>\n",
       "      <td>Acho que a propaganda desse produto está sendo...</td>\n",
       "      <td>0</td>\n",
       "      <td>23 de outubro de 2019</td>\n",
       "      <td>Acho, que, a, propaganda, desse, produto, está...</td>\n",
       "      <td>[ach, que, a, propagand, dess, produt, est, se...</td>\n",
       "      <td>[90, 8, 4, 972, 372, 29, 23, 237, 433, 5, 242,...</td>\n",
       "      <td>[90, 8, 4, 972, 372, 29, 23, 237, 433, 5, 242,...</td>\n",
       "      <td>[[-0.06772899627685547, -0.012360000051558018,...</td>\n",
       "    </tr>\n",
       "    <tr>\n",
       "      <th>...</th>\n",
       "      <td>...</td>\n",
       "      <td>...</td>\n",
       "      <td>...</td>\n",
       "      <td>...</td>\n",
       "      <td>...</td>\n",
       "      <td>...</td>\n",
       "      <td>...</td>\n",
       "      <td>...</td>\n",
       "      <td>...</td>\n",
       "    </tr>\n",
       "    <tr>\n",
       "      <th>4975</th>\n",
       "      <td>MELHOR COMPRA DA MINHA VIDA</td>\n",
       "      <td>Quería muito uma caixa de som para ouvir minha...</td>\n",
       "      <td>1</td>\n",
       "      <td>25 de novembro de 2020</td>\n",
       "      <td>Quería, muito, uma, caixa, de, som, para, ouvi...</td>\n",
       "      <td>[querí, muit, uma, caix, de, som, par, ouv, mi...</td>\n",
       "      <td>[1, 13, 17, 83, 5, 21, 12, 80, 35, 110, 2, 193...</td>\n",
       "      <td>[1, 13, 17, 83, 5, 21, 12, 80, 35, 110, 2, 193...</td>\n",
       "      <td>[[0.0, 0.0, 0.0, 0.0, 0.0, 0.0, 0.0, 0.0, 0.0,...</td>\n",
       "    </tr>\n",
       "    <tr>\n",
       "      <th>4976</th>\n",
       "      <td>SUPIMPA!!!!</td>\n",
       "      <td>Muito bom, melhor ainda do que eu pense, apena...</td>\n",
       "      <td>1</td>\n",
       "      <td>1 de dezembro de 2020</td>\n",
       "      <td>Muito, bom, ,, melhor, ainda, do, que, eu, pen...</td>\n",
       "      <td>[muit, bom, ,, melhor, aind, do, que, eu, pens...</td>\n",
       "      <td>[13, 52, 2, 54, 51, 14, 8, 37, 246, 2, 150, 13...</td>\n",
       "      <td>[13, 52, 2, 54, 51, 14, 8, 37, 246, 2, 150, 13...</td>\n",
       "      <td>[[-0.44430598616600037, -0.6008830070495605, 0...</td>\n",
       "    </tr>\n",
       "    <tr>\n",
       "      <th>4977</th>\n",
       "      <td>A melhor</td>\n",
       "      <td>O que mais gostei, é a qualidade de áudio, vol...</td>\n",
       "      <td>1</td>\n",
       "      <td>17 de junho de 2021</td>\n",
       "      <td>O, que, mais, gostei, ,, é, a, qualidade, de, ...</td>\n",
       "      <td>[o, que, mais, gost, ,, é, a, qual, de, áudi, ...</td>\n",
       "      <td>[7, 8, 25, 67, 2, 10, 4, 38, 5, 232, 2, 128, 9...</td>\n",
       "      <td>[7, 8, 25, 67, 2, 10, 4, 38, 5, 232, 2, 128, 9...</td>\n",
       "      <td>[[-0.5401099920272827, -0.06335899978876114, 0...</td>\n",
       "    </tr>\n",
       "    <tr>\n",
       "      <th>4978</th>\n",
       "      <td>A Alexa compensa muito comprar.</td>\n",
       "      <td>Muito boa, reconhece muito bem a voz , o volum...</td>\n",
       "      <td>1</td>\n",
       "      <td>12 de agosto de 2020</td>\n",
       "      <td>Muito, boa, ,, reconhece, muito, bem, a, voz, ...</td>\n",
       "      <td>[muit, boa, ,, reconhec, muit, bem, a, voz, ,,...</td>\n",
       "      <td>[13, 84, 2, 48, 13, 33, 4, 36, 2, 7, 128, 10, ...</td>\n",
       "      <td>[13, 84, 2, 48, 13, 33, 4, 36, 2, 7, 128, 10, ...</td>\n",
       "      <td>[[-0.44430598616600037, -0.6008830070495605, 0...</td>\n",
       "    </tr>\n",
       "    <tr>\n",
       "      <th>4979</th>\n",
       "      <td>Muito satisfeito</td>\n",
       "      <td>Ótimo produto, desperta, acende a lâmpada, toc...</td>\n",
       "      <td>1</td>\n",
       "      <td>8 de janeiro de 2021</td>\n",
       "      <td>Ótimo, produto, ,, desperta, ,, acende, a, lâm...</td>\n",
       "      <td>[ótim, produt, ,, despert, ,, acend, a, lâmp, ...</td>\n",
       "      <td>[69, 29, 2, 358, 2, 489, 4, 186, 2, 104, 41, 3...</td>\n",
       "      <td>[69, 29, 2, 358, 2, 489, 4, 186, 2, 104, 41, 3...</td>\n",
       "      <td>[[0.0, 0.0, 0.0, 0.0, 0.0, 0.0, 0.0, 0.0, 0.0,...</td>\n",
       "    </tr>\n",
       "  </tbody>\n",
       "</table>\n",
       "<p>4980 rows × 9 columns</p>\n",
       "</div>"
      ],
      "text/plain": [
       "                                           title  \\\n",
       "0                      Excelente custo benefício   \n",
       "1     Péssimo início - defeito ao tirar da caixa   \n",
       "2                             Excelente produto!   \n",
       "3                               Muito Satisfeito   \n",
       "4                   Decepção é o meu sentimento.   \n",
       "...                                          ...   \n",
       "4975                 MELHOR COMPRA DA MINHA VIDA   \n",
       "4976                                 SUPIMPA!!!!   \n",
       "4977                                    A melhor   \n",
       "4978             A Alexa compensa muito comprar.   \n",
       "4979                            Muito satisfeito   \n",
       "\n",
       "                                                   text  rating  \\\n",
       "0     Sobre o produto: visual muito bonito e bem aca...       1   \n",
       "1     O dispositivo possui 4 microfones direcionais ...       0   \n",
       "2     Comprei o Alexa Echo Dot (terceira geração) as...       1   \n",
       "3     Ainda estou me adaptando com o Echo Dot.Fiz a ...       1   \n",
       "4     Acho que a propaganda desse produto está sendo...       0   \n",
       "...                                                 ...     ...   \n",
       "4975  Quería muito uma caixa de som para ouvir minha...       1   \n",
       "4976  Muito bom, melhor ainda do que eu pense, apena...       1   \n",
       "4977  O que mais gostei, é a qualidade de áudio, vol...       1   \n",
       "4978  Muito boa, reconhece muito bem a voz , o volum...       1   \n",
       "4979  Ótimo produto, desperta, acende a lâmpada, toc...       1   \n",
       "\n",
       "                        date  \\\n",
       "0       9 de outubro de 2019   \n",
       "1       8 de outubro de 2019   \n",
       "2       8 de outubro de 2019   \n",
       "3     13 de novembro de 2019   \n",
       "4      23 de outubro de 2019   \n",
       "...                      ...   \n",
       "4975  25 de novembro de 2020   \n",
       "4976   1 de dezembro de 2020   \n",
       "4977     17 de junho de 2021   \n",
       "4978    12 de agosto de 2020   \n",
       "4979    8 de janeiro de 2021   \n",
       "\n",
       "                                             text_token  \\\n",
       "0     Sobre, o, produto, :, visual, muito, bonito, e...   \n",
       "1     O, dispositivo, possui, 4, microfones, direcio...   \n",
       "2     Comprei, o, Alexa, Echo, Dot, (, terceira, ger...   \n",
       "3     Ainda, estou, me, adaptando, com, o, Echo, Dot...   \n",
       "4     Acho, que, a, propaganda, desse, produto, está...   \n",
       "...                                                 ...   \n",
       "4975  Quería, muito, uma, caixa, de, som, para, ouvi...   \n",
       "4976  Muito, bom, ,, melhor, ainda, do, que, eu, pen...   \n",
       "4977  O, que, mais, gostei, ,, é, a, qualidade, de, ...   \n",
       "4978  Muito, boa, ,, reconhece, muito, bem, a, voz, ...   \n",
       "4979  Ótimo, produto, ,, desperta, ,, acende, a, lâm...   \n",
       "\n",
       "                                        Stem_teken_text  \\\n",
       "0     [sobr, o, produt, :, visual, muit, bonit, e, b...   \n",
       "1     [o, disposi, possu, 4, microfon, direc, do, to...   \n",
       "2     [compr, o, alex, ech, dot, (, terc, ger, ), as...   \n",
       "3     [aind, est, me, adapt, com, o, ech, dot, ., fi...   \n",
       "4     [ach, que, a, propagand, dess, produt, est, se...   \n",
       "...                                                 ...   \n",
       "4975  [querí, muit, uma, caix, de, som, par, ouv, mi...   \n",
       "4976  [muit, bom, ,, melhor, aind, do, que, eu, pens...   \n",
       "4977  [o, que, mais, gost, ,, é, a, qual, de, áudi, ...   \n",
       "4978  [muit, boa, ,, reconhec, muit, bem, a, voz, ,,...   \n",
       "4979  [ótim, produt, ,, despert, ,, acend, a, lâmp, ...   \n",
       "\n",
       "                                       text_to_sequence  \\\n",
       "0     [187, 7, 29, 125, 867, 13, 352, 6, 33, 193, 3,...   \n",
       "1     [7, 81, 207, 273, 209, 1983, 14, 539, 487, 68,...   \n",
       "2     [27, 7, 20, 34, 53, 57, 729, 175, 64, 211, 8, ...   \n",
       "3     [51, 23, 46, 552, 9, 7, 34, 53, 3, 284, 4, 342...   \n",
       "4     [90, 8, 4, 972, 372, 29, 23, 237, 433, 5, 242,...   \n",
       "...                                                 ...   \n",
       "4975  [1, 13, 17, 83, 5, 21, 12, 80, 35, 110, 2, 193...   \n",
       "4976  [13, 52, 2, 54, 51, 14, 8, 37, 246, 2, 150, 13...   \n",
       "4977  [7, 8, 25, 67, 2, 10, 4, 38, 5, 232, 2, 128, 9...   \n",
       "4978  [13, 84, 2, 48, 13, 33, 4, 36, 2, 7, 128, 10, ...   \n",
       "4979  [69, 29, 2, 358, 2, 489, 4, 186, 2, 104, 41, 3...   \n",
       "\n",
       "                                text_to_sequence_padded  \\\n",
       "0     [187, 7, 29, 125, 867, 13, 352, 6, 33, 193, 3,...   \n",
       "1     [7, 81, 207, 273, 209, 1983, 14, 539, 487, 68,...   \n",
       "2     [27, 7, 20, 34, 53, 57, 729, 175, 64, 211, 8, ...   \n",
       "3     [51, 23, 46, 552, 9, 7, 34, 53, 3, 284, 4, 342...   \n",
       "4     [90, 8, 4, 972, 372, 29, 23, 237, 433, 5, 242,...   \n",
       "...                                                 ...   \n",
       "4975  [1, 13, 17, 83, 5, 21, 12, 80, 35, 110, 2, 193...   \n",
       "4976  [13, 52, 2, 54, 51, 14, 8, 37, 246, 2, 150, 13...   \n",
       "4977  [7, 8, 25, 67, 2, 10, 4, 38, 5, 232, 2, 128, 9...   \n",
       "4978  [13, 84, 2, 48, 13, 33, 4, 36, 2, 7, 128, 10, ...   \n",
       "4979  [69, 29, 2, 358, 2, 489, 4, 186, 2, 104, 41, 3...   \n",
       "\n",
       "                                          Stem_Embedded  \n",
       "0     [[-0.30560100078582764, 0.7418270111083984, 0....  \n",
       "1     [[-0.5401099920272827, -0.06335899978876114, 0...  \n",
       "2     [[-0.024460000917315483, -0.03343600034713745,...  \n",
       "3     [[0.39766401052474976, -0.07507599890232086, 0...  \n",
       "4     [[-0.06772899627685547, -0.012360000051558018,...  \n",
       "...                                                 ...  \n",
       "4975  [[0.0, 0.0, 0.0, 0.0, 0.0, 0.0, 0.0, 0.0, 0.0,...  \n",
       "4976  [[-0.44430598616600037, -0.6008830070495605, 0...  \n",
       "4977  [[-0.5401099920272827, -0.06335899978876114, 0...  \n",
       "4978  [[-0.44430598616600037, -0.6008830070495605, 0...  \n",
       "4979  [[0.0, 0.0, 0.0, 0.0, 0.0, 0.0, 0.0, 0.0, 0.0,...  \n",
       "\n",
       "[4980 rows x 9 columns]"
      ]
     },
     "execution_count": 81,
     "metadata": {},
     "output_type": "execute_result"
    }
   ],
   "source": [
    "df"
   ]
  },
  {
   "cell_type": "markdown",
   "id": "aa00e86f",
   "metadata": {},
   "source": [
    "## Divisao da Base em Treino e Teste"
   ]
  },
  {
   "cell_type": "code",
   "execution_count": 82,
   "id": "ed6649d4",
   "metadata": {},
   "outputs": [],
   "source": [
    "from sklearn.model_selection import train_test_split\n",
    "X_train, X_test, y_train, y_test = train_test_split(df['text_to_sequence_padded'], df['rating'], test_size=0.3)"
   ]
  },
  {
   "cell_type": "code",
   "execution_count": 83,
   "id": "92724bf3",
   "metadata": {
    "scrolled": true
   },
   "outputs": [
    {
     "data": {
      "text/plain": [
       "4505    [11, 75, 14, 8, 375, 18, 20, 2, 147, 15, 115, ...\n",
       "2734    [51, 23, 410, 6, 263, 102, 8, 4, 20, 61, 59, 3...\n",
       "2886    [440, 2, 301, 1219, 40, 13, 97, 101, 184, 309,...\n",
       "3667    [65, 237, 15, 341, 25, 812, 2, 1501, 66, 28, 3...\n",
       "3721    [4, 34, 53, 165, 10, 1023, 2, 17, 118, 8, 259,...\n",
       "                              ...                        \n",
       "1591    [7, 179, 10, 13, 52, 2, 13, 166, 2, 13, 171, 1...\n",
       "4177    [1153, 67, 13, 2, 171, 123, 48, 9, 277, 47, 9,...\n",
       "3609    [247, 261, 2, 20, 22, 135, 13, 22, 50, 4, 50, ...\n",
       "4716    [84, 166, 2, 469, 477, 6, 13, 172, 3, 129, 2, ...\n",
       "529     [303, 58, 2, 182, 389, 2, 4, 20, 46, 141, 3, 3...\n",
       "Name: text_to_sequence_padded, Length: 3486, dtype: object"
      ]
     },
     "execution_count": 83,
     "metadata": {},
     "output_type": "execute_result"
    }
   ],
   "source": [
    "X_train"
   ]
  },
  {
   "cell_type": "code",
   "execution_count": 84,
   "id": "bbbeac2e",
   "metadata": {
    "scrolled": true
   },
   "outputs": [
    {
     "data": {
      "text/plain": [
       "4718    [10, 13, 201, 388, 28, 117, 41, 9, 16, 3, 10, ...\n",
       "3680    [13, 52, 7, 29, 26, 73, 90, 15, 94, 703, 4, 41...\n",
       "2011    [13, 277, 5, 123, 2, 48, 596, 4, 117, 36, 6, 1...\n",
       "423     [29, 352, 2, 33, 193, 6, 9, 69, 38, 5, 21, 2, ...\n",
       "501     [830, 623, 2, 4557, 309, 7, 29, 32, 304, 18, 6...\n",
       "                              ...                        \n",
       "1073    [10, 17, 18, 54, 27, 8, 60, 284, 3, 4, 20, 31,...\n",
       "2248    [16, 48, 13, 33, 7, 8, 74, 103, 55, 143, 65, 9...\n",
       "4749    [4, 331, 11, 333, 49, 278, 3, 336, 37, 657, 3,...\n",
       "3370    [27, 12, 59, 618, 12, 35, 1783, 6, 37, 2, 16, ...\n",
       "3149    [7, 21, 10, 13, 52, 12, 7, 153, 14, 53, 2, 469...\n",
       "Name: text_to_sequence_padded, Length: 1494, dtype: object"
      ]
     },
     "execution_count": 84,
     "metadata": {},
     "output_type": "execute_result"
    }
   ],
   "source": [
    "X_test"
   ]
  },
  {
   "cell_type": "code",
   "execution_count": null,
   "id": "039e7e50",
   "metadata": {},
   "outputs": [],
   "source": [
    "\"\"\"from keras import backend as K\n",
    "\n",
    "X_train = list(X_train)\n",
    "\n",
    "for i in range(len(X_train)):\n",
    "    X_train[i] = K.cast_to_floatx(X_train[i])\n",
    "\n",
    "X_train\n",
    "\"\"\""
   ]
  },
  {
   "cell_type": "code",
   "execution_count": 85,
   "id": "186dc7b2",
   "metadata": {},
   "outputs": [],
   "source": [
    "X_train_tensor = np.zeros((len(X_train), 100))\n",
    "\n",
    "for i in range (len(X_train)):\n",
    "    X_train_tensor[i] = X_train.iloc[i]"
   ]
  },
  {
   "cell_type": "code",
   "execution_count": 86,
   "id": "bf23235b",
   "metadata": {},
   "outputs": [
    {
     "data": {
      "text/plain": [
       "(3486, 100)"
      ]
     },
     "execution_count": 86,
     "metadata": {},
     "output_type": "execute_result"
    }
   ],
   "source": [
    "X_train_tensor.shape"
   ]
  },
  {
   "cell_type": "code",
   "execution_count": 87,
   "id": "cf28fc40",
   "metadata": {},
   "outputs": [],
   "source": [
    "X_test_tensor = np.zeros((len(X_test), 100))\n",
    "\n",
    "for i in range (len(X_test)):\n",
    "    X_test_tensor[i] = X_test.iloc[i]"
   ]
  },
  {
   "cell_type": "code",
   "execution_count": 89,
   "id": "b8c89143",
   "metadata": {},
   "outputs": [
    {
     "data": {
      "text/plain": [
       "(1494, 100)"
      ]
     },
     "execution_count": 89,
     "metadata": {},
     "output_type": "execute_result"
    }
   ],
   "source": [
    "X_test_tensor.shape"
   ]
  },
  {
   "cell_type": "code",
   "execution_count": 90,
   "id": "78fcd336",
   "metadata": {},
   "outputs": [],
   "source": [
    "y_train = np.stack(y_train, axis=0)  \n",
    "y_test = np.stack(y_test, axis=0)  "
   ]
  },
  {
   "cell_type": "code",
   "execution_count": 91,
   "id": "4286e153",
   "metadata": {},
   "outputs": [
    {
     "data": {
      "text/plain": [
       "array([1, 1, 1, ..., 1, 1, 1])"
      ]
     },
     "execution_count": 91,
     "metadata": {},
     "output_type": "execute_result"
    }
   ],
   "source": [
    "y_train"
   ]
  },
  {
   "cell_type": "code",
   "execution_count": 92,
   "id": "c554e2d1",
   "metadata": {},
   "outputs": [
    {
     "data": {
      "text/plain": [
       "array([1, 1, 1, ..., 1, 1, 1])"
      ]
     },
     "execution_count": 92,
     "metadata": {},
     "output_type": "execute_result"
    }
   ],
   "source": [
    "y_test"
   ]
  },
  {
   "cell_type": "code",
   "execution_count": 93,
   "id": "20f16b0f",
   "metadata": {
    "scrolled": true
   },
   "outputs": [
    {
     "name": "stdout",
     "output_type": "stream",
     "text": [
      "Epoch 1/30\n",
      "109/109 [==============================] - 1s 8ms/step - loss: 0.3746 - accuracy: 0.8689 - val_loss: 0.3906 - val_accuracy: 0.8461\n",
      "Epoch 2/30\n",
      "109/109 [==============================] - 1s 7ms/step - loss: 0.2992 - accuracy: 0.8689 - val_loss: 0.3687 - val_accuracy: 0.8461\n",
      "Epoch 3/30\n",
      "109/109 [==============================] - 1s 7ms/step - loss: 0.2467 - accuracy: 0.8689 - val_loss: 0.3573 - val_accuracy: 0.8461\n",
      "Epoch 4/30\n",
      "109/109 [==============================] - 1s 7ms/step - loss: 0.1686 - accuracy: 0.8689 - val_loss: 0.3517 - val_accuracy: 0.8461\n",
      "Epoch 5/30\n",
      "109/109 [==============================] - 1s 8ms/step - loss: 0.1047 - accuracy: 0.8689 - val_loss: 0.3518 - val_accuracy: 0.8461\n",
      "Epoch 6/30\n",
      "109/109 [==============================] - 1s 7ms/step - loss: 0.0559 - accuracy: 0.8689 - val_loss: 0.3753 - val_accuracy: 0.8461\n",
      "Epoch 7/30\n",
      "109/109 [==============================] - 1s 7ms/step - loss: 0.0284 - accuracy: 0.8689 - val_loss: 0.4236 - val_accuracy: 0.8461\n",
      "Epoch 8/30\n",
      "109/109 [==============================] - 1s 7ms/step - loss: 0.0145 - accuracy: 0.8689 - val_loss: 0.4367 - val_accuracy: 0.8461\n",
      "Epoch 9/30\n",
      "109/109 [==============================] - 1s 7ms/step - loss: 0.0092 - accuracy: 0.8689 - val_loss: 0.4561 - val_accuracy: 0.8461\n",
      "Epoch 10/30\n",
      "109/109 [==============================] - 1s 7ms/step - loss: 0.0063 - accuracy: 0.8689 - val_loss: 0.4886 - val_accuracy: 0.8461\n",
      "Epoch 11/30\n",
      "109/109 [==============================] - 1s 7ms/step - loss: 0.0044 - accuracy: 0.8689 - val_loss: 0.4881 - val_accuracy: 0.8461\n",
      "Epoch 12/30\n",
      "109/109 [==============================] - 1s 7ms/step - loss: 0.0033 - accuracy: 0.8689 - val_loss: 0.5602 - val_accuracy: 0.8461\n",
      "Epoch 13/30\n",
      "109/109 [==============================] - 1s 7ms/step - loss: 0.0025 - accuracy: 0.8689 - val_loss: 0.5393 - val_accuracy: 0.8461\n",
      "Epoch 14/30\n",
      "109/109 [==============================] - 1s 7ms/step - loss: 0.0020 - accuracy: 0.8689 - val_loss: 0.5679 - val_accuracy: 0.8461\n",
      "Epoch 15/30\n",
      "109/109 [==============================] - 1s 7ms/step - loss: 0.0017 - accuracy: 0.8689 - val_loss: 0.5893 - val_accuracy: 0.8461\n",
      "Epoch 16/30\n",
      "109/109 [==============================] - 1s 7ms/step - loss: 0.0014 - accuracy: 0.8689 - val_loss: 0.5776 - val_accuracy: 0.8461\n",
      "Epoch 17/30\n",
      "109/109 [==============================] - 1s 7ms/step - loss: 0.0012 - accuracy: 0.8689 - val_loss: 0.6013 - val_accuracy: 0.8461\n",
      "Epoch 18/30\n",
      "109/109 [==============================] - 1s 7ms/step - loss: 0.0010 - accuracy: 0.8689 - val_loss: 0.6210 - val_accuracy: 0.8461\n",
      "Epoch 19/30\n",
      "109/109 [==============================] - 1s 7ms/step - loss: 8.6026e-04 - accuracy: 0.8689 - val_loss: 0.6260 - val_accuracy: 0.8461\n",
      "Epoch 20/30\n",
      "109/109 [==============================] - 1s 7ms/step - loss: 7.4188e-04 - accuracy: 0.8689 - val_loss: 0.6439 - val_accuracy: 0.8461\n",
      "Epoch 21/30\n",
      "109/109 [==============================] - 1s 7ms/step - loss: 6.4975e-04 - accuracy: 0.8689 - val_loss: 0.6452 - val_accuracy: 0.8461\n",
      "Epoch 22/30\n",
      "109/109 [==============================] - 1s 7ms/step - loss: 5.6862e-04 - accuracy: 0.8689 - val_loss: 0.6710 - val_accuracy: 0.8461\n",
      "Epoch 23/30\n",
      "109/109 [==============================] - 1s 7ms/step - loss: 5.0417e-04 - accuracy: 0.8689 - val_loss: 0.6701 - val_accuracy: 0.8461\n",
      "Epoch 24/30\n",
      "109/109 [==============================] - 1s 7ms/step - loss: 4.4371e-04 - accuracy: 0.8689 - val_loss: 0.6810 - val_accuracy: 0.8461\n",
      "Epoch 25/30\n",
      "109/109 [==============================] - 1s 7ms/step - loss: 3.9629e-04 - accuracy: 0.8689 - val_loss: 0.7092 - val_accuracy: 0.8461\n",
      "Epoch 26/30\n",
      "109/109 [==============================] - 1s 7ms/step - loss: 3.5386e-04 - accuracy: 0.8689 - val_loss: 0.6994 - val_accuracy: 0.8461\n",
      "Epoch 27/30\n",
      "109/109 [==============================] - 1s 7ms/step - loss: 3.1814e-04 - accuracy: 0.8689 - val_loss: 0.6885 - val_accuracy: 0.8461\n",
      "Epoch 28/30\n",
      "109/109 [==============================] - 1s 7ms/step - loss: 2.8587e-04 - accuracy: 0.8689 - val_loss: 0.7192 - val_accuracy: 0.8461\n",
      "Epoch 29/30\n",
      "109/109 [==============================] - 1s 7ms/step - loss: 2.5722e-04 - accuracy: 0.8689 - val_loss: 0.7197 - val_accuracy: 0.8461\n",
      "Epoch 30/30\n",
      "109/109 [==============================] - 1s 7ms/step - loss: 2.3351e-04 - accuracy: 0.8689 - val_loss: 0.7132 - val_accuracy: 0.8461\n"
     ]
    }
   ],
   "source": [
    "history = model.fit(X_train_tensor, y_train, epochs=30, validation_data=(X_test_tensor, y_test))"
   ]
  },
  {
   "cell_type": "code",
   "execution_count": 94,
   "id": "da6b3f14",
   "metadata": {},
   "outputs": [
    {
     "name": "stdout",
     "output_type": "stream",
     "text": [
      "47/47 [==============================] - 0s 2ms/step - loss: 0.7132 - accuracy: 0.8461\n",
      "Testing Accuracy is 84.60508584976196 \n"
     ]
    }
   ],
   "source": [
    "loss, accuracy = model.evaluate(X_test_tensor,y_test)\n",
    "print('Testing Accuracy is {} '.format(accuracy*100))"
   ]
  },
  {
   "cell_type": "markdown",
   "id": "e937ea18",
   "metadata": {},
   "source": [
    "## Tunning de Parametros"
   ]
  },
  {
   "cell_type": "code",
   "execution_count": 95,
   "id": "de9f5fcb",
   "metadata": {},
   "outputs": [],
   "source": [
    "def model_to_optimize(num_filters, kernel_size):\n",
    "    model = Sequential([\n",
    "      embedding_layer,\n",
    "      Conv1D(num_filters, kernel_size, activation='relu'),\n",
    "      GlobalMaxPooling1D(),\n",
    "      Dense(10, activation='relu'),\n",
    "      Dense(1, activation='sigmoid')])\n",
    "    model.compile(loss='binary_crossentropy',optimizer='adam',metrics=['accuracy'])\n",
    "    return model"
   ]
  },
  {
   "cell_type": "code",
   "execution_count": 96,
   "id": "e64a10cf",
   "metadata": {},
   "outputs": [],
   "source": [
    "params = {\n",
    "    \"num_filters\":[32, 64, 128, 256],\n",
    "    \"kernel_size\":[3, 5, 7, 9],\n",
    "}"
   ]
  },
  {
   "cell_type": "code",
   "execution_count": 97,
   "id": "a3cc22ff",
   "metadata": {},
   "outputs": [
    {
     "name": "stderr",
     "output_type": "stream",
     "text": [
      "C:\\Users\\ton2\\AppData\\Local\\Temp/ipykernel_19484/2991201996.py:2: DeprecationWarning: KerasClassifier is deprecated, use Sci-Keras (https://github.com/adriangb/scikeras) instead. See https://www.adriangb.com/scikeras/stable/migration.html for help migrating.\n",
      "  model = KerasClassifier(build_fn=model_to_optimize,\n"
     ]
    }
   ],
   "source": [
    "from tensorflow.keras.wrappers.scikit_learn import KerasClassifier\n",
    "model = KerasClassifier(build_fn=model_to_optimize,\n",
    "                        epochs=20,\n",
    "                        batch_size=10,\n",
    "                        verbose=False\n",
    ")"
   ]
  },
  {
   "cell_type": "code",
   "execution_count": 98,
   "id": "7d32a2df",
   "metadata": {},
   "outputs": [
    {
     "name": "stdout",
     "output_type": "stream",
     "text": [
      "Fitting 5 folds for each of 16 candidates, totalling 80 fits\n"
     ]
    }
   ],
   "source": [
    "from sklearn.model_selection import GridSearchCV\n",
    "gridSearch = GridSearchCV(estimator=model, param_grid=params,\n",
    "                              cv=5, verbose=1)\n",
    "search_result = gridSearch.fit(X_train_tensor, y_train)"
   ]
  },
  {
   "cell_type": "code",
   "execution_count": 99,
   "id": "a85401f5",
   "metadata": {},
   "outputs": [],
   "source": [
    "test_accuracy = gridSearch.score(X_test_tensor, y_test)"
   ]
  },
  {
   "cell_type": "code",
   "execution_count": 100,
   "id": "e58f9840",
   "metadata": {
    "scrolled": true
   },
   "outputs": [
    {
     "data": {
      "text/plain": [
       "0.8534136414527893"
      ]
     },
     "execution_count": 100,
     "metadata": {},
     "output_type": "execute_result"
    }
   ],
   "source": [
    "test_accuracy"
   ]
  },
  {
   "cell_type": "code",
   "execution_count": 101,
   "id": "952fda67",
   "metadata": {},
   "outputs": [
    {
     "data": {
      "text/plain": [
       "{'kernel_size': 3, 'num_filters': 128}"
      ]
     },
     "execution_count": 101,
     "metadata": {},
     "output_type": "execute_result"
    }
   ],
   "source": [
    "gridSearch.best_params_"
   ]
  },
  {
   "cell_type": "code",
   "execution_count": 102,
   "id": "c430ffd8",
   "metadata": {},
   "outputs": [
    {
     "data": {
      "text/html": [
       "<div>\n",
       "<style scoped>\n",
       "    .dataframe tbody tr th:only-of-type {\n",
       "        vertical-align: middle;\n",
       "    }\n",
       "\n",
       "    .dataframe tbody tr th {\n",
       "        vertical-align: top;\n",
       "    }\n",
       "\n",
       "    .dataframe thead th {\n",
       "        text-align: right;\n",
       "    }\n",
       "</style>\n",
       "<table border=\"1\" class=\"dataframe\">\n",
       "  <thead>\n",
       "    <tr style=\"text-align: right;\">\n",
       "      <th></th>\n",
       "      <th>mean_fit_time</th>\n",
       "      <th>std_fit_time</th>\n",
       "      <th>mean_score_time</th>\n",
       "      <th>std_score_time</th>\n",
       "      <th>param_kernel_size</th>\n",
       "      <th>param_num_filters</th>\n",
       "      <th>params</th>\n",
       "      <th>split0_test_score</th>\n",
       "      <th>split1_test_score</th>\n",
       "      <th>split2_test_score</th>\n",
       "      <th>split3_test_score</th>\n",
       "      <th>split4_test_score</th>\n",
       "      <th>mean_test_score</th>\n",
       "      <th>std_test_score</th>\n",
       "      <th>rank_test_score</th>\n",
       "    </tr>\n",
       "  </thead>\n",
       "  <tbody>\n",
       "    <tr>\n",
       "      <th>0</th>\n",
       "      <td>8.114916</td>\n",
       "      <td>0.191608</td>\n",
       "      <td>0.149137</td>\n",
       "      <td>0.003665</td>\n",
       "      <td>3</td>\n",
       "      <td>32</td>\n",
       "      <td>{'kernel_size': 3, 'num_filters': 32}</td>\n",
       "      <td>0.881089</td>\n",
       "      <td>0.869440</td>\n",
       "      <td>0.868006</td>\n",
       "      <td>0.857963</td>\n",
       "      <td>0.895265</td>\n",
       "      <td>0.874353</td>\n",
       "      <td>0.012773</td>\n",
       "      <td>9</td>\n",
       "    </tr>\n",
       "    <tr>\n",
       "      <th>1</th>\n",
       "      <td>9.824879</td>\n",
       "      <td>0.142880</td>\n",
       "      <td>0.155389</td>\n",
       "      <td>0.002391</td>\n",
       "      <td>3</td>\n",
       "      <td>64</td>\n",
       "      <td>{'kernel_size': 3, 'num_filters': 64}</td>\n",
       "      <td>0.881089</td>\n",
       "      <td>0.882353</td>\n",
       "      <td>0.860832</td>\n",
       "      <td>0.860832</td>\n",
       "      <td>0.896700</td>\n",
       "      <td>0.876361</td>\n",
       "      <td>0.013815</td>\n",
       "      <td>4</td>\n",
       "    </tr>\n",
       "    <tr>\n",
       "      <th>2</th>\n",
       "      <td>11.625597</td>\n",
       "      <td>0.360465</td>\n",
       "      <td>0.166929</td>\n",
       "      <td>0.008813</td>\n",
       "      <td>3</td>\n",
       "      <td>128</td>\n",
       "      <td>{'kernel_size': 3, 'num_filters': 128}</td>\n",
       "      <td>0.888252</td>\n",
       "      <td>0.888092</td>\n",
       "      <td>0.873745</td>\n",
       "      <td>0.875179</td>\n",
       "      <td>0.903874</td>\n",
       "      <td>0.885828</td>\n",
       "      <td>0.010918</td>\n",
       "      <td>1</td>\n",
       "    </tr>\n",
       "    <tr>\n",
       "      <th>3</th>\n",
       "      <td>16.275176</td>\n",
       "      <td>0.130580</td>\n",
       "      <td>0.178236</td>\n",
       "      <td>0.004668</td>\n",
       "      <td>3</td>\n",
       "      <td>256</td>\n",
       "      <td>{'kernel_size': 3, 'num_filters': 256}</td>\n",
       "      <td>0.882522</td>\n",
       "      <td>0.889527</td>\n",
       "      <td>0.868006</td>\n",
       "      <td>0.872310</td>\n",
       "      <td>0.909613</td>\n",
       "      <td>0.884395</td>\n",
       "      <td>0.014700</td>\n",
       "      <td>2</td>\n",
       "    </tr>\n",
       "    <tr>\n",
       "      <th>4</th>\n",
       "      <td>12.731563</td>\n",
       "      <td>0.101880</td>\n",
       "      <td>0.166590</td>\n",
       "      <td>0.001389</td>\n",
       "      <td>5</td>\n",
       "      <td>32</td>\n",
       "      <td>{'kernel_size': 5, 'num_filters': 32}</td>\n",
       "      <td>0.876791</td>\n",
       "      <td>0.868006</td>\n",
       "      <td>0.859397</td>\n",
       "      <td>0.866571</td>\n",
       "      <td>0.878049</td>\n",
       "      <td>0.869763</td>\n",
       "      <td>0.006910</td>\n",
       "      <td>15</td>\n",
       "    </tr>\n",
       "    <tr>\n",
       "      <th>5</th>\n",
       "      <td>14.801362</td>\n",
       "      <td>0.160546</td>\n",
       "      <td>0.174423</td>\n",
       "      <td>0.003364</td>\n",
       "      <td>5</td>\n",
       "      <td>64</td>\n",
       "      <td>{'kernel_size': 5, 'num_filters': 64}</td>\n",
       "      <td>0.873926</td>\n",
       "      <td>0.857963</td>\n",
       "      <td>0.863702</td>\n",
       "      <td>0.866571</td>\n",
       "      <td>0.896700</td>\n",
       "      <td>0.871772</td>\n",
       "      <td>0.013483</td>\n",
       "      <td>13</td>\n",
       "    </tr>\n",
       "    <tr>\n",
       "      <th>6</th>\n",
       "      <td>17.956002</td>\n",
       "      <td>0.870288</td>\n",
       "      <td>0.189532</td>\n",
       "      <td>0.005728</td>\n",
       "      <td>5</td>\n",
       "      <td>128</td>\n",
       "      <td>{'kernel_size': 5, 'num_filters': 128}</td>\n",
       "      <td>0.878223</td>\n",
       "      <td>0.872310</td>\n",
       "      <td>0.865136</td>\n",
       "      <td>0.878049</td>\n",
       "      <td>0.889527</td>\n",
       "      <td>0.876649</td>\n",
       "      <td>0.008020</td>\n",
       "      <td>3</td>\n",
       "    </tr>\n",
       "    <tr>\n",
       "      <th>7</th>\n",
       "      <td>24.091173</td>\n",
       "      <td>0.236525</td>\n",
       "      <td>0.212773</td>\n",
       "      <td>0.005939</td>\n",
       "      <td>5</td>\n",
       "      <td>256</td>\n",
       "      <td>{'kernel_size': 5, 'num_filters': 256}</td>\n",
       "      <td>0.876791</td>\n",
       "      <td>0.872310</td>\n",
       "      <td>0.856528</td>\n",
       "      <td>0.872310</td>\n",
       "      <td>0.902439</td>\n",
       "      <td>0.876076</td>\n",
       "      <td>0.014873</td>\n",
       "      <td>5</td>\n",
       "    </tr>\n",
       "    <tr>\n",
       "      <th>8</th>\n",
       "      <td>14.694341</td>\n",
       "      <td>0.028227</td>\n",
       "      <td>0.173734</td>\n",
       "      <td>0.005261</td>\n",
       "      <td>7</td>\n",
       "      <td>32</td>\n",
       "      <td>{'kernel_size': 7, 'num_filters': 32}</td>\n",
       "      <td>0.868195</td>\n",
       "      <td>0.868006</td>\n",
       "      <td>0.846485</td>\n",
       "      <td>0.855093</td>\n",
       "      <td>0.886657</td>\n",
       "      <td>0.864887</td>\n",
       "      <td>0.013632</td>\n",
       "      <td>16</td>\n",
       "    </tr>\n",
       "    <tr>\n",
       "      <th>9</th>\n",
       "      <td>17.363427</td>\n",
       "      <td>0.112993</td>\n",
       "      <td>0.178222</td>\n",
       "      <td>0.000826</td>\n",
       "      <td>7</td>\n",
       "      <td>64</td>\n",
       "      <td>{'kernel_size': 7, 'num_filters': 64}</td>\n",
       "      <td>0.878223</td>\n",
       "      <td>0.875179</td>\n",
       "      <td>0.857963</td>\n",
       "      <td>0.866571</td>\n",
       "      <td>0.896700</td>\n",
       "      <td>0.874927</td>\n",
       "      <td>0.012982</td>\n",
       "      <td>6</td>\n",
       "    </tr>\n",
       "    <tr>\n",
       "      <th>10</th>\n",
       "      <td>21.191167</td>\n",
       "      <td>0.446567</td>\n",
       "      <td>0.196621</td>\n",
       "      <td>0.003797</td>\n",
       "      <td>7</td>\n",
       "      <td>128</td>\n",
       "      <td>{'kernel_size': 7, 'num_filters': 128}</td>\n",
       "      <td>0.871060</td>\n",
       "      <td>0.875179</td>\n",
       "      <td>0.860832</td>\n",
       "      <td>0.866571</td>\n",
       "      <td>0.898135</td>\n",
       "      <td>0.874356</td>\n",
       "      <td>0.012810</td>\n",
       "      <td>7</td>\n",
       "    </tr>\n",
       "    <tr>\n",
       "      <th>11</th>\n",
       "      <td>28.999810</td>\n",
       "      <td>0.403966</td>\n",
       "      <td>0.229161</td>\n",
       "      <td>0.007919</td>\n",
       "      <td>7</td>\n",
       "      <td>256</td>\n",
       "      <td>{'kernel_size': 7, 'num_filters': 256}</td>\n",
       "      <td>0.872493</td>\n",
       "      <td>0.873745</td>\n",
       "      <td>0.859397</td>\n",
       "      <td>0.873745</td>\n",
       "      <td>0.890961</td>\n",
       "      <td>0.874068</td>\n",
       "      <td>0.010033</td>\n",
       "      <td>10</td>\n",
       "    </tr>\n",
       "    <tr>\n",
       "      <th>12</th>\n",
       "      <td>16.997334</td>\n",
       "      <td>0.061141</td>\n",
       "      <td>0.180129</td>\n",
       "      <td>0.004072</td>\n",
       "      <td>9</td>\n",
       "      <td>32</td>\n",
       "      <td>{'kernel_size': 9, 'num_filters': 32}</td>\n",
       "      <td>0.878223</td>\n",
       "      <td>0.873745</td>\n",
       "      <td>0.860832</td>\n",
       "      <td>0.866571</td>\n",
       "      <td>0.889527</td>\n",
       "      <td>0.873780</td>\n",
       "      <td>0.009872</td>\n",
       "      <td>12</td>\n",
       "    </tr>\n",
       "    <tr>\n",
       "      <th>13</th>\n",
       "      <td>19.690763</td>\n",
       "      <td>0.118987</td>\n",
       "      <td>0.199483</td>\n",
       "      <td>0.014693</td>\n",
       "      <td>9</td>\n",
       "      <td>64</td>\n",
       "      <td>{'kernel_size': 9, 'num_filters': 64}</td>\n",
       "      <td>0.868195</td>\n",
       "      <td>0.863702</td>\n",
       "      <td>0.860832</td>\n",
       "      <td>0.856528</td>\n",
       "      <td>0.899570</td>\n",
       "      <td>0.869765</td>\n",
       "      <td>0.015379</td>\n",
       "      <td>14</td>\n",
       "    </tr>\n",
       "    <tr>\n",
       "      <th>14</th>\n",
       "      <td>25.588975</td>\n",
       "      <td>1.423767</td>\n",
       "      <td>0.218072</td>\n",
       "      <td>0.012415</td>\n",
       "      <td>9</td>\n",
       "      <td>128</td>\n",
       "      <td>{'kernel_size': 9, 'num_filters': 128}</td>\n",
       "      <td>0.875358</td>\n",
       "      <td>0.875179</td>\n",
       "      <td>0.857963</td>\n",
       "      <td>0.865136</td>\n",
       "      <td>0.896700</td>\n",
       "      <td>0.874067</td>\n",
       "      <td>0.013071</td>\n",
       "      <td>11</td>\n",
       "    </tr>\n",
       "    <tr>\n",
       "      <th>15</th>\n",
       "      <td>32.931356</td>\n",
       "      <td>0.956677</td>\n",
       "      <td>0.321924</td>\n",
       "      <td>0.145515</td>\n",
       "      <td>9</td>\n",
       "      <td>256</td>\n",
       "      <td>{'kernel_size': 9, 'num_filters': 256}</td>\n",
       "      <td>0.872493</td>\n",
       "      <td>0.873745</td>\n",
       "      <td>0.857963</td>\n",
       "      <td>0.868006</td>\n",
       "      <td>0.899570</td>\n",
       "      <td>0.874355</td>\n",
       "      <td>0.013774</td>\n",
       "      <td>8</td>\n",
       "    </tr>\n",
       "  </tbody>\n",
       "</table>\n",
       "</div>"
      ],
      "text/plain": [
       "    mean_fit_time  std_fit_time  mean_score_time  std_score_time  \\\n",
       "0        8.114916      0.191608         0.149137        0.003665   \n",
       "1        9.824879      0.142880         0.155389        0.002391   \n",
       "2       11.625597      0.360465         0.166929        0.008813   \n",
       "3       16.275176      0.130580         0.178236        0.004668   \n",
       "4       12.731563      0.101880         0.166590        0.001389   \n",
       "5       14.801362      0.160546         0.174423        0.003364   \n",
       "6       17.956002      0.870288         0.189532        0.005728   \n",
       "7       24.091173      0.236525         0.212773        0.005939   \n",
       "8       14.694341      0.028227         0.173734        0.005261   \n",
       "9       17.363427      0.112993         0.178222        0.000826   \n",
       "10      21.191167      0.446567         0.196621        0.003797   \n",
       "11      28.999810      0.403966         0.229161        0.007919   \n",
       "12      16.997334      0.061141         0.180129        0.004072   \n",
       "13      19.690763      0.118987         0.199483        0.014693   \n",
       "14      25.588975      1.423767         0.218072        0.012415   \n",
       "15      32.931356      0.956677         0.321924        0.145515   \n",
       "\n",
       "   param_kernel_size param_num_filters  \\\n",
       "0                  3                32   \n",
       "1                  3                64   \n",
       "2                  3               128   \n",
       "3                  3               256   \n",
       "4                  5                32   \n",
       "5                  5                64   \n",
       "6                  5               128   \n",
       "7                  5               256   \n",
       "8                  7                32   \n",
       "9                  7                64   \n",
       "10                 7               128   \n",
       "11                 7               256   \n",
       "12                 9                32   \n",
       "13                 9                64   \n",
       "14                 9               128   \n",
       "15                 9               256   \n",
       "\n",
       "                                    params  split0_test_score  \\\n",
       "0    {'kernel_size': 3, 'num_filters': 32}           0.881089   \n",
       "1    {'kernel_size': 3, 'num_filters': 64}           0.881089   \n",
       "2   {'kernel_size': 3, 'num_filters': 128}           0.888252   \n",
       "3   {'kernel_size': 3, 'num_filters': 256}           0.882522   \n",
       "4    {'kernel_size': 5, 'num_filters': 32}           0.876791   \n",
       "5    {'kernel_size': 5, 'num_filters': 64}           0.873926   \n",
       "6   {'kernel_size': 5, 'num_filters': 128}           0.878223   \n",
       "7   {'kernel_size': 5, 'num_filters': 256}           0.876791   \n",
       "8    {'kernel_size': 7, 'num_filters': 32}           0.868195   \n",
       "9    {'kernel_size': 7, 'num_filters': 64}           0.878223   \n",
       "10  {'kernel_size': 7, 'num_filters': 128}           0.871060   \n",
       "11  {'kernel_size': 7, 'num_filters': 256}           0.872493   \n",
       "12   {'kernel_size': 9, 'num_filters': 32}           0.878223   \n",
       "13   {'kernel_size': 9, 'num_filters': 64}           0.868195   \n",
       "14  {'kernel_size': 9, 'num_filters': 128}           0.875358   \n",
       "15  {'kernel_size': 9, 'num_filters': 256}           0.872493   \n",
       "\n",
       "    split1_test_score  split2_test_score  split3_test_score  \\\n",
       "0            0.869440           0.868006           0.857963   \n",
       "1            0.882353           0.860832           0.860832   \n",
       "2            0.888092           0.873745           0.875179   \n",
       "3            0.889527           0.868006           0.872310   \n",
       "4            0.868006           0.859397           0.866571   \n",
       "5            0.857963           0.863702           0.866571   \n",
       "6            0.872310           0.865136           0.878049   \n",
       "7            0.872310           0.856528           0.872310   \n",
       "8            0.868006           0.846485           0.855093   \n",
       "9            0.875179           0.857963           0.866571   \n",
       "10           0.875179           0.860832           0.866571   \n",
       "11           0.873745           0.859397           0.873745   \n",
       "12           0.873745           0.860832           0.866571   \n",
       "13           0.863702           0.860832           0.856528   \n",
       "14           0.875179           0.857963           0.865136   \n",
       "15           0.873745           0.857963           0.868006   \n",
       "\n",
       "    split4_test_score  mean_test_score  std_test_score  rank_test_score  \n",
       "0            0.895265         0.874353        0.012773                9  \n",
       "1            0.896700         0.876361        0.013815                4  \n",
       "2            0.903874         0.885828        0.010918                1  \n",
       "3            0.909613         0.884395        0.014700                2  \n",
       "4            0.878049         0.869763        0.006910               15  \n",
       "5            0.896700         0.871772        0.013483               13  \n",
       "6            0.889527         0.876649        0.008020                3  \n",
       "7            0.902439         0.876076        0.014873                5  \n",
       "8            0.886657         0.864887        0.013632               16  \n",
       "9            0.896700         0.874927        0.012982                6  \n",
       "10           0.898135         0.874356        0.012810                7  \n",
       "11           0.890961         0.874068        0.010033               10  \n",
       "12           0.889527         0.873780        0.009872               12  \n",
       "13           0.899570         0.869765        0.015379               14  \n",
       "14           0.896700         0.874067        0.013071               11  \n",
       "15           0.899570         0.874355        0.013774                8  "
      ]
     },
     "execution_count": 102,
     "metadata": {},
     "output_type": "execute_result"
    }
   ],
   "source": [
    "pd.DataFrame(gridSearch.cv_results_)"
   ]
  },
  {
   "cell_type": "code",
   "execution_count": 108,
   "id": "e100eab8",
   "metadata": {},
   "outputs": [],
   "source": [
    "from sklearn.metrics import *"
   ]
  },
  {
   "cell_type": "code",
   "execution_count": 109,
   "id": "c432d5d3",
   "metadata": {
    "scrolled": true
   },
   "outputs": [
    {
     "name": "stdout",
     "output_type": "stream",
     "text": [
      "F1 Score: 0.9173272933182334\n"
     ]
    }
   ],
   "source": [
    "print(\"F1 Score: {}\".format(f1_score(y_test,gridSearch.predict(X_test_tensor))))"
   ]
  },
  {
   "cell_type": "code",
   "execution_count": 110,
   "id": "f3f8cbd7",
   "metadata": {},
   "outputs": [
    {
     "name": "stdout",
     "output_type": "stream",
     "text": [
      "Recall Score: 0.9612341772151899\n"
     ]
    }
   ],
   "source": [
    "print(\"Recall Score: {}\".format(recall_score(y_test,gridSearch.predict(X_test_tensor))))"
   ]
  },
  {
   "cell_type": "code",
   "execution_count": 112,
   "id": "3dd4b951",
   "metadata": {},
   "outputs": [
    {
     "name": "stdout",
     "output_type": "stream",
     "text": [
      "Precision score: 0.8772563176895307\n"
     ]
    }
   ],
   "source": [
    "print(\"Precision score: {}\".format(precision_score(y_test,gridSearch.predict(X_test_tensor))))"
   ]
  },
  {
   "cell_type": "code",
   "execution_count": 113,
   "id": "20004fab",
   "metadata": {},
   "outputs": [
    {
     "name": "stdout",
     "output_type": "stream",
     "text": [
      "Model: \"sequential_82\"\n",
      "_________________________________________________________________\n",
      " Layer (type)                Output Shape              Param #   \n",
      "=================================================================\n",
      " embedding (Embedding)       (None, 100, 100)          726300    \n",
      "                                                                 \n",
      " lstm (LSTM)                 (None, 100)               80400     \n",
      "                                                                 \n",
      " dense_164 (Dense)           (None, 200)               20200     \n",
      "                                                                 \n",
      " dropout (Dropout)           (None, 200)               0         \n",
      "                                                                 \n",
      " dense_165 (Dense)           (None, 100)               20100     \n",
      "                                                                 \n",
      " dropout_1 (Dropout)         (None, 100)               0         \n",
      "                                                                 \n",
      " dense_166 (Dense)           (None, 50)                5050      \n",
      "                                                                 \n",
      " dense_167 (Dense)           (None, 10)                510       \n",
      "                                                                 \n",
      "=================================================================\n",
      "Total params: 852,560\n",
      "Trainable params: 126,260\n",
      "Non-trainable params: 726,300\n",
      "_________________________________________________________________\n"
     ]
    }
   ],
   "source": [
    "model2 = Sequential()\n",
    "\n",
    "\n",
    "\n",
    "model2.add(embedding_layer)\n",
    "\n",
    "model2.add(LSTM(100, input_shape=(100,), activation='tanh'))\n",
    "\n",
    "model2.add(Dense(200, activation='relu'))\n",
    "model2.add(Dropout(0.3))\n",
    "model2.add(Dense(100, activation = \"relu\"))\n",
    "model2.add(Dropout(0.3))\n",
    "model2.add(Dense(50, activation = \"relu\"))\n",
    "\n",
    "model2.add(Dense(10, activation='sigmoid'))\n",
    "model2.summary()"
   ]
  },
  {
   "cell_type": "code",
   "execution_count": 114,
   "id": "79b164fb",
   "metadata": {},
   "outputs": [],
   "source": [
    "model2.compile(\n",
    " optimizer = \"adam\",\n",
    " loss = \"sparse_categorical_crossentropy\",\n",
    " metrics = [\"accuracy\"]\n",
    ")"
   ]
  },
  {
   "cell_type": "code",
   "execution_count": 115,
   "id": "503f6bb6",
   "metadata": {},
   "outputs": [
    {
     "name": "stdout",
     "output_type": "stream",
     "text": [
      "Epoch 1/10\n",
      "349/349 [==============================] - 11s 27ms/step - loss: 0.5224 - accuracy: 0.8497 - val_loss: 0.4409 - val_accuracy: 0.8461\n",
      "Epoch 2/10\n",
      "349/349 [==============================] - 9s 26ms/step - loss: 0.4005 - accuracy: 0.8689 - val_loss: 0.4279 - val_accuracy: 0.8461\n",
      "Epoch 3/10\n",
      "349/349 [==============================] - 9s 26ms/step - loss: 0.4025 - accuracy: 0.8689 - val_loss: 0.4307 - val_accuracy: 0.8461\n",
      "Epoch 4/10\n",
      "349/349 [==============================] - 9s 26ms/step - loss: 0.3955 - accuracy: 0.8689 - val_loss: 0.4363 - val_accuracy: 0.8461\n",
      "Epoch 5/10\n",
      "349/349 [==============================] - 9s 26ms/step - loss: 0.3897 - accuracy: 0.8689 - val_loss: 0.4285 - val_accuracy: 0.8461\n",
      "Epoch 6/10\n",
      "349/349 [==============================] - 9s 26ms/step - loss: 0.3896 - accuracy: 0.8689 - val_loss: 0.4300 - val_accuracy: 0.8461\n",
      "Epoch 7/10\n",
      "349/349 [==============================] - 9s 26ms/step - loss: 0.3874 - accuracy: 0.8689 - val_loss: 0.4365 - val_accuracy: 0.8461\n",
      "Epoch 8/10\n",
      "349/349 [==============================] - 9s 26ms/step - loss: 0.3812 - accuracy: 0.8689 - val_loss: 0.4282 - val_accuracy: 0.8461\n",
      "Epoch 9/10\n",
      "349/349 [==============================] - 9s 26ms/step - loss: 0.3821 - accuracy: 0.8692 - val_loss: 0.4356 - val_accuracy: 0.8461\n",
      "Epoch 10/10\n",
      "349/349 [==============================] - 9s 26ms/step - loss: 0.3637 - accuracy: 0.8715 - val_loss: 0.4225 - val_accuracy: 0.8427\n"
     ]
    }
   ],
   "source": [
    "results = model2.fit(\n",
    " X_train_tensor, y_train,\n",
    " epochs= 10,\n",
    " batch_size = 10,\n",
    " validation_data = (X_test_tensor, y_test)\n",
    ")"
   ]
  },
  {
   "cell_type": "code",
   "execution_count": 116,
   "id": "d5ebc2d7",
   "metadata": {},
   "outputs": [
    {
     "name": "stdout",
     "output_type": "stream",
     "text": [
      "47/47 [==============================] - 1s 13ms/step - loss: 0.4225 - accuracy: 0.8427\n",
      "Testing Accuracy is 84.2704176902771 \n"
     ]
    }
   ],
   "source": [
    "loss, accuracy = model2.evaluate(X_test_tensor,y_test)\n",
    "print('Testing Accuracy is {} '.format(accuracy*100))"
   ]
  },
  {
   "cell_type": "markdown",
   "id": "b2811a83",
   "metadata": {},
   "source": [
    "## Tunning de Parametros"
   ]
  },
  {
   "cell_type": "code",
   "execution_count": 174,
   "id": "e59ce487",
   "metadata": {},
   "outputs": [],
   "source": [
    "def model_to_optimize_lstm(units):\n",
    "    model = Sequential([\n",
    "      embedding_layer,\n",
    "      LSTM(units, input_shape=(100,), activation='tanh'),\n",
    "      Dense(200, activation='relu'),\n",
    "      Dropout(0.3),\n",
    "      Dense(100, activation = \"relu\"),\n",
    "      Dropout(0.3),\n",
    "      Dense(50, activation = \"relu\"),\n",
    "      Dense(1, activation='sigmoid')\n",
    "      ])\n",
    "    model.compile(loss='binary_crossentropy',optimizer='adam',metrics=['accuracy'])\n",
    "    return model"
   ]
  },
  {
   "cell_type": "code",
   "execution_count": 175,
   "id": "582b0341",
   "metadata": {},
   "outputs": [],
   "source": [
    "params2 = {\n",
    "    \"units\": [100, 200, 300],\n",
    "}"
   ]
  },
  {
   "cell_type": "code",
   "execution_count": 176,
   "id": "b5a01d74",
   "metadata": {},
   "outputs": [
    {
     "name": "stderr",
     "output_type": "stream",
     "text": [
      "C:\\Users\\ton2\\AppData\\Local\\Temp/ipykernel_19484/2677964288.py:3: DeprecationWarning: KerasClassifier is deprecated, use Sci-Keras (https://github.com/adriangb/scikeras) instead. See https://www.adriangb.com/scikeras/stable/migration.html for help migrating.\n",
      "  model2 = KerasClassifier(build_fn=model_to_optimize_lstm,\n"
     ]
    }
   ],
   "source": [
    "from tensorflow.keras.wrappers.scikit_learn import KerasClassifier\n",
    "\n",
    "model2 = KerasClassifier(build_fn=model_to_optimize_lstm,\n",
    "                        epochs=10,\n",
    "                        batch_size=10,\n",
    "                        verbose=False\n",
    ")"
   ]
  },
  {
   "cell_type": "code",
   "execution_count": 177,
   "id": "4bb9fa8d",
   "metadata": {},
   "outputs": [
    {
     "name": "stdout",
     "output_type": "stream",
     "text": [
      "Fitting 5 folds for each of 3 candidates, totalling 15 fits\n"
     ]
    }
   ],
   "source": [
    "from sklearn.model_selection import GridSearchCV\n",
    "\n",
    "gridSearch2 = GridSearchCV(estimator=model2, param_grid=params2,\n",
    "                              cv=5, verbose=1)\n",
    "search_result = gridSearch2.fit(X_train_tensor, y_train)"
   ]
  },
  {
   "cell_type": "code",
   "execution_count": 178,
   "id": "158f0534",
   "metadata": {},
   "outputs": [],
   "source": [
    "test_accuracy = gridSearch2.score(X_test_tensor, y_test)"
   ]
  },
  {
   "cell_type": "code",
   "execution_count": 179,
   "id": "d37aea08",
   "metadata": {},
   "outputs": [
    {
     "data": {
      "text/plain": [
       "0.8253012299537659"
      ]
     },
     "execution_count": 179,
     "metadata": {},
     "output_type": "execute_result"
    }
   ],
   "source": [
    "test_accuracy"
   ]
  },
  {
   "cell_type": "code",
   "execution_count": 180,
   "id": "242ae088",
   "metadata": {},
   "outputs": [
    {
     "data": {
      "text/plain": [
       "{'units': 100}"
      ]
     },
     "execution_count": 180,
     "metadata": {},
     "output_type": "execute_result"
    }
   ],
   "source": [
    "gridSearch2.best_params_"
   ]
  },
  {
   "cell_type": "code",
   "execution_count": 181,
   "id": "e9dd1514",
   "metadata": {},
   "outputs": [
    {
     "data": {
      "text/html": [
       "<div>\n",
       "<style scoped>\n",
       "    .dataframe tbody tr th:only-of-type {\n",
       "        vertical-align: middle;\n",
       "    }\n",
       "\n",
       "    .dataframe tbody tr th {\n",
       "        vertical-align: top;\n",
       "    }\n",
       "\n",
       "    .dataframe thead th {\n",
       "        text-align: right;\n",
       "    }\n",
       "</style>\n",
       "<table border=\"1\" class=\"dataframe\">\n",
       "  <thead>\n",
       "    <tr style=\"text-align: right;\">\n",
       "      <th></th>\n",
       "      <th>mean_fit_time</th>\n",
       "      <th>std_fit_time</th>\n",
       "      <th>mean_score_time</th>\n",
       "      <th>std_score_time</th>\n",
       "      <th>param_units</th>\n",
       "      <th>params</th>\n",
       "      <th>split0_test_score</th>\n",
       "      <th>split1_test_score</th>\n",
       "      <th>split2_test_score</th>\n",
       "      <th>split3_test_score</th>\n",
       "      <th>split4_test_score</th>\n",
       "      <th>mean_test_score</th>\n",
       "      <th>std_test_score</th>\n",
       "      <th>rank_test_score</th>\n",
       "    </tr>\n",
       "  </thead>\n",
       "  <tbody>\n",
       "    <tr>\n",
       "      <th>0</th>\n",
       "      <td>81.920205</td>\n",
       "      <td>5.259111</td>\n",
       "      <td>0.868319</td>\n",
       "      <td>0.011761</td>\n",
       "      <td>100</td>\n",
       "      <td>{'units': 100}</td>\n",
       "      <td>0.856734</td>\n",
       "      <td>0.857963</td>\n",
       "      <td>0.843615</td>\n",
       "      <td>0.849354</td>\n",
       "      <td>0.882353</td>\n",
       "      <td>0.858004</td>\n",
       "      <td>0.013239</td>\n",
       "      <td>1</td>\n",
       "    </tr>\n",
       "    <tr>\n",
       "      <th>1</th>\n",
       "      <td>121.457892</td>\n",
       "      <td>4.642684</td>\n",
       "      <td>1.370703</td>\n",
       "      <td>0.082183</td>\n",
       "      <td>200</td>\n",
       "      <td>{'units': 200}</td>\n",
       "      <td>0.861032</td>\n",
       "      <td>0.862267</td>\n",
       "      <td>0.833572</td>\n",
       "      <td>0.849354</td>\n",
       "      <td>0.870875</td>\n",
       "      <td>0.855420</td>\n",
       "      <td>0.012894</td>\n",
       "      <td>3</td>\n",
       "    </tr>\n",
       "    <tr>\n",
       "      <th>2</th>\n",
       "      <td>237.851348</td>\n",
       "      <td>3.911870</td>\n",
       "      <td>2.059389</td>\n",
       "      <td>0.080144</td>\n",
       "      <td>300</td>\n",
       "      <td>{'units': 300}</td>\n",
       "      <td>0.838109</td>\n",
       "      <td>0.859397</td>\n",
       "      <td>0.847920</td>\n",
       "      <td>0.839311</td>\n",
       "      <td>0.893831</td>\n",
       "      <td>0.855714</td>\n",
       "      <td>0.020524</td>\n",
       "      <td>2</td>\n",
       "    </tr>\n",
       "  </tbody>\n",
       "</table>\n",
       "</div>"
      ],
      "text/plain": [
       "   mean_fit_time  std_fit_time  mean_score_time  std_score_time param_units  \\\n",
       "0      81.920205      5.259111         0.868319        0.011761         100   \n",
       "1     121.457892      4.642684         1.370703        0.082183         200   \n",
       "2     237.851348      3.911870         2.059389        0.080144         300   \n",
       "\n",
       "           params  split0_test_score  split1_test_score  split2_test_score  \\\n",
       "0  {'units': 100}           0.856734           0.857963           0.843615   \n",
       "1  {'units': 200}           0.861032           0.862267           0.833572   \n",
       "2  {'units': 300}           0.838109           0.859397           0.847920   \n",
       "\n",
       "   split3_test_score  split4_test_score  mean_test_score  std_test_score  \\\n",
       "0           0.849354           0.882353         0.858004        0.013239   \n",
       "1           0.849354           0.870875         0.855420        0.012894   \n",
       "2           0.839311           0.893831         0.855714        0.020524   \n",
       "\n",
       "   rank_test_score  \n",
       "0                1  \n",
       "1                3  \n",
       "2                2  "
      ]
     },
     "execution_count": 181,
     "metadata": {},
     "output_type": "execute_result"
    }
   ],
   "source": [
    "pd.DataFrame(gridSearch2.cv_results_)"
   ]
  },
  {
   "cell_type": "code",
   "execution_count": 182,
   "id": "e3b192c2",
   "metadata": {},
   "outputs": [
    {
     "name": "stdout",
     "output_type": "stream",
     "text": [
      "F1 Score: 0.9032258064516129\n"
     ]
    }
   ],
   "source": [
    "print(\"F1 Score: {}\".format(f1_score(y_test,gridSearch2.predict(X_test_tensor))))"
   ]
  },
  {
   "cell_type": "code",
   "execution_count": 183,
   "id": "3a954d2a",
   "metadata": {},
   "outputs": [
    {
     "name": "stdout",
     "output_type": "stream",
     "text": [
      "Recall Score: 0.9636075949367089\n"
     ]
    }
   ],
   "source": [
    "print(\"Recall Score: {}\".format(recall_score(y_test,gridSearch2.predict(X_test_tensor))))"
   ]
  },
  {
   "cell_type": "code",
   "execution_count": 184,
   "id": "ba696a24",
   "metadata": {},
   "outputs": [
    {
     "name": "stdout",
     "output_type": "stream",
     "text": [
      "Precision score: 0.8499651081646895\n"
     ]
    }
   ],
   "source": [
    "print(\"Precision score: {}\".format(precision_score(y_test,gridSearch2.predict(X_test_tensor))))"
   ]
  }
 ],
 "metadata": {
  "kernelspec": {
   "display_name": "Python 3 (ipykernel)",
   "language": "python",
   "name": "python3"
  },
  "language_info": {
   "codemirror_mode": {
    "name": "ipython",
    "version": 3
   },
   "file_extension": ".py",
   "mimetype": "text/x-python",
   "name": "python",
   "nbconvert_exporter": "python",
   "pygments_lexer": "ipython3",
   "version": "3.9.7"
  }
 },
 "nbformat": 4,
 "nbformat_minor": 5
}
